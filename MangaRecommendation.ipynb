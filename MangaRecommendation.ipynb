{
 "cells": [
  {
   "cell_type": "code",
   "execution_count": 1,
   "metadata": {},
   "outputs": [],
   "source": [
    "import numpy as np\n",
    "import pandas as pd\n",
    "import ast\n",
    "import re\n",
    "import string\n",
    "\n",
    "from sklearn.feature_extraction.text import CountVectorizer\n",
    "from sklearn.metrics.pairwise import cosine_similarity\n",
    "\n",
    "import nltk\n",
    "from nltk.corpus import stopwords\n",
    "from nltk.tokenize import word_tokenize\n",
    "from nltk.stem import WordNetLemmatizer\n",
    "import pickle\n",
    "import gc\n",
    "import psutil\n",
    "from tqdm import tqdm\n",
    "import os"
   ]
  },
  {
   "cell_type": "code",
   "execution_count": 2,
   "metadata": {},
   "outputs": [
    {
     "name": "stderr",
     "output_type": "stream",
     "text": [
      "[nltk_data] Downloading package stopwords to\n",
      "[nltk_data]     C:\\Users\\wwwsh\\AppData\\Roaming\\nltk_data...\n",
      "[nltk_data]   Package stopwords is already up-to-date!\n",
      "[nltk_data] Downloading package punkt to\n",
      "[nltk_data]     C:\\Users\\wwwsh\\AppData\\Roaming\\nltk_data...\n",
      "[nltk_data]   Package punkt is already up-to-date!\n",
      "[nltk_data] Downloading package wordnet to\n",
      "[nltk_data]     C:\\Users\\wwwsh\\AppData\\Roaming\\nltk_data...\n",
      "[nltk_data]   Package wordnet is already up-to-date!\n"
     ]
    },
    {
     "data": {
      "text/plain": [
       "True"
      ]
     },
     "execution_count": 2,
     "metadata": {},
     "output_type": "execute_result"
    }
   ],
   "source": [
    "nltk.download(\"stopwords\")\n",
    "nltk.download(\"punkt\")\n",
    "nltk.download(\"wordnet\")"
   ]
  },
  {
   "cell_type": "code",
   "execution_count": 3,
   "metadata": {},
   "outputs": [],
   "source": [
    "pd.set_option(\"display.max_rows\", 200)\n",
    "pd.set_option(\"display.max_columns\", None)"
   ]
  },
  {
   "cell_type": "code",
   "execution_count": 4,
   "metadata": {},
   "outputs": [
    {
     "data": {
      "text/plain": [
       "Index(['manga_id', 'title', 'type', 'score', 'scored_by', 'status', 'volumes',\n",
       "       'chapters', 'start_date', 'end_date', 'members', 'favorites', 'sfw',\n",
       "       'approved', 'created_at_before', 'updated_at', 'real_start_date',\n",
       "       'real_end_date', 'genres', 'themes', 'demographics', 'authors',\n",
       "       'serializations', 'synopsis', 'background', 'main_picture', 'url',\n",
       "       'title_english', 'title_japanese', 'title_synonyms'],\n",
       "      dtype='object')"
      ]
     },
     "execution_count": 4,
     "metadata": {},
     "output_type": "execute_result"
    }
   ],
   "source": [
    "raw_data = pd.read_csv(\"manga_new.csv\")\n",
    "raw_data.columns"
   ]
  },
  {
   "cell_type": "code",
   "execution_count": 5,
   "metadata": {},
   "outputs": [
    {
     "data": {
      "text/html": [
       "<div>\n",
       "<style scoped>\n",
       "    .dataframe tbody tr th:only-of-type {\n",
       "        vertical-align: middle;\n",
       "    }\n",
       "\n",
       "    .dataframe tbody tr th {\n",
       "        vertical-align: top;\n",
       "    }\n",
       "\n",
       "    .dataframe thead th {\n",
       "        text-align: right;\n",
       "    }\n",
       "</style>\n",
       "<table border=\"1\" class=\"dataframe\">\n",
       "  <thead>\n",
       "    <tr style=\"text-align: right;\">\n",
       "      <th></th>\n",
       "      <th>manga_id</th>\n",
       "      <th>title</th>\n",
       "      <th>type</th>\n",
       "      <th>score</th>\n",
       "      <th>scored_by</th>\n",
       "      <th>status</th>\n",
       "      <th>volumes</th>\n",
       "      <th>chapters</th>\n",
       "      <th>start_date</th>\n",
       "      <th>end_date</th>\n",
       "      <th>members</th>\n",
       "      <th>favorites</th>\n",
       "      <th>sfw</th>\n",
       "      <th>approved</th>\n",
       "      <th>created_at_before</th>\n",
       "      <th>updated_at</th>\n",
       "      <th>real_start_date</th>\n",
       "      <th>real_end_date</th>\n",
       "      <th>genres</th>\n",
       "      <th>themes</th>\n",
       "      <th>demographics</th>\n",
       "      <th>authors</th>\n",
       "      <th>serializations</th>\n",
       "      <th>synopsis</th>\n",
       "      <th>background</th>\n",
       "      <th>main_picture</th>\n",
       "      <th>url</th>\n",
       "      <th>title_english</th>\n",
       "      <th>title_japanese</th>\n",
       "      <th>title_synonyms</th>\n",
       "    </tr>\n",
       "  </thead>\n",
       "  <tbody>\n",
       "    <tr>\n",
       "      <th>0</th>\n",
       "      <td>2</td>\n",
       "      <td>Berserk</td>\n",
       "      <td>manga</td>\n",
       "      <td>9.47</td>\n",
       "      <td>319696</td>\n",
       "      <td>currently_publishing</td>\n",
       "      <td>NaN</td>\n",
       "      <td>NaN</td>\n",
       "      <td>1989-08-25</td>\n",
       "      <td>NaN</td>\n",
       "      <td>643969</td>\n",
       "      <td>119470</td>\n",
       "      <td>True</td>\n",
       "      <td>True</td>\n",
       "      <td>2007-07-17 20:14:45+00:00</td>\n",
       "      <td>2023-04-01 00:19:31+00:00</td>\n",
       "      <td>1989-08-25</td>\n",
       "      <td>NaN</td>\n",
       "      <td>['Action', 'Adventure', 'Award Winning', 'Dram...</td>\n",
       "      <td>['Gore', 'Military', 'Mythology', 'Psychologic...</td>\n",
       "      <td>['Seinen']</td>\n",
       "      <td>[{'id': 1868, 'first_name': 'Kentarou', 'last_...</td>\n",
       "      <td>['Young Animal']</td>\n",
       "      <td>Guts, a former mercenary now known as the \"Bla...</td>\n",
       "      <td>Berserk won the Award for Excellence at the si...</td>\n",
       "      <td>https://cdn.myanimelist.net/images/manga/1/157...</td>\n",
       "      <td>https://myanimelist.net/manga/2/Berserk</td>\n",
       "      <td>Berserk</td>\n",
       "      <td>ベルセルク</td>\n",
       "      <td>['Berserk: The Prototype']</td>\n",
       "    </tr>\n",
       "  </tbody>\n",
       "</table>\n",
       "</div>"
      ],
      "text/plain": [
       "   manga_id    title   type  score  scored_by                status  volumes  \\\n",
       "0         2  Berserk  manga   9.47     319696  currently_publishing      NaN   \n",
       "\n",
       "   chapters  start_date end_date  members  favorites   sfw  approved  \\\n",
       "0       NaN  1989-08-25      NaN   643969     119470  True      True   \n",
       "\n",
       "           created_at_before                 updated_at real_start_date  \\\n",
       "0  2007-07-17 20:14:45+00:00  2023-04-01 00:19:31+00:00      1989-08-25   \n",
       "\n",
       "  real_end_date                                             genres  \\\n",
       "0           NaN  ['Action', 'Adventure', 'Award Winning', 'Dram...   \n",
       "\n",
       "                                              themes demographics  \\\n",
       "0  ['Gore', 'Military', 'Mythology', 'Psychologic...   ['Seinen']   \n",
       "\n",
       "                                             authors    serializations  \\\n",
       "0  [{'id': 1868, 'first_name': 'Kentarou', 'last_...  ['Young Animal']   \n",
       "\n",
       "                                            synopsis  \\\n",
       "0  Guts, a former mercenary now known as the \"Bla...   \n",
       "\n",
       "                                          background  \\\n",
       "0  Berserk won the Award for Excellence at the si...   \n",
       "\n",
       "                                        main_picture  \\\n",
       "0  https://cdn.myanimelist.net/images/manga/1/157...   \n",
       "\n",
       "                                       url title_english title_japanese  \\\n",
       "0  https://myanimelist.net/manga/2/Berserk       Berserk          ベルセルク   \n",
       "\n",
       "               title_synonyms  \n",
       "0  ['Berserk: The Prototype']  "
      ]
     },
     "execution_count": 5,
     "metadata": {},
     "output_type": "execute_result"
    }
   ],
   "source": [
    "raw_data.head(1)"
   ]
  },
  {
   "cell_type": "code",
   "execution_count": 6,
   "metadata": {},
   "outputs": [
    {
     "data": {
      "text/plain": [
       "0    https://cdn.myanimelist.net/images/manga/1/157...\n",
       "1    https://cdn.myanimelist.net/images/manga/2/253...\n",
       "Name: main_picture, dtype: object"
      ]
     },
     "execution_count": 6,
     "metadata": {},
     "output_type": "execute_result"
    }
   ],
   "source": [
    "raw_data.loc[:, \"main_picture\"].head(2)"
   ]
  },
  {
   "cell_type": "code",
   "execution_count": 7,
   "metadata": {},
   "outputs": [
    {
     "data": {
      "text/plain": [
       "type\n",
       "manga       31580\n",
       "one_shot     2917\n",
       "manhwa       2652\n",
       "manhua        343\n",
       "Name: count, dtype: int64"
      ]
     },
     "execution_count": 7,
     "metadata": {},
     "output_type": "execute_result"
    }
   ],
   "source": [
    "raw_data = raw_data[~raw_data[\"type\"].isin([\"light_novel\", \"novel\", \"doujinshi\"])]\n",
    "raw_data = raw_data[~raw_data[\"sfw\"].isin([False])]\n",
    "raw_data[\"type\"].value_counts()"
   ]
  },
  {
   "cell_type": "code",
   "execution_count": 8,
   "metadata": {},
   "outputs": [
    {
     "data": {
      "text/plain": [
       "(37492, 30)"
      ]
     },
     "execution_count": 8,
     "metadata": {},
     "output_type": "execute_result"
    }
   ],
   "source": [
    "raw_data.shape"
   ]
  },
  {
   "cell_type": "code",
   "execution_count": 9,
   "metadata": {},
   "outputs": [],
   "source": [
    "raw_data = raw_data.sort_values(by=\"favorites\", ascending=False).head(15500)\n"
   ]
  },
  {
   "cell_type": "code",
   "execution_count": 10,
   "metadata": {},
   "outputs": [],
   "source": [
    "all_manga = raw_data[\n",
    "    [\n",
    "        \"manga_id\",\n",
    "        \"title\",\n",
    "        \"title_synonyms\",\n",
    "        \"synopsis\",\n",
    "        \"demographics\",\n",
    "        \"authors\",\n",
    "        \"genres\",\n",
    "        \"themes\",\n",
    "        \"type\",\n",
    "    ]\n",
    "]"
   ]
  },
  {
   "cell_type": "code",
   "execution_count": 11,
   "metadata": {},
   "outputs": [],
   "source": [
    "all_manga = all_manga.reset_index(drop=True)"
   ]
  },
  {
   "cell_type": "code",
   "execution_count": 12,
   "metadata": {},
   "outputs": [
    {
     "data": {
      "text/html": [
       "<div>\n",
       "<style scoped>\n",
       "    .dataframe tbody tr th:only-of-type {\n",
       "        vertical-align: middle;\n",
       "    }\n",
       "\n",
       "    .dataframe tbody tr th {\n",
       "        vertical-align: top;\n",
       "    }\n",
       "\n",
       "    .dataframe thead th {\n",
       "        text-align: right;\n",
       "    }\n",
       "</style>\n",
       "<table border=\"1\" class=\"dataframe\">\n",
       "  <thead>\n",
       "    <tr style=\"text-align: right;\">\n",
       "      <th></th>\n",
       "      <th>manga_id</th>\n",
       "      <th>title</th>\n",
       "      <th>title_synonyms</th>\n",
       "      <th>synopsis</th>\n",
       "      <th>demographics</th>\n",
       "      <th>authors</th>\n",
       "      <th>genres</th>\n",
       "      <th>themes</th>\n",
       "      <th>type</th>\n",
       "    </tr>\n",
       "  </thead>\n",
       "  <tbody>\n",
       "    <tr>\n",
       "      <th>0</th>\n",
       "      <td>2</td>\n",
       "      <td>Berserk</td>\n",
       "      <td>['Berserk: The Prototype']</td>\n",
       "      <td>Guts, a former mercenary now known as the \"Bla...</td>\n",
       "      <td>['Seinen']</td>\n",
       "      <td>[{'id': 1868, 'first_name': 'Kentarou', 'last_...</td>\n",
       "      <td>['Action', 'Adventure', 'Award Winning', 'Dram...</td>\n",
       "      <td>['Gore', 'Military', 'Mythology', 'Psychologic...</td>\n",
       "      <td>manga</td>\n",
       "    </tr>\n",
       "    <tr>\n",
       "      <th>1</th>\n",
       "      <td>13</td>\n",
       "      <td>One Piece</td>\n",
       "      <td>[]</td>\n",
       "      <td>Gol D. Roger, a man referred to as the \"King o...</td>\n",
       "      <td>['Shounen']</td>\n",
       "      <td>[{'id': 1881, 'first_name': 'Eiichiro', 'last_...</td>\n",
       "      <td>['Action', 'Adventure', 'Fantasy']</td>\n",
       "      <td>[]</td>\n",
       "      <td>manga</td>\n",
       "    </tr>\n",
       "  </tbody>\n",
       "</table>\n",
       "</div>"
      ],
      "text/plain": [
       "   manga_id      title              title_synonyms  \\\n",
       "0         2    Berserk  ['Berserk: The Prototype']   \n",
       "1        13  One Piece                          []   \n",
       "\n",
       "                                            synopsis demographics  \\\n",
       "0  Guts, a former mercenary now known as the \"Bla...   ['Seinen']   \n",
       "1  Gol D. Roger, a man referred to as the \"King o...  ['Shounen']   \n",
       "\n",
       "                                             authors  \\\n",
       "0  [{'id': 1868, 'first_name': 'Kentarou', 'last_...   \n",
       "1  [{'id': 1881, 'first_name': 'Eiichiro', 'last_...   \n",
       "\n",
       "                                              genres  \\\n",
       "0  ['Action', 'Adventure', 'Award Winning', 'Dram...   \n",
       "1                 ['Action', 'Adventure', 'Fantasy']   \n",
       "\n",
       "                                              themes   type  \n",
       "0  ['Gore', 'Military', 'Mythology', 'Psychologic...  manga  \n",
       "1                                                 []  manga  "
      ]
     },
     "execution_count": 12,
     "metadata": {},
     "output_type": "execute_result"
    }
   ],
   "source": [
    "all_manga.head(2)"
   ]
  },
  {
   "cell_type": "code",
   "execution_count": 13,
   "metadata": {},
   "outputs": [],
   "source": [
    "all_manga = all_manga.dropna()"
   ]
  },
  {
   "cell_type": "code",
   "execution_count": 14,
   "metadata": {},
   "outputs": [
    {
     "data": {
      "text/plain": [
       "(14483, 9)"
      ]
     },
     "execution_count": 14,
     "metadata": {},
     "output_type": "execute_result"
    }
   ],
   "source": [
    "all_manga.shape"
   ]
  },
  {
   "cell_type": "code",
   "execution_count": 15,
   "metadata": {},
   "outputs": [],
   "source": [
    "def clean_text(text):\n",
    "    # Remove anything after '[Written by MAL Rewrite]'\n",
    "    text = re.split(r\"\\[Written by MAL Rewrite\\]\", text)[0]\n",
    "\n",
    "    # Use a regular expression to find text between any type of brackets and remove it\n",
    "    cleaned_text = re.sub(r\"\\[.*?\\]|\\(.*?\\)|\\{.*?\\}|\\<.*?\\>\", \"\", text)\n",
    "    return cleaned_text"
   ]
  },
  {
   "cell_type": "code",
   "execution_count": 16,
   "metadata": {},
   "outputs": [],
   "source": [
    "all_manga.loc[:, \"synopsis\"] = all_manga[\"synopsis\"].apply(clean_text)\n",
    "all_manga.loc[:, \"synopsis\"] = all_manga[\"synopsis\"].apply(\n",
    "    lambda x: x.translate(str.maketrans(\"\", \"\", string.punctuation))\n",
    ")\n",
    "\n",
    "all_manga.loc[:, \"title_synonyms\"] = all_manga[\"title_synonyms\"].apply(\n",
    "    lambda x: x.translate(str.maketrans(\"\", \"\", string.punctuation))\n",
    ")"
   ]
  },
  {
   "cell_type": "code",
   "execution_count": 17,
   "metadata": {},
   "outputs": [
    {
     "data": {
      "text/html": [
       "<div>\n",
       "<style scoped>\n",
       "    .dataframe tbody tr th:only-of-type {\n",
       "        vertical-align: middle;\n",
       "    }\n",
       "\n",
       "    .dataframe tbody tr th {\n",
       "        vertical-align: top;\n",
       "    }\n",
       "\n",
       "    .dataframe thead th {\n",
       "        text-align: right;\n",
       "    }\n",
       "</style>\n",
       "<table border=\"1\" class=\"dataframe\">\n",
       "  <thead>\n",
       "    <tr style=\"text-align: right;\">\n",
       "      <th></th>\n",
       "      <th>manga_id</th>\n",
       "      <th>title</th>\n",
       "      <th>title_synonyms</th>\n",
       "      <th>synopsis</th>\n",
       "      <th>demographics</th>\n",
       "      <th>authors</th>\n",
       "      <th>genres</th>\n",
       "      <th>themes</th>\n",
       "      <th>type</th>\n",
       "    </tr>\n",
       "  </thead>\n",
       "  <tbody>\n",
       "    <tr>\n",
       "      <th>0</th>\n",
       "      <td>2</td>\n",
       "      <td>Berserk</td>\n",
       "      <td>Berserk The Prototype</td>\n",
       "      <td>Guts a former mercenary now known as the Black...</td>\n",
       "      <td>['Seinen']</td>\n",
       "      <td>[{'id': 1868, 'first_name': 'Kentarou', 'last_...</td>\n",
       "      <td>['Action', 'Adventure', 'Award Winning', 'Dram...</td>\n",
       "      <td>['Gore', 'Military', 'Mythology', 'Psychologic...</td>\n",
       "      <td>manga</td>\n",
       "    </tr>\n",
       "    <tr>\n",
       "      <th>1</th>\n",
       "      <td>13</td>\n",
       "      <td>One Piece</td>\n",
       "      <td></td>\n",
       "      <td>Gol D Roger a man referred to as the King of t...</td>\n",
       "      <td>['Shounen']</td>\n",
       "      <td>[{'id': 1881, 'first_name': 'Eiichiro', 'last_...</td>\n",
       "      <td>['Action', 'Adventure', 'Fantasy']</td>\n",
       "      <td>[]</td>\n",
       "      <td>manga</td>\n",
       "    </tr>\n",
       "  </tbody>\n",
       "</table>\n",
       "</div>"
      ],
      "text/plain": [
       "   manga_id      title         title_synonyms  \\\n",
       "0         2    Berserk  Berserk The Prototype   \n",
       "1        13  One Piece                          \n",
       "\n",
       "                                            synopsis demographics  \\\n",
       "0  Guts a former mercenary now known as the Black...   ['Seinen']   \n",
       "1  Gol D Roger a man referred to as the King of t...  ['Shounen']   \n",
       "\n",
       "                                             authors  \\\n",
       "0  [{'id': 1868, 'first_name': 'Kentarou', 'last_...   \n",
       "1  [{'id': 1881, 'first_name': 'Eiichiro', 'last_...   \n",
       "\n",
       "                                              genres  \\\n",
       "0  ['Action', 'Adventure', 'Award Winning', 'Dram...   \n",
       "1                 ['Action', 'Adventure', 'Fantasy']   \n",
       "\n",
       "                                              themes   type  \n",
       "0  ['Gore', 'Military', 'Mythology', 'Psychologic...  manga  \n",
       "1                                                 []  manga  "
      ]
     },
     "execution_count": 17,
     "metadata": {},
     "output_type": "execute_result"
    }
   ],
   "source": [
    "all_manga.head(2)"
   ]
  },
  {
   "cell_type": "code",
   "execution_count": 18,
   "metadata": {},
   "outputs": [],
   "source": [
    "all_manga.loc[:, \"synopsis\"] = all_manga[\"synopsis\"].apply(lambda x: x.split())\n",
    "all_manga.loc[:, \"type\"] = all_manga[\"type\"].apply(lambda x: x.split())"
   ]
  },
  {
   "cell_type": "code",
   "execution_count": 19,
   "metadata": {},
   "outputs": [
    {
     "data": {
      "text/html": [
       "<div>\n",
       "<style scoped>\n",
       "    .dataframe tbody tr th:only-of-type {\n",
       "        vertical-align: middle;\n",
       "    }\n",
       "\n",
       "    .dataframe tbody tr th {\n",
       "        vertical-align: top;\n",
       "    }\n",
       "\n",
       "    .dataframe thead th {\n",
       "        text-align: right;\n",
       "    }\n",
       "</style>\n",
       "<table border=\"1\" class=\"dataframe\">\n",
       "  <thead>\n",
       "    <tr style=\"text-align: right;\">\n",
       "      <th></th>\n",
       "      <th>manga_id</th>\n",
       "      <th>title</th>\n",
       "      <th>title_synonyms</th>\n",
       "      <th>synopsis</th>\n",
       "      <th>demographics</th>\n",
       "      <th>authors</th>\n",
       "      <th>genres</th>\n",
       "      <th>themes</th>\n",
       "      <th>type</th>\n",
       "    </tr>\n",
       "  </thead>\n",
       "  <tbody>\n",
       "    <tr>\n",
       "      <th>0</th>\n",
       "      <td>2</td>\n",
       "      <td>Berserk</td>\n",
       "      <td>Berserk The Prototype</td>\n",
       "      <td>[Guts, a, former, mercenary, now, known, as, t...</td>\n",
       "      <td>['Seinen']</td>\n",
       "      <td>[{'id': 1868, 'first_name': 'Kentarou', 'last_...</td>\n",
       "      <td>['Action', 'Adventure', 'Award Winning', 'Dram...</td>\n",
       "      <td>['Gore', 'Military', 'Mythology', 'Psychologic...</td>\n",
       "      <td>[manga]</td>\n",
       "    </tr>\n",
       "    <tr>\n",
       "      <th>1</th>\n",
       "      <td>13</td>\n",
       "      <td>One Piece</td>\n",
       "      <td></td>\n",
       "      <td>[Gol, D, Roger, a, man, referred, to, as, the,...</td>\n",
       "      <td>['Shounen']</td>\n",
       "      <td>[{'id': 1881, 'first_name': 'Eiichiro', 'last_...</td>\n",
       "      <td>['Action', 'Adventure', 'Fantasy']</td>\n",
       "      <td>[]</td>\n",
       "      <td>[manga]</td>\n",
       "    </tr>\n",
       "  </tbody>\n",
       "</table>\n",
       "</div>"
      ],
      "text/plain": [
       "   manga_id      title         title_synonyms  \\\n",
       "0         2    Berserk  Berserk The Prototype   \n",
       "1        13  One Piece                          \n",
       "\n",
       "                                            synopsis demographics  \\\n",
       "0  [Guts, a, former, mercenary, now, known, as, t...   ['Seinen']   \n",
       "1  [Gol, D, Roger, a, man, referred, to, as, the,...  ['Shounen']   \n",
       "\n",
       "                                             authors  \\\n",
       "0  [{'id': 1868, 'first_name': 'Kentarou', 'last_...   \n",
       "1  [{'id': 1881, 'first_name': 'Eiichiro', 'last_...   \n",
       "\n",
       "                                              genres  \\\n",
       "0  ['Action', 'Adventure', 'Award Winning', 'Dram...   \n",
       "1                 ['Action', 'Adventure', 'Fantasy']   \n",
       "\n",
       "                                              themes     type  \n",
       "0  ['Gore', 'Military', 'Mythology', 'Psychologic...  [manga]  \n",
       "1                                                 []  [manga]  "
      ]
     },
     "execution_count": 19,
     "metadata": {},
     "output_type": "execute_result"
    }
   ],
   "source": [
    "all_manga.head(2)"
   ]
  },
  {
   "cell_type": "code",
   "execution_count": 20,
   "metadata": {},
   "outputs": [],
   "source": [
    "for cols in [\"demographics\", \"authors\", \"genres\", \"themes\"]:\n",
    "    all_manga.loc[:, cols] = all_manga[cols].apply(ast.literal_eval)"
   ]
  },
  {
   "cell_type": "code",
   "execution_count": 21,
   "metadata": {},
   "outputs": [],
   "source": [
    "def resolve_author(data):\n",
    "    res = []\n",
    "    for dic in data:\n",
    "            res.append(f\"{dic[\"last_name\"]} {dic['first_name']}\" if dic['first_name'] != '' else dic['last_name'])\n",
    "    return res\n",
    "\n",
    "def remove_spaces(data):\n",
    "      res = []\n",
    "      for i in data:\n",
    "            res.append(i.replace(\" \",''))\n",
    "      return res"
   ]
  },
  {
   "cell_type": "code",
   "execution_count": 22,
   "metadata": {},
   "outputs": [],
   "source": [
    "all_manga.loc[:, \"authors\"] = all_manga[\"authors\"].apply(resolve_author)\n",
    "all_manga.loc[:, \"authors\"] = all_manga[\"authors\"].apply(remove_spaces)"
   ]
  },
  {
   "cell_type": "code",
   "execution_count": 23,
   "metadata": {},
   "outputs": [
    {
     "data": {
      "text/plain": [
       "'[{\"manga_id\":2,\"title\":\"Berserk\",\"title_synonyms\":\"Berserk The Prototype\",\"synopsis\":[\"Guts\",\"a\",\"former\",\"mercenary\",\"now\",\"known\",\"as\",\"the\",\"Black\",\"Swordsman\",\"is\",\"out\",\"for\",\"revenge\",\"After\",\"a\",\"tumultuous\",\"childhood\",\"he\",\"finally\",\"finds\",\"someone\",\"he\",\"respects\",\"and\",\"believes\",\"he\",\"can\",\"trust\",\"only\",\"to\",\"have\",\"everything\",\"fall\",\"apart\",\"when\",\"this\",\"person\",\"takes\",\"away\",\"everything\",\"important\",\"to\",\"Guts\",\"for\",\"the\",\"purpose\",\"of\",\"fulfilling\",\"his\",\"own\",\"desires\",\"Now\",\"marked\",\"for\",\"death\",\"Guts\",\"becomes\",\"condemned\",\"to\",\"a\",\"fate\",\"in\",\"which\",\"he\",\"is\",\"relentlessly\",\"pursued\",\"by\",\"demonic\",\"beings\",\"Setting\",\"out\",\"on\",\"a\",\"dreadful\",\"quest\",\"riddled\",\"with\",\"misfortune\",\"Guts\",\"armed\",\"with\",\"a\",\"massive\",\"sword\",\"and\",\"monstrous\",\"strength\",\"will\",\"let\",\"nothing\",\"stop\",\"him\",\"not\",\"even\",\"death\",\"itself\",\"until\",\"he\",\"is\",\"finally\",\"able\",\"to\",\"take\",\"the\",\"head\",\"of\",\"the\",\"one\",\"who\",\"stripped\",\"him\\\\u2014and\",\"his\",\"loved\",\"one\\\\u2014of\",\"their\",\"humanity\"],\"demographics\":[\"Seinen\"],\"authors\":[\"MiuraKentarou\",\"StudioGaga\"],\"genres\":[\"Action\",\"Adventure\",\"Award Winning\",\"Drama\",\"Fantasy\",\"Horror\",\"Supernatural\"],\"themes\":[\"Gore\",\"Military\",\"Mythology\",\"Psychological\"],\"type\":[\"manga\"]},{\"manga_id\":13,\"title\":\"One Piece\",\"title_synonyms\":\"\",\"synopsis\":[\"Gol\",\"D\",\"Roger\",\"a\",\"man\",\"referred\",\"to\",\"as\",\"the\",\"King\",\"of\",\"the\",\"Pirates\",\"is\",\"set\",\"to\",\"be\",\"executed\",\"by\",\"the\",\"World\",\"Government\",\"But\",\"just\",\"before\",\"his\",\"demise\",\"he\",\"confirms\",\"the\",\"existence\",\"of\",\"a\",\"great\",\"treasure\",\"One\",\"Piece\",\"located\",\"somewhere\",\"within\",\"the\",\"vast\",\"ocean\",\"known\",\"as\",\"the\",\"Grand\",\"Line\",\"Announcing\",\"that\",\"One\",\"Piece\",\"can\",\"be\",\"claimed\",\"by\",\"anyone\",\"worthy\",\"enough\",\"to\",\"reach\",\"it\",\"the\",\"King\",\"of\",\"the\",\"Pirates\",\"is\",\"executed\",\"and\",\"the\",\"Great\",\"Age\",\"of\",\"Pirates\",\"begins\",\"Twentytwo\",\"years\",\"later\",\"a\",\"young\",\"man\",\"by\",\"the\",\"name\",\"of\",\"Monkey\",\"D\",\"Luffy\",\"is\",\"ready\",\"to\",\"embark\",\"on\",\"his\",\"own\",\"adventure\",\"searching\",\"for\",\"One\",\"Piece\",\"and\",\"striving\",\"to\",\"become\",\"the\",\"new\",\"King\",\"of\",\"the\",\"Pirates\",\"Armed\",\"with\",\"just\",\"a\",\"straw\",\"hat\",\"a\",\"small\",\"boat\",\"and\",\"an\",\"elastic\",\"body\",\"he\",\"sets\",\"out\",\"on\",\"a\",\"fantastic\",\"journey\",\"to\",\"gather\",\"his\",\"own\",\"crew\",\"and\",\"a\",\"worthy\",\"ship\",\"that\",\"will\",\"take\",\"them\",\"across\",\"the\",\"Grand\",\"Line\",\"to\",\"claim\",\"the\",\"greatest\",\"status\",\"on\",\"the\",\"high\",\"seas\"],\"demographics\":[\"Shounen\"],\"authors\":[\"OdaEiichiro\"],\"genres\":[\"Action\",\"Adventure\",\"Fantasy\"],\"themes\":[],\"type\":[\"manga\"]},{\"manga_id\":116778,\"title\":\"Chainsaw Man\",\"title_synonyms\":\"\",\"synopsis\":[\"Denji\",\"has\",\"a\",\"simple\",\"dream\\\\u2014to\",\"live\",\"a\",\"happy\",\"and\",\"peaceful\",\"life\",\"spending\",\"time\",\"with\",\"a\",\"girl\",\"he\",\"likes\",\"This\",\"is\",\"a\",\"far\",\"cry\",\"from\",\"reality\",\"however\",\"as\",\"Denji\",\"is\",\"forced\",\"by\",\"the\",\"yakuza\",\"into\",\"killing\",\"devils\",\"in\",\"order\",\"to\",\"pay\",\"off\",\"his\",\"crushing\",\"debts\",\"Using\",\"his\",\"pet\",\"devil\",\"Pochita\",\"as\",\"a\",\"weapon\",\"he\",\"is\",\"ready\",\"to\",\"do\",\"anything\",\"for\",\"a\",\"bit\",\"of\",\"cash\",\"Unfortunately\",\"he\",\"has\",\"outlived\",\"his\",\"usefulness\",\"and\",\"is\",\"murdered\",\"by\",\"a\",\"devil\",\"in\",\"contract\",\"with\",\"the\",\"yakuza\",\"However\",\"in\",\"an\",\"unexpected\",\"turn\",\"of\",\"events\",\"Pochita\",\"merges\",\"with\",\"Denjis\",\"dead\",\"body\",\"and\",\"grants\",\"him\",\"the\",\"powers\",\"of\",\"a\",\"chainsaw\",\"devil\",\"Now\",\"able\",\"to\",\"transform\",\"parts\",\"of\",\"his\",\"body\",\"into\",\"chainsaws\",\"a\",\"revived\",\"Denji\",\"uses\",\"his\",\"new\",\"abilities\",\"to\",\"quickly\",\"and\",\"brutally\",\"dispatch\",\"his\",\"enemies\",\"Catching\",\"the\",\"eye\",\"of\",\"the\",\"official\",\"devil\",\"hunters\",\"who\",\"arrive\",\"at\",\"the\",\"scene\",\"he\",\"is\",\"offered\",\"work\",\"at\",\"the\",\"Public\",\"Safety\",\"Bureau\",\"as\",\"one\",\"of\",\"them\",\"Now\",\"with\",\"the\",\"means\",\"to\",\"face\",\"even\",\"the\",\"toughest\",\"of\",\"enemies\",\"Denji\",\"will\",\"stop\",\"at\",\"nothing\",\"to\",\"achieve\",\"his\",\"simple\",\"teenage\",\"dreams\"],\"demographics\":[\"Shounen\"],\"authors\":[\"FujimotoTatsuki\"],\"genres\":[\"Action\",\"Award Winning\",\"Supernatural\"],\"themes\":[\"Gore\"],\"type\":[\"manga\"]},{\"manga_id\":23390,\"title\":\"Shingeki no Kyojin\",\"title_synonyms\":\"\",\"synopsis\":[\"Hundreds\",\"of\",\"years\",\"ago\",\"horrifying\",\"creatures\",\"which\",\"resembled\",\"humans\",\"appeared\",\"These\",\"mindless\",\"towering\",\"giants\",\"called\",\"Titans\",\"proved\",\"to\",\"be\",\"an\",\"existential\",\"threat\",\"as\",\"they\",\"preyed\",\"on\",\"whatever\",\"humans\",\"they\",\"could\",\"find\",\"in\",\"order\",\"to\",\"satisfy\",\"a\",\"seemingly\",\"unending\",\"appetite\",\"Unable\",\"to\",\"effectively\",\"combat\",\"the\",\"Titans\",\"mankind\",\"was\",\"forced\",\"to\",\"barricade\",\"themselves\",\"within\",\"large\",\"walls\",\"surrounding\",\"what\",\"may\",\"very\",\"well\",\"be\",\"humanitys\",\"last\",\"safe\",\"haven\",\"in\",\"the\",\"world\",\"In\",\"the\",\"present\",\"day\",\"life\",\"within\",\"the\",\"walls\",\"has\",\"finally\",\"found\",\"peace\",\"since\",\"the\",\"residents\",\"have\",\"not\",\"dealt\",\"with\",\"Titans\",\"for\",\"many\",\"years\",\"Eren\",\"Yeager\",\"Mikasa\",\"Ackerman\",\"and\",\"Armin\",\"Arlert\",\"are\",\"three\",\"young\",\"children\",\"who\",\"dream\",\"of\",\"experiencing\",\"all\",\"that\",\"the\",\"world\",\"has\",\"to\",\"offer\",\"having\",\"grown\",\"up\",\"hearing\",\"stories\",\"of\",\"the\",\"wonders\",\"beyond\",\"the\",\"walls\",\"But\",\"when\",\"the\",\"state\",\"of\",\"tranquility\",\"is\",\"suddenly\",\"shattered\",\"by\",\"the\",\"attack\",\"of\",\"a\",\"massive\",\"60meter\",\"Titan\",\"they\",\"quickly\",\"learn\",\"just\",\"how\",\"cruel\",\"the\",\"world\",\"can\",\"be\",\"On\",\"that\",\"day\",\"Eren\",\"makes\",\"a\",\"promise\",\"to\",\"himself\",\"that\",\"he\",\"will\",\"do\",\"whatever\",\"it\",\"takes\",\"to\",\"eradicate\",\"every\",\"single\",\"Titan\",\"off\",\"the\",\"face\",\"of\",\"the\",\"Earth\",\"with\",\"the\",\"hope\",\"that\",\"one\",\"day\",\"humanity\",\"will\",\"once\",\"again\",\"be\",\"able\",\"to\",\"live\",\"outside\",\"the\",\"walls\",\"without\",\"fear\"],\"demographics\":[\"Shounen\"],\"authors\":[\"IsayamaHajime\"],\"genres\":[\"Action\",\"Award Winning\",\"Drama\"],\"themes\":[\"Gore\",\"Military\",\"Survival\"],\"type\":[\"manga\"]},{\"manga_id\":4632,\"title\":\"Oyasumi Punpun\",\"title_synonyms\":\"\",\"synopsis\":[\"Punpun\",\"Onodera\",\"is\",\"a\",\"normal\",\"11yearold\",\"boy\",\"living\",\"in\",\"Japan\",\"Hopelessly\",\"idealistic\",\"and\",\"romantic\",\"Punpun\",\"begins\",\"to\",\"see\",\"his\",\"life\",\"take\",\"a\",\"subtle\\\\u2014though\",\"nonetheless\",\"startling\\\\u2014turn\",\"to\",\"the\",\"adult\",\"when\",\"he\",\"meets\",\"the\",\"new\",\"girl\",\"in\",\"his\",\"class\",\"Aiko\",\"Tanaka\",\"It\",\"is\",\"then\",\"that\",\"the\",\"quiet\",\"boy\",\"learns\",\"just\",\"how\",\"fickle\",\"maintaining\",\"a\",\"relationship\",\"can\",\"be\",\"and\",\"the\",\"surmounting\",\"difficulties\",\"of\",\"transitioning\",\"from\",\"a\",\"na\\\\u00efve\",\"boyhood\",\"to\",\"a\",\"convoluted\",\"adulthood\",\"When\",\"his\",\"father\",\"assaults\",\"his\",\"mother\",\"one\",\"night\",\"Punpun\",\"realizes\",\"another\",\"thing\",\"those\",\"whom\",\"he\",\"looked\",\"up\",\"to\",\"were\",\"not\",\"as\",\"impressive\",\"as\",\"he\",\"once\",\"thought\",\"As\",\"his\",\"problems\",\"increase\",\"Punpuns\",\"once\",\"shy\",\"demeanor\",\"turns\",\"into\",\"voluntary\",\"reclusiveness\",\"Rather\",\"than\",\"curing\",\"him\",\"of\",\"his\",\"problems\",\"and\",\"conflicting\",\"emotions\",\"this\",\"merely\",\"intensifies\",\"them\",\"sending\",\"him\",\"down\",\"the\",\"dark\",\"path\",\"of\",\"maturity\",\"in\",\"this\",\"grim\",\"comingofage\",\"saga\"],\"demographics\":[\"Seinen\"],\"authors\":[\"AsanoInio\"],\"genres\":[\"Drama\",\"Slice of Life\"],\"themes\":[\"Psychological\"],\"type\":[\"manga\"]},{\"manga_id\":33327,\"title\":\"Tokyo Ghoul\",\"title_synonyms\":\"Toukyou Kushu\",\"synopsis\":[\"Lurking\",\"within\",\"the\",\"shadows\",\"of\",\"Tokyo\",\"are\",\"frightening\",\"beings\",\"known\",\"as\",\"ghouls\",\"who\",\"satisfy\",\"their\",\"hunger\",\"by\",\"feeding\",\"on\",\"humans\",\"once\",\"night\",\"falls\",\"An\",\"organization\",\"known\",\"as\",\"the\",\"Commission\",\"of\",\"Counter\",\"Ghoul\",\"has\",\"been\",\"established\",\"in\",\"response\",\"to\",\"the\",\"constant\",\"attacks\",\"on\",\"citizens\",\"and\",\"as\",\"a\",\"means\",\"of\",\"purging\",\"these\",\"creatures\",\"However\",\"the\",\"problem\",\"lies\",\"in\",\"identifying\",\"ghouls\",\"as\",\"they\",\"disguise\",\"themselves\",\"as\",\"humans\",\"living\",\"amongst\",\"the\",\"masses\",\"so\",\"that\",\"hunting\",\"prey\",\"will\",\"be\",\"easier\",\"Ken\",\"Kaneki\",\"an\",\"unsuspecting\",\"university\",\"freshman\",\"finds\",\"himself\",\"caught\",\"in\",\"a\",\"world\",\"between\",\"humans\",\"and\",\"ghouls\",\"when\",\"his\",\"date\",\"turns\",\"out\",\"to\",\"be\",\"a\",\"ghoul\",\"after\",\"his\",\"flesh\",\"Barely\",\"surviving\",\"this\",\"encounter\",\"after\",\"being\",\"taken\",\"to\",\"a\",\"hospital\",\"he\",\"discovers\",\"that\",\"he\",\"has\",\"turned\",\"into\",\"a\",\"halfghoul\",\"as\",\"a\",\"result\",\"of\",\"the\",\"surgery\",\"he\",\"received\",\"Unable\",\"to\",\"satisfy\",\"his\",\"intense\",\"craving\",\"for\",\"human\",\"meat\",\"through\",\"conventional\",\"means\",\"Kaneki\",\"is\",\"taken\",\"in\",\"by\",\"friendly\",\"ghouls\",\"who\",\"run\",\"a\",\"coffee\",\"shop\",\"in\",\"order\",\"to\",\"help\",\"him\",\"with\",\"his\",\"transition\",\"As\",\"he\",\"begins\",\"what\",\"he\",\"thinks\",\"will\",\"be\",\"a\",\"peaceful\",\"new\",\"life\",\"little\",\"does\",\"he\",\"know\",\"that\",\"he\",\"is\",\"about\",\"to\",\"find\",\"himself\",\"at\",\"the\",\"center\",\"of\",\"a\",\"war\",\"between\",\"his\",\"new\",\"comrades\",\"and\",\"the\",\"forces\",\"of\",\"the\",\"CCG\",\"and\",\"that\",\"his\",\"new\",\"existence\",\"has\",\"caught\",\"the\",\"attention\",\"of\",\"ghouls\",\"all\",\"over\",\"Tokyo\"],\"demographics\":[\"Seinen\"],\"authors\":[\"IshidaSui\"],\"genres\":[\"Action\",\"Fantasy\",\"Horror\"],\"themes\":[\"Gore\",\"Psychological\"],\"type\":[\"manga\"]},{\"manga_id\":11,\"title\":\"Naruto\",\"title_synonyms\":\"\",\"synopsis\":[\"Whenever\",\"Naruto\",\"Uzumaki\",\"proclaims\",\"that\",\"he\",\"will\",\"someday\",\"become\",\"the\",\"Hokage\\\\u2014a\",\"title\",\"bestowed\",\"upon\",\"the\",\"best\",\"ninja\",\"in\",\"the\",\"Village\",\"Hidden\",\"in\",\"the\",\"Leaves\\\\u2014no\",\"one\",\"takes\",\"him\",\"seriously\",\"Since\",\"birth\",\"Naruto\",\"has\",\"been\",\"shunned\",\"and\",\"ridiculed\",\"by\",\"his\",\"fellow\",\"villagers\",\"But\",\"their\",\"contempt\",\"isnt\",\"because\",\"Naruto\",\"is\",\"loudmouthed\",\"mischievous\",\"or\",\"because\",\"of\",\"his\",\"ineptitude\",\"in\",\"the\",\"ninja\",\"arts\",\"but\",\"because\",\"there\",\"is\",\"a\",\"demon\",\"inside\",\"him\",\"Prior\",\"to\",\"Narutos\",\"birth\",\"the\",\"powerful\",\"and\",\"deadly\",\"NineTailed\",\"Fox\",\"attacked\",\"the\",\"village\",\"In\",\"order\",\"to\",\"stop\",\"the\",\"rampage\",\"the\",\"Fourth\",\"Hokage\",\"sacrificed\",\"his\",\"life\",\"to\",\"seal\",\"the\",\"demon\",\"inside\",\"the\",\"body\",\"of\",\"the\",\"newborn\",\"Naruto\",\"And\",\"so\",\"when\",\"he\",\"is\",\"assigned\",\"to\",\"Team\",\"7\\\\u2014along\",\"with\",\"his\",\"new\",\"teammates\",\"Sasuke\",\"Uchiha\",\"and\",\"Sakura\",\"Haruno\",\"under\",\"the\",\"mentorship\",\"of\",\"veteran\",\"ninja\",\"Kakashi\",\"Hatake\\\\u2014Naruto\",\"is\",\"forced\",\"to\",\"work\",\"together\",\"with\",\"other\",\"people\",\"for\",\"the\",\"first\",\"time\",\"in\",\"his\",\"life\",\"Through\",\"undergoing\",\"vigorous\",\"training\",\"and\",\"taking\",\"on\",\"challenging\",\"missions\",\"Naruto\",\"must\",\"learn\",\"what\",\"it\",\"means\",\"to\",\"work\",\"in\",\"a\",\"team\",\"and\",\"carve\",\"his\",\"own\",\"route\",\"toward\",\"becoming\",\"a\",\"fullfledged\",\"ninja\",\"recognized\",\"by\",\"his\",\"village\"],\"demographics\":[\"Shounen\"],\"authors\":[\"KishimotoMasashi\"],\"genres\":[\"Action\",\"Adventure\",\"Fantasy\"],\"themes\":[\"Martial Arts\"],\"type\":[\"manga\"]},{\"manga_id\":1706,\"title\":\"JoJo no Kimyou na Bouken Part 7: Steel Ball Run\",\"title_synonyms\":\"JoJos Bizarre Adventure Part 7 Steel Ball Run SBR\",\"synopsis\":[\"In\",\"the\",\"American\",\"Old\",\"West\",\"the\",\"worlds\",\"greatest\",\"race\",\"is\",\"about\",\"to\",\"begin\",\"Thousands\",\"line\",\"up\",\"in\",\"San\",\"Diego\",\"to\",\"travel\",\"over\",\"six\",\"thousand\",\"kilometers\",\"for\",\"a\",\"chance\",\"to\",\"win\",\"the\",\"grand\",\"prize\",\"of\",\"fifty\",\"million\",\"dollars\",\"With\",\"the\",\"era\",\"of\",\"the\",\"horse\",\"reaching\",\"its\",\"end\",\"contestants\",\"are\",\"allowed\",\"to\",\"use\",\"any\",\"kind\",\"of\",\"vehicle\",\"they\",\"wish\",\"Competitors\",\"will\",\"have\",\"to\",\"endure\",\"grueling\",\"conditions\",\"traveling\",\"up\",\"to\",\"a\",\"hundred\",\"kilometers\",\"a\",\"day\",\"through\",\"uncharted\",\"wastelands\",\"The\",\"Steel\",\"Ball\",\"Run\",\"is\",\"truly\",\"a\",\"oneofakind\",\"event\",\"The\",\"youthful\",\"Johnny\",\"Joestar\",\"a\",\"crippled\",\"former\",\"horse\",\"racer\",\"has\",\"come\",\"to\",\"San\",\"Diego\",\"to\",\"watch\",\"the\",\"start\",\"of\",\"the\",\"race\",\"There\",\"he\",\"encounters\",\"Gyro\",\"Zeppeli\",\"a\",\"racer\",\"with\",\"two\",\"steel\",\"balls\",\"at\",\"his\",\"waist\",\"instead\",\"of\",\"a\",\"gun\",\"Johnny\",\"witnesses\",\"Gyro\",\"using\",\"one\",\"of\",\"his\",\"steel\",\"balls\",\"to\",\"unleash\",\"a\",\"fantastical\",\"power\",\"compelling\",\"a\",\"man\",\"to\",\"fire\",\"his\",\"gun\",\"at\",\"himself\",\"during\",\"a\",\"duel\",\"In\",\"the\",\"midst\",\"of\",\"the\",\"action\",\"Johnny\",\"happens\",\"to\",\"touch\",\"the\",\"steel\",\"ball\",\"and\",\"feels\",\"a\",\"power\",\"surging\",\"through\",\"his\",\"legs\",\"allowing\",\"him\",\"to\",\"stand\",\"up\",\"for\",\"the\",\"first\",\"time\",\"in\",\"two\",\"years\",\"Vowing\",\"to\",\"find\",\"the\",\"secret\",\"of\",\"the\",\"steel\",\"balls\",\"Johnny\",\"decides\",\"to\",\"compete\",\"in\",\"the\",\"race\",\"and\",\"so\",\"begins\",\"his\",\"bizarre\",\"adventure\",\"across\",\"America\",\"on\",\"the\",\"Steel\",\"Ball\",\"Run\"],\"demographics\":[\"Seinen\",\"Shounen\"],\"authors\":[\"ArakiHirohiko\"],\"genres\":[\"Action\",\"Adventure\",\"Mystery\",\"Supernatural\"],\"themes\":[\"Historical\"],\"type\":[\"manga\"]},{\"manga_id\":121496,\"title\":\"Solo Leveling\",\"title_synonyms\":\"Na Honjaman Level Up I Level Up Alone\",\"synopsis\":[\"Ten\",\"years\",\"ago\",\"the\",\"Gate\",\"appeared\",\"and\",\"connected\",\"the\",\"real\",\"world\",\"with\",\"the\",\"realm\",\"of\",\"magic\",\"and\",\"monsters\",\"To\",\"combat\",\"these\",\"vile\",\"beasts\",\"ordinary\",\"people\",\"received\",\"superhuman\",\"powers\",\"and\",\"became\",\"known\",\"as\",\"Hunters\",\"Twentyyearold\",\"Sung\",\"JinWoo\",\"is\",\"one\",\"such\",\"Hunter\",\"but\",\"he\",\"is\",\"known\",\"as\",\"the\",\"Worlds\",\"Weakest\",\"owing\",\"to\",\"his\",\"pathetic\",\"power\",\"compared\",\"to\",\"even\",\"a\",\"measly\",\"ERank\",\"Still\",\"he\",\"hunts\",\"monsters\",\"tirelessly\",\"in\",\"lowrank\",\"Gates\",\"to\",\"pay\",\"for\",\"his\",\"mothers\",\"medical\",\"bills\",\"However\",\"this\",\"miserable\",\"lifestyle\",\"changes\",\"when\",\"JinWoo\\\\u2014believing\",\"himself\",\"to\",\"be\",\"the\",\"only\",\"one\",\"left\",\"to\",\"die\",\"in\",\"a\",\"mission\",\"gone\",\"terribly\",\"wrong\\\\u2014awakens\",\"in\",\"a\",\"hospital\",\"three\",\"days\",\"later\",\"to\",\"find\",\"a\",\"mysterious\",\"screen\",\"floating\",\"in\",\"front\",\"of\",\"him\",\"This\",\"Quest\",\"Log\",\"demands\",\"that\",\"JinWoo\",\"completes\",\"an\",\"unrealistic\",\"and\",\"intense\",\"training\",\"program\",\"or\",\"face\",\"an\",\"appropriate\",\"penalty\",\"Initially\",\"reluctant\",\"to\",\"comply\",\"because\",\"of\",\"the\",\"quests\",\"rigor\",\"JinWoo\",\"soon\",\"finds\",\"that\",\"it\",\"may\",\"just\",\"transform\",\"him\",\"into\",\"one\",\"of\",\"the\",\"worlds\",\"most\",\"fearsome\",\"Hunters\"],\"demographics\":[],\"authors\":[\"Chugong\",\"JangSung-rak\",\"Disciples\"],\"genres\":[\"Action\",\"Adventure\",\"Fantasy\"],\"themes\":[],\"type\":[\"manhwa\"]},{\"manga_id\":656,\"title\":\"Vagabond\",\"title_synonyms\":\"\",\"synopsis\":[\"In\",\"16thcentury\",\"Japan\",\"Shinmen\",\"Takezou\",\"is\",\"a\",\"wild\",\"rough\",\"young\",\"man\",\"in\",\"both\",\"his\",\"appearance\",\"and\",\"his\",\"actions\",\"His\",\"aggressive\",\"nature\",\"has\",\"won\",\"him\",\"the\",\"collective\",\"reproach\",\"and\",\"fear\",\"of\",\"his\",\"village\",\"leading\",\"him\",\"and\",\"his\",\"best\",\"friend\",\"Matahachi\",\"Honiden\",\"to\",\"run\",\"away\",\"in\",\"search\",\"of\",\"something\",\"grander\",\"than\",\"provincial\",\"life\",\"The\",\"pair\",\"enlist\",\"in\",\"the\",\"Toyotomi\",\"army\",\"yearning\",\"for\",\"glory\\\\u2014but\",\"when\",\"the\",\"Toyotomi\",\"suffer\",\"a\",\"crushing\",\"defeat\",\"at\",\"the\",\"hands\",\"of\",\"the\",\"Tokugawa\",\"Clan\",\"at\",\"the\",\"Battle\",\"of\",\"Sekigahara\",\"the\",\"friends\",\"barely\",\"make\",\"it\",\"out\",\"alive\",\"After\",\"the\",\"two\",\"are\",\"separated\",\"Shinmen\",\"returns\",\"home\",\"on\",\"a\",\"selfappointed\",\"mission\",\"to\",\"notify\",\"the\",\"Honiden\",\"family\",\"of\",\"Matahachis\",\"survival\",\"He\",\"instead\",\"finds\",\"himself\",\"a\",\"wanted\",\"criminal\",\"framed\",\"for\",\"his\",\"friends\",\"supposed\",\"murder\",\"based\",\"on\",\"his\",\"history\",\"of\",\"violence\",\"Upon\",\"being\",\"captured\",\"he\",\"is\",\"strung\",\"up\",\"on\",\"a\",\"tree\",\"and\",\"left\",\"to\",\"die\",\"An\",\"itinerant\",\"monk\",\"the\",\"distinguished\",\"Takuan\",\"Soho\",\"takes\",\"pity\",\"on\",\"the\",\"devil\",\"child\",\"secretly\",\"freeing\",\"Shinmen\",\"and\",\"christening\",\"him\",\"with\",\"a\",\"new\",\"name\",\"to\",\"avoid\",\"pursuit\",\"by\",\"the\",\"authorities\",\"Musashi\",\"Miyamoto\",\"Vagabond\",\"is\",\"the\",\"fictitious\",\"retelling\",\"of\",\"the\",\"life\",\"of\",\"one\",\"of\",\"Japans\",\"most\",\"renowned\",\"swordsmen\",\"the\",\"Sword\",\"Saint\",\"Musashi\",\"Miyamoto\\\\u2014his\",\"rise\",\"from\",\"a\",\"swordsman\",\"with\",\"no\",\"desire\",\"other\",\"than\",\"to\",\"become\",\"Invincible\",\"Under\",\"the\",\"Heavens\",\"to\",\"an\",\"enlightened\",\"warrior\",\"who\",\"slowly\",\"learns\",\"of\",\"the\",\"importance\",\"of\",\"close\",\"friends\",\"selfreflection\",\"and\",\"life\",\"itself\"],\"demographics\":[\"Seinen\"],\"authors\":[\"InoueTakehiko\",\"YoshikawaEiji\"],\"genres\":[\"Action\",\"Adventure\",\"Award Winning\"],\"themes\":[\"Historical\",\"Samurai\"],\"type\":[\"manga\"]},{\"manga_id\":44347,\"title\":\"One Punch-Man\",\"title_synonyms\":\"Onepunchman Onepanman OPM\",\"synopsis\":[\"After\",\"rigorously\",\"training\",\"for\",\"three\",\"years\",\"the\",\"ordinary\",\"Saitama\",\"has\",\"gained\",\"immense\",\"strength\",\"which\",\"allows\",\"him\",\"to\",\"take\",\"out\",\"anyone\",\"and\",\"anything\",\"with\",\"just\",\"one\",\"punch\",\"He\",\"decides\",\"to\",\"put\",\"his\",\"new\",\"skill\",\"to\",\"good\",\"use\",\"by\",\"becoming\",\"a\",\"hero\",\"However\",\"he\",\"quickly\",\"becomes\",\"bored\",\"with\",\"easily\",\"defeating\",\"monsters\",\"and\",\"wants\",\"someone\",\"to\",\"give\",\"him\",\"a\",\"challenge\",\"to\",\"bring\",\"back\",\"the\",\"spark\",\"of\",\"being\",\"a\",\"hero\",\"Upon\",\"bearing\",\"witness\",\"to\",\"Saitamas\",\"amazing\",\"power\",\"Genos\",\"a\",\"cyborg\",\"is\",\"determined\",\"to\",\"become\",\"Saitamas\",\"apprentice\",\"During\",\"this\",\"time\",\"Saitama\",\"realizes\",\"he\",\"is\",\"neither\",\"getting\",\"the\",\"recognition\",\"that\",\"he\",\"deserves\",\"nor\",\"known\",\"by\",\"the\",\"people\",\"due\",\"to\",\"him\",\"not\",\"being\",\"a\",\"part\",\"of\",\"the\",\"Hero\",\"Association\",\"Wanting\",\"to\",\"boost\",\"his\",\"reputation\",\"Saitama\",\"decides\",\"to\",\"have\",\"Genos\",\"register\",\"with\",\"him\",\"in\",\"exchange\",\"for\",\"taking\",\"him\",\"in\",\"as\",\"a\",\"pupil\",\"Together\",\"the\",\"two\",\"begin\",\"working\",\"their\",\"way\",\"up\",\"toward\",\"becoming\",\"true\",\"heroes\",\"hoping\",\"to\",\"find\",\"strong\",\"enemies\",\"and\",\"earn\",\"respect\",\"in\",\"the\",\"process\"],\"demographics\":[\"Seinen\"],\"authors\":[\"MurataYusuke\",\"ONE\"],\"genres\":[\"Action\",\"Comedy\"],\"themes\":[\"Parody\",\"Super Power\"],\"type\":[\"manga\"]},{\"manga_id\":12,\"title\":\"Bleach\",\"title_synonyms\":\"\",\"synopsis\":[\"For\",\"as\",\"long\",\"as\",\"he\",\"can\",\"remember\",\"high\",\"school\",\"student\",\"Ichigo\",\"Kurosaki\",\"has\",\"been\",\"able\",\"to\",\"see\",\"the\",\"spirits\",\"of\",\"the\",\"dead\",\"but\",\"that\",\"has\",\"not\",\"stopped\",\"him\",\"from\",\"leading\",\"an\",\"ordinary\",\"life\",\"One\",\"day\",\"Ichigo\",\"returns\",\"home\",\"to\",\"find\",\"an\",\"intruder\",\"in\",\"his\",\"room\",\"who\",\"introduces\",\"herself\",\"as\",\"Rukia\",\"Kuchiki\",\"a\",\"Soul\",\"Reaper\",\"tasked\",\"with\",\"helping\",\"souls\",\"pass\",\"over\",\"Suddenly\",\"the\",\"two\",\"are\",\"jolted\",\"from\",\"their\",\"conversation\",\"when\",\"a\",\"Hollow\\\\u2014an\",\"evil\",\"spirit\",\"known\",\"for\",\"consuming\",\"souls\\\\u2014attacks\",\"As\",\"Ichigo\",\"makes\",\"a\",\"brash\",\"attempt\",\"to\",\"stop\",\"the\",\"Hollow\",\"Rukia\",\"steps\",\"in\",\"and\",\"shields\",\"him\",\"from\",\"a\",\"counterattack\",\"Injured\",\"and\",\"unable\",\"to\",\"keep\",\"fighting\",\"Rukia\",\"suggests\",\"a\",\"risky\",\"plan\\\\u2014transfer\",\"half\",\"of\",\"her\",\"Soul\",\"Reaper\",\"powers\",\"to\",\"Ichigo\",\"He\",\"accepts\",\"and\",\"to\",\"Rukias\",\"surprise\",\"ends\",\"up\",\"absorbing\",\"her\",\"powers\",\"entirely\",\"allowing\",\"him\",\"to\",\"easily\",\"dispatch\",\"the\",\"Hollow\",\"Now\",\"a\",\"Soul\",\"Reaper\",\"himself\",\"Ichigo\",\"must\",\"take\",\"up\",\"Rukias\",\"duties\",\"of\",\"exterminating\",\"Hollows\",\"and\",\"protecting\",\"spirits\",\"both\",\"living\",\"and\",\"dead\",\"Along\",\"with\",\"his\",\"friends\",\"Orihime\",\"Inoue\",\"and\",\"Yasutora\",\"Sado\\\\u2014who\",\"later\",\"discover\",\"spiritual\",\"abilities\",\"of\",\"their\",\"own\\\\u2014Ichigo\",\"soon\",\"learns\",\"that\",\"the\",\"consequences\",\"of\",\"becoming\",\"a\",\"Soul\",\"Reaper\",\"and\",\"dealing\",\"with\",\"the\",\"world\",\"of\",\"spirits\",\"are\",\"far\",\"greater\",\"than\",\"he\",\"ever\",\"imagined\"],\"demographics\":[\"Shounen\"],\"authors\":[\"KuboTite\"],\"genres\":[\"Action\",\"Adventure\",\"Award Winning\",\"Fantasy\"],\"themes\":[],\"type\":[\"manga\"]},{\"manga_id\":21,\"title\":\"Death Note\",\"title_synonyms\":\"\",\"synopsis\":[\"Ryuk\",\"a\",\"god\",\"of\",\"death\",\"drops\",\"his\",\"Death\",\"Note\",\"into\",\"the\",\"human\",\"world\",\"for\",\"personal\",\"pleasure\",\"In\",\"Japan\",\"prodigious\",\"high\",\"school\",\"student\",\"Light\",\"Yagami\",\"stumbles\",\"upon\",\"it\",\"Inside\",\"the\",\"notebook\",\"he\",\"finds\",\"a\",\"chilling\",\"message\",\"those\",\"whose\",\"names\",\"are\",\"written\",\"in\",\"it\",\"shall\",\"die\",\"Its\",\"nonsensical\",\"nature\",\"amuses\",\"Light\",\"but\",\"when\",\"he\",\"tests\",\"its\",\"power\",\"by\",\"writing\",\"the\",\"name\",\"of\",\"a\",\"criminal\",\"in\",\"it\",\"they\",\"suddenly\",\"meet\",\"their\",\"demise\",\"Realizing\",\"the\",\"Death\",\"Notes\",\"vast\",\"potential\",\"Light\",\"commences\",\"a\",\"series\",\"of\",\"nefarious\",\"murders\",\"under\",\"the\",\"pseudonym\",\"Kira\",\"vowing\",\"to\",\"cleanse\",\"the\",\"world\",\"of\",\"corrupt\",\"individuals\",\"and\",\"create\",\"a\",\"perfect\",\"society\",\"where\",\"crime\",\"ceases\",\"to\",\"exist\",\"However\",\"the\",\"police\",\"quickly\",\"catch\",\"on\",\"and\",\"they\",\"enlist\",\"the\",\"help\",\"of\",\"L\\\\u2014a\",\"mastermind\",\"detective\\\\u2014to\",\"uncover\",\"the\",\"culprit\",\"Death\",\"Note\",\"tells\",\"the\",\"thrilling\",\"tale\",\"of\",\"Light\",\"and\",\"L\",\"as\",\"they\",\"clash\",\"in\",\"a\",\"great\",\"battleofminds\",\"one\",\"that\",\"will\",\"determine\",\"the\",\"future\",\"of\",\"the\",\"world\"],\"demographics\":[\"Shounen\"],\"authors\":[\"ObataTakeshi\",\"OhbaTsugumi\"],\"genres\":[\"Supernatural\",\"Suspense\"],\"themes\":[\"Psychological\"],\"type\":[\"manga\"]},{\"manga_id\":642,\"title\":\"Vinland Saga\",\"title_synonyms\":\"\",\"synopsis\":[\"Thorfinn\",\"son\",\"of\",\"one\",\"of\",\"the\",\"Vikings\",\"greatest\",\"warriors\",\"is\",\"among\",\"the\",\"finest\",\"fighters\",\"in\",\"the\",\"merry\",\"band\",\"of\",\"mercenaries\",\"run\",\"by\",\"the\",\"cunning\",\"Askeladd\",\"an\",\"impressive\",\"feat\",\"for\",\"a\",\"person\",\"his\",\"age\",\"However\",\"Thorfinn\",\"is\",\"not\",\"part\",\"of\",\"the\",\"group\",\"for\",\"the\",\"plunder\",\"it\",\"entails\\\\u2014instead\",\"for\",\"having\",\"caused\",\"his\",\"family\",\"great\",\"tragedy\",\"the\",\"boy\",\"has\",\"vowed\",\"to\",\"kill\",\"Askeladd\",\"in\",\"a\",\"fair\",\"duel\",\"Not\",\"yet\",\"skilled\",\"enough\",\"to\",\"defeat\",\"him\",\"but\",\"unable\",\"to\",\"abandon\",\"his\",\"vengeance\",\"Thorfinn\",\"spends\",\"his\",\"boyhood\",\"with\",\"the\",\"mercenary\",\"crew\",\"honing\",\"his\",\"skills\",\"on\",\"the\",\"battlefield\",\"among\",\"the\",\"warloving\",\"Danes\",\"where\",\"killing\",\"is\",\"just\",\"another\",\"pleasure\",\"of\",\"life\",\"One\",\"day\",\"when\",\"Askeladd\",\"receives\",\"word\",\"that\",\"Danish\",\"prince\",\"Canute\",\"has\",\"been\",\"taken\",\"hostage\",\"he\",\"hatches\",\"an\",\"ambitious\",\"plot\\\\u2014one\",\"that\",\"will\",\"decide\",\"the\",\"next\",\"King\",\"of\",\"England\",\"and\",\"drastically\",\"alter\",\"the\",\"lives\",\"of\",\"Thorfinn\",\"Canute\",\"and\",\"himself\",\"Set\",\"in\",\"11thcentury\",\"Europe\",\"Vinland\",\"Saga\",\"tells\",\"a\",\"bloody\",\"epic\",\"in\",\"an\",\"era\",\"where\",\"violence\",\"madness\",\"and\",\"injustice\",\"are\",\"inescapable\",\"providing\",\"a\",\"paradise\",\"for\",\"the\",\"battlecrazed\",\"and\",\"utter\",\"hell\",\"for\",\"the\",\"rest\",\"who\",\"live\",\"in\",\"it\"],\"demographics\":[\"Seinen\"],\"authors\":[\"YukimuraMakoto\"],\"genres\":[\"Action\",\"Adventure\",\"Award Winning\",\"Drama\"],\"themes\":[\"Historical\"],\"type\":[\"manga\"]},{\"manga_id\":25,\"title\":\"Fullmetal Alchemist\",\"title_synonyms\":\"Full Metal Alchemist Hagane no Renkinjutsushi FMA HagaRen Fullmetal Alchemist Gaiden\",\"synopsis\":[\"Alchemists\",\"are\",\"knowledgeable\",\"and\",\"naturally\",\"talented\",\"individuals\",\"who\",\"can\",\"manipulate\",\"and\",\"modify\",\"matter\",\"due\",\"to\",\"their\",\"art\",\"Yet\",\"despite\",\"the\",\"wide\",\"range\",\"of\",\"possibilities\",\"alchemy\",\"is\",\"not\",\"as\",\"allpowerful\",\"as\",\"most\",\"would\",\"believe\",\"Human\",\"transmutation\",\"is\",\"strictly\",\"forbidden\",\"and\",\"whoever\",\"attempts\",\"it\",\"risks\",\"severe\",\"consequences\",\"Even\",\"so\",\"siblings\",\"Edward\",\"and\",\"Alphonse\",\"Elric\",\"decide\",\"to\",\"ignore\",\"this\",\"great\",\"taboo\",\"and\",\"bring\",\"their\",\"mother\",\"back\",\"to\",\"life\",\"Unfortunately\",\"not\",\"only\",\"do\",\"they\",\"fail\",\"in\",\"resurrecting\",\"her\",\"they\",\"also\",\"pay\",\"an\",\"extremely\",\"high\",\"price\",\"for\",\"their\",\"arrogance\",\"Edward\",\"loses\",\"his\",\"left\",\"leg\",\"and\",\"Alphonse\",\"his\",\"entire\",\"body\",\"Furthermore\",\"Edward\",\"also\",\"gives\",\"up\",\"his\",\"right\",\"arm\",\"in\",\"order\",\"to\",\"seal\",\"his\",\"brothers\",\"soul\",\"into\",\"a\",\"suit\",\"of\",\"armor\",\"Years\",\"later\",\"the\",\"young\",\"alchemists\",\"travel\",\"across\",\"the\",\"country\",\"looking\",\"for\",\"the\",\"Philosophers\",\"Stone\",\"in\",\"the\",\"hopes\",\"of\",\"recovering\",\"their\",\"old\",\"bodies\",\"with\",\"its\",\"power\",\"However\",\"their\",\"quest\",\"for\",\"the\",\"fated\",\"stone\",\"also\",\"leads\",\"them\",\"to\",\"unravel\",\"far\",\"darker\",\"secrets\",\"than\",\"they\",\"could\",\"ever\",\"imagine\"],\"demographics\":[\"Shounen\"],\"authors\":[\"ArakawaHiromu\"],\"genres\":[\"Action\",\"Adventure\",\"Award Winning\",\"Drama\",\"Fantasy\"],\"themes\":[\"Military\"],\"type\":[\"manga\"]},{\"manga_id\":96792,\"title\":\"Kimetsu no Yaiba\",\"title_synonyms\":\"Blade of Demon Destruction\",\"synopsis\":[\"Tanjirou\",\"Kamado\",\"lives\",\"with\",\"his\",\"impoverished\",\"family\",\"on\",\"a\",\"remote\",\"mountain\",\"As\",\"the\",\"oldest\",\"sibling\",\"he\",\"took\",\"upon\",\"the\",\"responsibility\",\"of\",\"ensuring\",\"his\",\"familys\",\"livelihood\",\"after\",\"the\",\"death\",\"of\",\"his\",\"father\",\"On\",\"a\",\"cold\",\"winter\",\"day\",\"he\",\"goes\",\"down\",\"to\",\"the\",\"local\",\"village\",\"in\",\"order\",\"to\",\"sell\",\"some\",\"charcoal\",\"As\",\"dusk\",\"falls\",\"he\",\"is\",\"forced\",\"to\",\"spend\",\"the\",\"night\",\"in\",\"the\",\"house\",\"of\",\"a\",\"curious\",\"man\",\"who\",\"cautions\",\"him\",\"of\",\"strange\",\"creatures\",\"that\",\"roam\",\"the\",\"night\",\"malevolent\",\"demons\",\"who\",\"crave\",\"human\",\"flesh\",\"When\",\"he\",\"finally\",\"makes\",\"his\",\"way\",\"home\",\"Tanjirous\",\"worst\",\"nightmare\",\"comes\",\"true\",\"His\",\"entire\",\"family\",\"has\",\"been\",\"brutally\",\"slaughtered\",\"with\",\"the\",\"sole\",\"exception\",\"of\",\"his\",\"sister\",\"Nezuko\",\"who\",\"has\",\"turned\",\"into\",\"a\",\"flesheating\",\"demon\",\"Engulfed\",\"in\",\"hatred\",\"and\",\"despair\",\"Tanjirou\",\"desperately\",\"tries\",\"to\",\"stop\",\"Nezuko\",\"from\",\"attacking\",\"other\",\"people\",\"setting\",\"out\",\"on\",\"a\",\"journey\",\"to\",\"avenge\",\"his\",\"family\",\"and\",\"find\",\"a\",\"way\",\"to\",\"turn\",\"his\",\"beloved\",\"sister\",\"back\",\"into\",\"a\",\"human\"],\"demographics\":[\"Shounen\"],\"authors\":[\"GotougeKoyoharu\"],\"genres\":[\"Action\",\"Fantasy\"],\"themes\":[\"Historical\"],\"type\":[\"manga\"]},{\"manga_id\":90125,\"title\":\"Kaguya-sama wa Kokurasetai: Tensai-tachi no Renai Zunousen\",\"title_synonyms\":\"Kaguya Wants to be Confessed To The Geniuses War of Love and Brains\",\"synopsis\":[\"Considered\",\"a\",\"genius\",\"due\",\"to\",\"having\",\"the\",\"highest\",\"grades\",\"in\",\"the\",\"country\",\"Miyuki\",\"Shirogane\",\"leads\",\"the\",\"prestigious\",\"Shuchiin\",\"Academys\",\"student\",\"council\",\"as\",\"its\",\"president\",\"working\",\"alongside\",\"the\",\"beautiful\",\"and\",\"wealthy\",\"vice\",\"president\",\"Kaguya\",\"Shinomiya\",\"The\",\"two\",\"are\",\"often\",\"regarded\",\"as\",\"the\",\"perfect\",\"couple\",\"by\",\"students\",\"despite\",\"them\",\"not\",\"being\",\"in\",\"any\",\"sort\",\"of\",\"romantic\",\"relationship\",\"However\",\"the\",\"truth\",\"is\",\"that\",\"after\",\"spending\",\"so\",\"much\",\"time\",\"together\",\"the\",\"two\",\"have\",\"developed\",\"feelings\",\"for\",\"one\",\"another\",\"unfortunately\",\"neither\",\"is\",\"willing\",\"to\",\"confess\",\"as\",\"doing\",\"so\",\"would\",\"be\",\"a\",\"sign\",\"of\",\"weakness\",\"With\",\"their\",\"pride\",\"as\",\"elite\",\"students\",\"on\",\"the\",\"line\",\"Miyuki\",\"and\",\"Kaguya\",\"embark\",\"on\",\"a\",\"quest\",\"to\",\"do\",\"whatever\",\"is\",\"necessary\",\"to\",\"get\",\"a\",\"confession\",\"out\",\"of\",\"the\",\"other\",\"Through\",\"their\",\"daily\",\"antics\",\"the\",\"battle\",\"of\",\"love\",\"begins\"],\"demographics\":[\"Seinen\"],\"authors\":[\"AkasakaAka\"],\"genres\":[\"Award Winning\",\"Comedy\"],\"themes\":[\"Romantic Subtext\",\"School\"],\"type\":[\"manga\"]},{\"manga_id\":75989,\"title\":\"Boku no Hero Academia\",\"title_synonyms\":\"\",\"synopsis\":[\"One\",\"day\",\"a\",\"fouryearold\",\"boy\",\"came\",\"to\",\"a\",\"sudden\",\"realization\",\"the\",\"world\",\"is\",\"not\",\"fair\",\"Eighty\",\"percent\",\"of\",\"the\",\"worlds\",\"population\",\"wield\",\"special\",\"abilities\",\"known\",\"as\",\"quirks\",\"which\",\"have\",\"given\",\"many\",\"the\",\"power\",\"to\",\"make\",\"their\",\"childhood\",\"dreams\",\"of\",\"becoming\",\"a\",\"superhero\",\"a\",\"reality\",\"Unfortunately\",\"Izuku\",\"Midoriya\",\"was\",\"one\",\"of\",\"the\",\"few\",\"born\",\"without\",\"a\",\"quirk\",\"suffering\",\"from\",\"discrimination\",\"because\",\"of\",\"it\",\"Yet\",\"he\",\"refuses\",\"to\",\"give\",\"up\",\"on\",\"his\",\"dream\",\"of\",\"becoming\",\"a\",\"hero\",\"determined\",\"to\",\"do\",\"the\",\"impossible\",\"Izuku\",\"sets\",\"his\",\"sights\",\"on\",\"the\",\"elite\",\"hero\",\"training\",\"academy\",\"UA\",\"High\",\"However\",\"everything\",\"changes\",\"after\",\"a\",\"chance\",\"meeting\",\"with\",\"the\",\"number\",\"one\",\"hero\",\"and\",\"Izukus\",\"idol\",\"All\",\"Might\",\"Discovering\",\"that\",\"his\",\"dream\",\"is\",\"not\",\"a\",\"dead\",\"end\",\"the\",\"powerless\",\"boy\",\"undergoes\",\"special\",\"training\",\"working\",\"harder\",\"than\",\"ever\",\"before\",\"Eventually\",\"this\",\"leads\",\"to\",\"him\",\"inheriting\",\"All\",\"Mights\",\"power\",\"and\",\"with\",\"his\",\"newfound\",\"abilities\",\"gets\",\"into\",\"his\",\"school\",\"of\",\"choice\",\"beginning\",\"his\",\"grueling\",\"journey\",\"to\",\"become\",\"the\",\"successor\",\"of\",\"the\",\"best\",\"hero\",\"on\",\"the\",\"planet\"],\"demographics\":[\"Shounen\"],\"authors\":[\"HorikoshiKouhei\"],\"genres\":[\"Action\"],\"themes\":[\"School\",\"Super Power\"],\"type\":[\"manga\"]},{\"manga_id\":113138,\"title\":\"Jujutsu Kaisen\",\"title_synonyms\":\"Sorcery Fight\",\"synopsis\":[\"Hidden\",\"in\",\"plain\",\"sight\",\"an\",\"ageold\",\"conflict\",\"rages\",\"on\",\"Supernatural\",\"monsters\",\"known\",\"as\",\"Curses\",\"terrorize\",\"humanity\",\"from\",\"the\",\"shadows\",\"and\",\"powerful\",\"humans\",\"known\",\"as\",\"Jujutsu\",\"sorcerers\",\"use\",\"mystical\",\"arts\",\"to\",\"exterminate\",\"them\",\"When\",\"high\",\"school\",\"student\",\"Yuuji\",\"Itadori\",\"finds\",\"a\",\"driedup\",\"finger\",\"of\",\"the\",\"legendary\",\"Curse\",\"Sukuna\",\"Ryoumen\",\"he\",\"suddenly\",\"finds\",\"himself\",\"joining\",\"this\",\"bloody\",\"conflict\",\"Attacked\",\"by\",\"a\",\"Curse\",\"attracted\",\"to\",\"the\",\"fingers\",\"power\",\"Yuuji\",\"makes\",\"a\",\"reckless\",\"decision\",\"to\",\"protect\",\"himself\",\"gaining\",\"the\",\"power\",\"to\",\"combat\",\"Curses\",\"in\",\"the\",\"process\",\"but\",\"also\",\"unwittingly\",\"unleashing\",\"the\",\"malicious\",\"Sukuna\",\"into\",\"the\",\"world\",\"once\",\"more\",\"Though\",\"Yuuji\",\"can\",\"control\",\"and\",\"confine\",\"Sukuna\",\"to\",\"his\",\"own\",\"body\",\"the\",\"Jujutsu\",\"world\",\"classifies\",\"Yuuji\",\"as\",\"a\",\"dangerous\",\"highlevel\",\"Curse\",\"who\",\"must\",\"be\",\"exterminated\",\"Detained\",\"and\",\"sentenced\",\"to\",\"death\",\"Yuuji\",\"meets\",\"Satoru\",\"Gojou\\\\u2014a\",\"teacher\",\"at\",\"Jujutsu\",\"High\",\"School\\\\u2014who\",\"explains\",\"that\",\"despite\",\"his\",\"imminent\",\"execution\",\"there\",\"is\",\"an\",\"alternative\",\"for\",\"him\",\"Being\",\"a\",\"rare\",\"vessel\",\"to\",\"Sukuna\",\"if\",\"Yuuji\",\"were\",\"to\",\"die\",\"then\",\"Sukuna\",\"would\",\"perish\",\"too\",\"Therefore\",\"if\",\"Yuuji\",\"were\",\"to\",\"consume\",\"the\",\"many\",\"other\",\"remnants\",\"of\",\"Sukuna\",\"then\",\"Yuujis\",\"subsequent\",\"execution\",\"would\",\"truly\",\"eradicate\",\"the\",\"malicious\",\"demon\",\"Taking\",\"up\",\"this\",\"chance\",\"to\",\"make\",\"the\",\"world\",\"safer\",\"and\",\"live\",\"his\",\"life\",\"for\",\"a\",\"little\",\"longer\",\"Yuuji\",\"enrolls\",\"in\",\"Jujutsu\",\"High\",\"jumping\",\"headfirst\",\"into\",\"a\",\"harsh\",\"and\",\"unforgiving\",\"battlefield\"],\"demographics\":[\"Shounen\"],\"authors\":[\"AkutamiGege\"],\"genres\":[\"Action\",\"Supernatural\"],\"themes\":[\"School\"],\"type\":[\"manga\"]},{\"manga_id\":42451,\"title\":\"Horimiya\",\"title_synonyms\":\"\",\"synopsis\":[\"Although\",\"admired\",\"at\",\"school\",\"for\",\"her\",\"amiability\",\"and\",\"academic\",\"prowess\",\"high\",\"school\",\"student\",\"Kyouko\",\"Hori\",\"has\",\"been\",\"hiding\",\"another\",\"side\",\"of\",\"her\",\"With\",\"her\",\"parents\",\"often\",\"away\",\"from\",\"home\",\"due\",\"to\",\"work\",\"Hori\",\"has\",\"to\",\"look\",\"after\",\"her\",\"younger\",\"brother\",\"and\",\"do\",\"the\",\"housework\",\"leaving\",\"no\",\"chance\",\"to\",\"socialize\",\"away\",\"from\",\"school\",\"Meanwhile\",\"Izumi\",\"Miyamura\",\"is\",\"seen\",\"as\",\"a\",\"brooding\",\"glasseswearing\",\"otaku\",\"However\",\"in\",\"reality\",\"he\",\"is\",\"a\",\"gentle\",\"person\",\"inept\",\"at\",\"studying\",\"Furthermore\",\"he\",\"has\",\"nine\",\"piercings\",\"hidden\",\"behind\",\"his\",\"long\",\"hair\",\"and\",\"a\",\"tattoo\",\"along\",\"his\",\"back\",\"and\",\"left\",\"shoulder\",\"By\",\"sheer\",\"chance\",\"Hori\",\"and\",\"Miyamura\",\"cross\",\"paths\",\"outside\",\"of\",\"school\\\\u2014neither\",\"looking\",\"as\",\"the\",\"other\",\"expects\",\"These\",\"seemingly\",\"polar\",\"opposites\",\"become\",\"friends\",\"sharing\",\"with\",\"each\",\"other\",\"a\",\"side\",\"they\",\"have\",\"never\",\"shown\",\"to\",\"anyone\",\"else\"],\"demographics\":[\"Shounen\"],\"authors\":[\"HagiwaraDaisuke\",\"HERO\"],\"genres\":[\"Romance\"],\"themes\":[\"School\"],\"type\":[\"manga\"]},{\"manga_id\":26,\"title\":\"Hunter x Hunter\",\"title_synonyms\":\"HxH\",\"synopsis\":[\"Secret\",\"treasure\",\"hoards\",\"undiscovered\",\"wealth\",\"mystical\",\"places\",\"unexplored\",\"frontiers\",\"The\",\"mysterious\",\"unknown\",\"Theres\",\"magic\",\"in\",\"such\",\"words\",\"for\",\"those\",\"captivated\",\"by\",\"its\",\"spell\",\"They\",\"are\",\"called\",\"Hunters\",\"Gon\",\"Freecss\",\"wants\",\"to\",\"become\",\"a\",\"Hunter\",\"so\",\"he\",\"can\",\"find\",\"his\",\"father\",\"a\",\"man\",\"who\",\"abandoned\",\"him\",\"to\",\"pursue\",\"a\",\"life\",\"of\",\"adventure\",\"But\",\"its\",\"not\",\"that\",\"simple\",\"only\",\"one\",\"in\",\"one\",\"hundred\",\"thousand\",\"can\",\"pass\",\"the\",\"Hunter\",\"Exam\",\"and\",\"that\",\"is\",\"just\",\"the\",\"first\",\"obstacle\",\"on\",\"his\",\"journey\",\"During\",\"the\",\"Hunter\",\"Exam\",\"Gon\",\"befriends\",\"many\",\"other\",\"potential\",\"Hunters\",\"such\",\"as\",\"the\",\"mysterious\",\"Killua\",\"the\",\"revengedriven\",\"Kurapika\",\"and\",\"Leorio\",\"who\",\"aims\",\"to\",\"become\",\"a\",\"doctor\",\"Theres\",\"a\",\"world\",\"of\",\"adventure\",\"and\",\"peril\",\"awaiting\",\"and\",\"those\",\"who\",\"embrace\",\"it\",\"with\",\"open\",\"arms\",\"can\",\"become\",\"the\",\"greatest\",\"Hunters\",\"of\",\"them\",\"all\"],\"demographics\":[\"Shounen\"],\"authors\":[\"TogashiYoshihiro\"],\"genres\":[\"Action\",\"Adventure\",\"Fantasy\"],\"themes\":[],\"type\":[\"manga\"]},{\"manga_id\":56805,\"title\":\"Koe no Katachi\",\"title_synonyms\":\"The Shape of Voice\",\"synopsis\":[\"Shouya\",\"Ishida\",\"a\",\"mischievous\",\"elementary\",\"school\",\"student\",\"finds\",\"himself\",\"troubled\",\"by\",\"deaf\",\"transfer\",\"student\",\"Shouko\",\"Nishimiya\",\"Despite\",\"her\",\"genuine\",\"attempts\",\"to\",\"befriend\",\"her\",\"new\",\"classmates\",\"Shouko\",\"only\",\"proves\",\"herself\",\"to\",\"be\",\"an\",\"annoyance\",\"for\",\"Shouya\",\"and\",\"his\",\"friends\",\"provoking\",\"them\",\"to\",\"ridicule\",\"her\",\"at\",\"any\",\"possible\",\"chance\",\"Soon\",\"enough\",\"their\",\"taunts\",\"turn\",\"into\",\"constant\",\"assault\\\\u2014yet\",\"the\",\"teachers\",\"heartlessly\",\"remain\",\"apathetic\",\"to\",\"the\",\"situation\",\"Shouyas\",\"misdeeds\",\"are\",\"finally\",\"stopped\",\"when\",\"Shouko\",\"transfers\",\"to\",\"another\",\"school\",\"Denying\",\"their\",\"involvement\",\"the\",\"entire\",\"class\",\"puts\",\"the\",\"blame\",\"on\",\"Shouya\",\"As\",\"the\",\"new\",\"victim\",\"of\",\"bullying\",\"Shouya\",\"gradually\",\"becomes\",\"meek\",\"and\",\"reclusive\",\"being\",\"treated\",\"with\",\"contempt\",\"and\",\"disregard\",\"for\",\"years\",\"to\",\"come\",\"Now\",\"a\",\"high\",\"school\",\"student\",\"Shouya\",\"meets\",\"Shouko\",\"again\",\"for\",\"the\",\"first\",\"time\",\"in\",\"five\",\"years\",\"Still\",\"tormented\",\"by\",\"his\",\"past\",\"actions\",\"Shouya\",\"is\",\"determined\",\"to\",\"make\",\"amends\",\"for\",\"his\",\"mistakes\",\"and\",\"confront\",\"his\",\"trauma\\\\u2014even\",\"if\",\"he\",\"must\",\"face\",\"arduous\",\"obstacles\",\"along\",\"the\",\"way\"],\"demographics\":[\"Shounen\"],\"authors\":[\"OoimaYoshitoki\"],\"genres\":[\"Award Winning\",\"Drama\"],\"themes\":[\"Romantic Subtext\"],\"type\":[\"manga\"]},{\"manga_id\":598,\"title\":\"Fairy Tail\",\"title_synonyms\":\"\",\"synopsis\":[\"In\",\"the\",\"mystical\",\"realm\",\"of\",\"Earth\",\"Land\",\"magic\",\"exists\",\"at\",\"the\",\"core\",\"of\",\"everyday\",\"life\",\"for\",\"its\",\"inhabitants\",\"from\",\"transportation\",\"to\",\"utilities\",\"and\",\"everything\",\"in\",\"between\",\"However\",\"even\",\"with\",\"all\",\"its\",\"benefits\",\"magic\",\"can\",\"also\",\"be\",\"used\",\"for\",\"great\",\"evil\",\"therefore\",\"to\",\"prevent\",\"dark\",\"forces\",\"from\",\"upsetting\",\"the\",\"natural\",\"order\",\"of\",\"things\",\"there\",\"exists\",\"a\",\"system\",\"of\",\"magical\",\"guilds\",\"in\",\"the\",\"Kingdom\",\"of\",\"Fiore\",\"Under\",\"the\",\"command\",\"of\",\"their\",\"respective\",\"guild\",\"masters\",\"these\",\"guilds\",\"are\",\"made\",\"up\",\"of\",\"witches\",\"and\",\"wizards\",\"who\",\"take\",\"on\",\"various\",\"job\",\"requests\",\"to\",\"earn\",\"fame\",\"and\",\"fortune\",\"One\",\"particular\",\"guild\",\"stands\",\"high\",\"above\",\"the\",\"rest\",\"in\",\"both\",\"strength\",\"and\",\"spirit\",\"and\",\"its\",\"name\",\"is\",\"Fairy\",\"Tail\",\"In\",\"his\",\"quest\",\"to\",\"find\",\"his\",\"dragon\",\"foster\",\"father\\\\u2014Igneel\\\\u2014Natsu\",\"Dragneel\",\"a\",\"fiery\",\"and\",\"reckless\",\"mage\",\"and\",\"his\",\"partner\",\"Happy\",\"run\",\"into\",\"a\",\"young\",\"celestial\",\"mage\",\"by\",\"the\",\"name\",\"of\",\"Lucy\",\"Heartfilia\",\"who\",\"reveals\",\"that\",\"its\",\"her\",\"dream\",\"to\",\"become\",\"a\",\"fullfledged\",\"wizard\",\"and\",\"join\",\"the\",\"Fairy\",\"Tail\",\"guild\",\"After\",\"rescuing\",\"her\",\"from\",\"an\",\"abduction\",\"attempt\",\"Natsu\",\"offers\",\"her\",\"a\",\"home\",\"in\",\"Fairy\",\"Tail\",\"Now\",\"a\",\"member\",\"of\",\"the\",\"guild\",\"Lucy\",\"teams\",\"up\",\"with\",\"Natsu\",\"and\",\"befriends\",\"fellow\",\"wizards\",\"Gray\",\"Fullbuster\",\"and\",\"Erza\",\"Titania\",\"Scarlet\",\"Together\",\"this\",\"motley\",\"crew\",\"set\",\"out\",\"on\",\"their\",\"many\",\"adventures\",\"gaining\",\"many\",\"faithful\",\"allies\",\"and\",\"deadly\",\"foes\",\"along\",\"the\",\"way\"],\"demographics\":[\"Shounen\"],\"authors\":[\"MashimaHiro\"],\"genres\":[\"Action\",\"Adventure\",\"Award Winning\",\"Fantasy\"],\"themes\":[],\"type\":[\"manga\"]},{\"manga_id\":119161,\"title\":\"Spy x Family\",\"title_synonyms\":\"\",\"synopsis\":[\"For\",\"the\",\"agent\",\"known\",\"as\",\"Twilight\",\"no\",\"order\",\"is\",\"too\",\"tall\",\"if\",\"it\",\"is\",\"for\",\"the\",\"sake\",\"of\",\"peace\",\"Operating\",\"as\",\"Westalis\",\"master\",\"spy\",\"Twilight\",\"works\",\"tirelessly\",\"to\",\"prevent\",\"extremists\",\"from\",\"sparking\",\"a\",\"war\",\"with\",\"neighboring\",\"country\",\"Ostania\",\"For\",\"his\",\"latest\",\"mission\",\"he\",\"must\",\"investigate\",\"Ostanian\",\"politician\",\"Donovan\",\"Desmond\",\"by\",\"infiltrating\",\"his\",\"sons\",\"school\",\"the\",\"prestigious\",\"Eden\",\"Academy\",\"Thus\",\"the\",\"agent\",\"faces\",\"the\",\"most\",\"difficult\",\"task\",\"of\",\"his\",\"career\",\"get\",\"married\",\"have\",\"a\",\"child\",\"and\",\"play\",\"family\",\"Twilight\",\"or\",\"Loid\",\"Forger\",\"quickly\",\"adopts\",\"the\",\"unassuming\",\"orphan\",\"Anya\",\"to\",\"play\",\"the\",\"role\",\"of\",\"a\",\"sixyearold\",\"daughter\",\"and\",\"prospective\",\"Eden\",\"Academy\",\"student\",\"For\",\"a\",\"wife\",\"he\",\"comes\",\"across\",\"Yor\",\"Briar\",\"an\",\"absentminded\",\"office\",\"worker\",\"who\",\"needs\",\"a\",\"pretend\",\"partner\",\"of\",\"her\",\"own\",\"to\",\"impress\",\"her\",\"friends\",\"However\",\"Loid\",\"is\",\"not\",\"the\",\"only\",\"one\",\"with\",\"a\",\"hidden\",\"nature\",\"Yor\",\"moonlights\",\"as\",\"the\",\"lethal\",\"assassin\",\"Thorn\",\"Princess\",\"For\",\"her\",\"marrying\",\"Loid\",\"creates\",\"the\",\"perfect\",\"cover\",\"Meanwhile\",\"Anya\",\"is\",\"not\",\"the\",\"ordinary\",\"girl\",\"she\",\"appears\",\"to\",\"be\",\"she\",\"is\",\"an\",\"esper\",\"the\",\"product\",\"of\",\"secret\",\"experiments\",\"that\",\"allow\",\"her\",\"to\",\"read\",\"minds\",\"Although\",\"she\",\"uncovers\",\"their\",\"true\",\"identities\",\"Anya\",\"is\",\"thrilled\",\"that\",\"her\",\"new\",\"parents\",\"are\",\"cool\",\"secret\",\"agents\",\"She\",\"would\",\"never\",\"tell\",\"them\",\"of\",\"course\",\"That\",\"would\",\"ruin\",\"the\",\"fun\",\"Under\",\"the\",\"guise\",\"of\",\"The\",\"Forgers\",\"the\",\"spy\",\"the\",\"assassin\",\"and\",\"the\",\"esper\",\"must\",\"act\",\"as\",\"a\",\"family\",\"while\",\"carrying\",\"out\",\"their\",\"own\",\"agendas\",\"Although\",\"these\",\"liars\",\"and\",\"misfits\",\"are\",\"only\",\"playing\",\"parts\",\"they\",\"soon\",\"find\",\"that\",\"family\",\"is\",\"about\",\"far\",\"more\",\"than\",\"blood\",\"relations\"],\"demographics\":[\"Shounen\"],\"authors\":[\"EndouTatsuya\"],\"genres\":[\"Action\",\"Comedy\"],\"themes\":[\"Childcare\"],\"type\":[\"manga\"]},{\"manga_id\":1,\"title\":\"Monster\",\"title_synonyms\":\"\",\"synopsis\":[\"Kenzou\",\"Tenma\",\"a\",\"renowned\",\"Japanese\",\"neurosurgeon\",\"working\",\"in\",\"postwar\",\"Germany\",\"faces\",\"a\",\"difficult\",\"choice\",\"to\",\"operate\",\"on\",\"Johan\",\"Liebert\",\"an\",\"orphan\",\"boy\",\"on\",\"the\",\"verge\",\"of\",\"death\",\"or\",\"on\",\"the\",\"mayor\",\"of\",\"D\\\\u00fcsseldorf\",\"In\",\"the\",\"end\",\"Tenma\",\"decides\",\"to\",\"gamble\",\"his\",\"reputation\",\"by\",\"saving\",\"Johan\",\"effectively\",\"leaving\",\"the\",\"mayor\",\"for\",\"dead\",\"As\",\"a\",\"consequence\",\"of\",\"his\",\"actions\",\"hospital\",\"director\",\"Heinemann\",\"strips\",\"Tenma\",\"of\",\"his\",\"position\",\"and\",\"Heinemanns\",\"daughter\",\"Eva\",\"breaks\",\"off\",\"their\",\"engagement\",\"Disgraced\",\"and\",\"shunned\",\"by\",\"his\",\"colleagues\",\"Tenma\",\"loses\",\"all\",\"hope\",\"of\",\"a\",\"successful\",\"career\\\\u2014that\",\"is\",\"until\",\"the\",\"mysterious\",\"killing\",\"of\",\"Heinemann\",\"gives\",\"him\",\"another\",\"chance\",\"Nine\",\"years\",\"later\",\"Tenma\",\"is\",\"the\",\"head\",\"of\",\"the\",\"surgical\",\"department\",\"and\",\"close\",\"to\",\"becoming\",\"the\",\"director\",\"himself\",\"Although\",\"all\",\"seems\",\"well\",\"for\",\"him\",\"at\",\"first\",\"he\",\"soon\",\"becomes\",\"entangled\",\"in\",\"a\",\"chain\",\"of\",\"gruesome\",\"murders\",\"that\",\"have\",\"taken\",\"place\",\"throughout\",\"Germany\",\"The\",\"culprit\",\"is\",\"a\",\"monster\\\\u2014the\",\"same\",\"one\",\"that\",\"Tenma\",\"saved\",\"on\",\"that\",\"fateful\",\"day\",\"nine\",\"years\",\"ago\"],\"demographics\":[\"Seinen\"],\"authors\":[\"UrasawaNaoki\"],\"genres\":[\"Award Winning\",\"Drama\",\"Mystery\"],\"themes\":[\"Adult Cast\",\"Psychological\"],\"type\":[\"manga\"]},{\"manga_id\":81117,\"title\":\"Tokyo Ghoul:re\",\"title_synonyms\":\"Tokyo Kushure Toukyou Kuushure Tokyo Ghoul Joker\",\"synopsis\":[\"Two\",\"years\",\"have\",\"passed\",\"since\",\"the\",\"CCGs\",\"raid\",\"on\",\"Anteiku\",\"Although\",\"the\",\"atmosphere\",\"in\",\"Tokyo\",\"has\",\"changed\",\"drastically\",\"due\",\"to\",\"the\",\"increased\",\"influence\",\"of\",\"the\",\"CCG\",\"ghouls\",\"continue\",\"to\",\"pose\",\"a\",\"problem\",\"as\",\"they\",\"have\",\"begun\",\"taking\",\"caution\",\"especially\",\"the\",\"terrorist\",\"organization\",\"Aogiri\",\"Tree\",\"who\",\"acknowledge\",\"the\",\"CCGs\",\"growing\",\"threat\",\"to\",\"their\",\"existence\",\"The\",\"creation\",\"of\",\"a\",\"special\",\"team\",\"known\",\"as\",\"the\",\"Quinx\",\"Squad\",\"may\",\"provide\",\"the\",\"CCG\",\"with\",\"the\",\"push\",\"they\",\"need\",\"to\",\"exterminate\",\"Tokyos\",\"unwanted\",\"residents\",\"As\",\"humans\",\"who\",\"have\",\"undergone\",\"surgery\",\"in\",\"order\",\"to\",\"make\",\"use\",\"of\",\"the\",\"special\",\"abilities\",\"of\",\"ghouls\",\"they\",\"participate\",\"in\",\"operations\",\"to\",\"eradicate\",\"the\",\"dangerous\",\"creatures\",\"The\",\"leader\",\"of\",\"this\",\"group\",\"Haise\",\"Sasaki\",\"is\",\"a\",\"halfghoul\",\"halfhuman\",\"who\",\"has\",\"been\",\"trained\",\"by\",\"famed\",\"special\",\"class\",\"investigator\",\"Kishou\",\"Arima\",\"However\",\"theres\",\"more\",\"to\",\"this\",\"young\",\"man\",\"than\",\"meets\",\"the\",\"eye\",\"as\",\"unknown\",\"memories\",\"claw\",\"at\",\"his\",\"mind\",\"slowly\",\"reminding\",\"him\",\"of\",\"the\",\"person\",\"he\",\"used\",\"to\",\"be\"],\"demographics\":[\"Seinen\"],\"authors\":[\"IshidaSui\"],\"genres\":[\"Action\",\"Fantasy\",\"Horror\"],\"themes\":[\"Gore\",\"Psychological\"],\"type\":[\"manga\"]},{\"manga_id\":100128,\"title\":\"Yakusoku no Neverland\",\"title_synonyms\":\"\",\"synopsis\":[\"At\",\"Grace\",\"Field\",\"House\",\"life\",\"couldnt\",\"be\",\"better\",\"for\",\"the\",\"orphans\",\"Though\",\"they\",\"have\",\"no\",\"parents\",\"together\",\"with\",\"the\",\"other\",\"kids\",\"and\",\"a\",\"kind\",\"Mama\",\"who\",\"cares\",\"for\",\"them\",\"they\",\"form\",\"one\",\"big\",\"happy\",\"family\",\"No\",\"child\",\"is\",\"ever\",\"overlooked\",\"especially\",\"since\",\"they\",\"are\",\"all\",\"adopted\",\"by\",\"the\",\"age\",\"of\",\"12\",\"Their\",\"daily\",\"lives\",\"involve\",\"rigorous\",\"tests\",\"but\",\"afterwards\",\"they\",\"are\",\"allowed\",\"to\",\"play\",\"outside\",\"There\",\"is\",\"only\",\"one\",\"rule\",\"they\",\"must\",\"obey\",\"do\",\"not\",\"leave\",\"the\",\"orphanage\",\"But\",\"one\",\"day\",\"two\",\"topscoring\",\"orphans\",\"Emma\",\"and\",\"Norman\",\"venture\",\"past\",\"the\",\"gate\",\"and\",\"unearth\",\"the\",\"harrowing\",\"secret\",\"behind\",\"their\",\"entire\",\"existence\",\"Utilizing\",\"their\",\"quickwittedness\",\"the\",\"children\",\"must\",\"work\",\"together\",\"to\",\"somehow\",\"change\",\"their\",\"predetermined\",\"fate\"],\"demographics\":[\"Shounen\"],\"authors\":[\"DemizuPosuka\",\"ShiraiKaiu\"],\"genres\":[\"Award Winning\",\"Mystery\",\"Sci-Fi\",\"Suspense\"],\"themes\":[\"Psychological\",\"Survival\"],\"type\":[\"manga\"]},{\"manga_id\":3,\"title\":\"20th Century Boys\",\"title_synonyms\":\"20 Seiki Shounen Nijuu Seiki Shounen Nijuusseiki Shounen 20thCB\",\"synopsis\":[\"As\",\"the\",\"20th\",\"century\",\"approaches\",\"its\",\"end\",\"people\",\"all\",\"over\",\"the\",\"world\",\"are\",\"anxious\",\"that\",\"the\",\"world\",\"is\",\"changing\",\"And\",\"probably\",\"not\",\"for\",\"the\",\"better\",\"Kenji\",\"Endo\",\"is\",\"a\",\"normal\",\"convenience\",\"store\",\"manager\",\"whos\",\"just\",\"trying\",\"to\",\"get\",\"by\",\"But\",\"when\",\"he\",\"learns\",\"that\",\"one\",\"of\",\"his\",\"old\",\"friends\",\"going\",\"by\",\"the\",\"name\",\"Donkey\",\"has\",\"suddenly\",\"committed\",\"suicide\",\"and\",\"that\",\"a\",\"new\",\"cult\",\"led\",\"by\",\"a\",\"figure\",\"known\",\"as\",\"Friend\",\"is\",\"becoming\",\"more\",\"notorious\",\"Kenji\",\"starts\",\"to\",\"feel\",\"that\",\"something\",\"isnt\",\"right\",\"With\",\"a\",\"few\",\"key\",\"clues\",\"left\",\"behind\",\"by\",\"his\",\"deceased\",\"friend\",\"Kenji\",\"realizes\",\"that\",\"this\",\"cult\",\"is\",\"much\",\"more\",\"than\",\"he\",\"ever\",\"thought\",\"it\",\"would\",\"be\\\\u2014not\",\"only\",\"is\",\"this\",\"mysterious\",\"organization\",\"directly\",\"targeting\",\"him\",\"and\",\"his\",\"childhood\",\"friends\",\"but\",\"the\",\"whole\",\"world\",\"also\",\"faces\",\"a\",\"grave\",\"danger\",\"that\",\"only\",\"the\",\"friends\",\"have\",\"the\",\"key\",\"to\",\"stop\",\"Kenjis\",\"simple\",\"life\",\"of\",\"barely\",\"making\",\"ends\",\"meet\",\"is\",\"flipped\",\"upside\",\"down\",\"when\",\"he\",\"reunites\",\"with\",\"his\",\"childhood\",\"friends\",\"and\",\"together\",\"they\",\"must\",\"figure\",\"out\",\"the\",\"truth\",\"of\",\"how\",\"their\",\"past\",\"is\",\"connected\",\"to\",\"the\",\"cult\",\"as\",\"the\",\"turn\",\"of\",\"the\",\"century\",\"could\",\"mean\",\"the\",\"possible\",\"end\",\"of\",\"the\",\"world\"],\"demographics\":[\"Seinen\"],\"authors\":[\"UrasawaNaoki\"],\"genres\":[\"Award Winning\",\"Drama\",\"Mystery\",\"Sci-Fi\"],\"themes\":[\"Historical\",\"Psychological\"],\"type\":[\"manga\"]},{\"manga_id\":564,\"title\":\"Gantz\",\"title_synonyms\":\"GantzOsaka\",\"synopsis\":[\"Lonely\",\"high\",\"school\",\"student\",\"Kei\",\"Kurono\",\"isolates\",\"himself\",\"out\",\"of\",\"a\",\"growing\",\"cynicism\",\"toward\",\"his\",\"fellow\",\"man\",\"and\",\"the\",\"cruelty\",\"they\",\"are\",\"capable\",\"of\",\"enacting\",\"One\",\"day\",\"while\",\"waiting\",\"to\",\"take\",\"the\",\"subway\",\"to\",\"school\",\"Keis\",\"classmate\",\"Masaru\",\"Katou\",\"leaps\",\"onto\",\"the\",\"tracks\",\"in\",\"an\",\"effort\",\"to\",\"save\",\"a\",\"drunk\",\"man\",\"Driven\",\"by\",\"an\",\"uncharacteristic\",\"desire\",\"to\",\"rescue\",\"someone\",\"else\",\"Kei\",\"follows\",\"Katou\",\"down\",\"into\",\"danger\",\"While\",\"successful\",\"in\",\"saving\",\"him\",\"the\",\"two\",\"boys\",\"are\",\"killed\",\"by\",\"the\",\"train\",\"Kei\",\"wakes\",\"up\",\"beside\",\"Katou\",\"in\",\"an\",\"apartment\",\"full\",\"of\",\"strangers\",\"and\",\"furnished\",\"by\",\"a\",\"giant\",\"black\",\"orb\",\"with\",\"a\",\"glasslike\",\"outer\",\"surface\",\"After\",\"finding\",\"out\",\"that\",\"everyone\",\"in\",\"the\",\"room\",\"has\",\"recently\",\"died\",\"words\",\"appear\",\"on\",\"the\",\"black\",\"ball\",\"tasking\",\"them\",\"with\",\"killing\",\"a\",\"strange\",\"creature\",\"The\",\"ball\",\"equips\",\"Kei\",\"and\",\"the\",\"others\",\"with\",\"power\",\"suits\",\"and\",\"mysterious\",\"guns\",\"before\",\"sending\",\"them\",\"off\",\"to\",\"collect\",\"this\",\"bizarre\",\"bounty\",\"Although\",\"Kei\",\"discovers\",\"the\",\"mission\",\"to\",\"be\",\"far\",\"more\",\"deadly\",\"than\",\"originally\",\"suspected\",\"he\",\"manages\",\"to\",\"survive\",\"He\",\"is\",\"teleported\",\"back\",\"to\",\"the\",\"apartment\",\"where\",\"he\",\"and\",\"the\",\"other\",\"survivors\",\"are\",\"rewarded\",\"point\",\"values\",\"according\",\"to\",\"their\",\"actions\",\"in\",\"battle\",\"by\",\"the\",\"black\",\"sphere\",\"which\",\"a\",\"fellow\",\"survivor\",\"says\",\"is\",\"called\",\"Gantz\",\"Despite\",\"his\",\"death\",\"earlier\",\"that\",\"day\",\"Kei\",\"is\",\"granted\",\"the\",\"ability\",\"to\",\"return\",\"to\",\"his\",\"daily\",\"life\",\"with\",\"one\",\"condition\",\"he\",\"can\",\"be\",\"uprooted\",\"from\",\"his\",\"day\",\"at\",\"any\",\"time\",\"and\",\"summoned\",\"back\",\"to\",\"the\",\"apartment\",\"where\",\"Gantz\",\"will\",\"task\",\"him\",\"and\",\"other\",\"recently\",\"deceased\",\"with\",\"the\",\"assassination\",\"of\",\"another\",\"target\",\"While\",\"Katou\",\"dreads\",\"the\",\"inevitable\",\"return\",\"to\",\"Gantz\",\"Kei\",\"finds\",\"himself\",\"living\",\"for\",\"the\",\"sole\",\"purpose\",\"of\",\"carrying\",\"out\",\"these\",\"missions\",\"Thriving\",\"in\",\"the\",\"heat\",\"of\",\"battle\",\"and\",\"learning\",\"to\",\"care\",\"about\",\"himself\",\"and\",\"his\",\"comrades\",\"Kei\",\"faces\",\"escalating\",\"monstrous\",\"threats\",\"that\",\"begin\",\"to\",\"bleed\",\"out\",\"into\",\"his\",\"normal\",\"life\",\"outside\",\"of\",\"Gantz\"],\"demographics\":[\"Seinen\"],\"authors\":[\"OkuHiroya\"],\"genres\":[\"Action\",\"Drama\",\"Horror\",\"Sci-Fi\",\"Supernatural\"],\"themes\":[\"Gore\",\"Psychological\",\"Survival\"],\"type\":[\"manga\"]},{\"manga_id\":35243,\"title\":\"Haikyuu!!\",\"title_synonyms\":\"High Kyuu HQ Nisekyuu\",\"synopsis\":[\"The\",\"whistle\",\"blows\",\"The\",\"ball\",\"is\",\"up\",\"A\",\"dig\",\"A\",\"set\",\"A\",\"spike\",\"Volleyball\",\"A\",\"sport\",\"where\",\"two\",\"teams\",\"face\",\"off\",\"separated\",\"by\",\"a\",\"formidable\",\"walllike\",\"net\",\"The\",\"Little\",\"Giant\",\"standing\",\"at\",\"only\",\"170\",\"cm\",\"overcomes\",\"the\",\"towering\",\"net\",\"and\",\"the\",\"wall\",\"of\",\"blockers\",\"The\",\"aweinspired\",\"Shouyou\",\"Hinata\",\"looks\",\"on\",\"at\",\"the\",\"aces\",\"crowlike\",\"figure\",\"Determined\",\"to\",\"reach\",\"great\",\"heights\",\"like\",\"the\",\"Little\",\"Giant\",\"smallstatured\",\"Hinata\",\"finally\",\"manages\",\"to\",\"form\",\"a\",\"team\",\"in\",\"his\",\"last\",\"year\",\"of\",\"junior\",\"high\",\"school\",\"and\",\"enters\",\"his\",\"first\",\"volleyball\",\"tournament\",\"However\",\"his\",\"team\",\"is\",\"utterly\",\"defeated\",\"in\",\"their\",\"first\",\"game\",\"against\",\"the\",\"powerhouse\",\"school\",\"Kitagawa\",\"Daiichi\",\"led\",\"by\",\"the\",\"genius\",\"but\",\"oppressive\",\"setter\",\"dubbed\",\"the\",\"King\",\"of\",\"the\",\"Court\",\"Tobio\",\"Kageyama\",\"Hinata\",\"enrolls\",\"into\",\"Karasuno\",\"High\",\"School\",\"seeking\",\"to\",\"take\",\"revenge\",\"against\",\"Kageyama\",\"in\",\"an\",\"official\",\"high\",\"school\",\"match\",\"and\",\"to\",\"follow\",\"in\",\"the\",\"Little\",\"Giants\",\"footsteps\\\\u2014but\",\"his\",\"plans\",\"are\",\"ruined\",\"when\",\"he\",\"opens\",\"the\",\"gymnasium\",\"door\",\"to\",\"find\",\"Kageyama\",\"as\",\"one\",\"of\",\"his\",\"teammates\",\"Now\",\"Hinata\",\"must\",\"establish\",\"himself\",\"on\",\"the\",\"team\",\"and\",\"work\",\"alongside\",\"the\",\"problematic\",\"Kageyama\",\"to\",\"overcome\",\"his\",\"shortcomings\",\"and\",\"to\",\"fulfill\",\"his\",\"dream\",\"of\",\"making\",\"it\",\"to\",\"the\",\"top\",\"of\",\"the\",\"high\",\"school\",\"volleyball\",\"world\"],\"demographics\":[\"Shounen\"],\"authors\":[\"FurudateHaruichi\"],\"genres\":[\"Award Winning\",\"Sports\"],\"themes\":[\"School\",\"Team Sports\"],\"type\":[\"manga\"]},{\"manga_id\":70345,\"title\":\"Grand Blue\",\"title_synonyms\":\"\",\"synopsis\":[\"Among\",\"the\",\"seaside\",\"town\",\"of\",\"Izus\",\"ocean\",\"waves\",\"and\",\"rays\",\"of\",\"shining\",\"sun\",\"Iori\",\"Kitahara\",\"is\",\"just\",\"beginning\",\"his\",\"freshman\",\"year\",\"at\",\"Izu\",\"University\",\"As\",\"he\",\"moves\",\"into\",\"his\",\"uncles\",\"scuba\",\"diving\",\"shop\",\"Grand\",\"Blue\",\"he\",\"eagerly\",\"anticipates\",\"his\",\"dream\",\"college\",\"life\",\"filled\",\"with\",\"beautiful\",\"girls\",\"and\",\"good\",\"friends\",\"But\",\"things\",\"dont\",\"exactly\",\"go\",\"according\",\"to\",\"plan\",\"Upon\",\"entering\",\"the\",\"shop\",\"he\",\"encounters\",\"a\",\"group\",\"of\",\"rowdy\",\"naked\",\"upperclassmen\",\"who\",\"immediately\",\"coerce\",\"him\",\"into\",\"participating\",\"in\",\"their\",\"alcoholic\",\"activities\",\"Though\",\"unwilling\",\"at\",\"first\",\"Iori\",\"quickly\",\"gives\",\"in\",\"and\",\"becomes\",\"the\",\"heart\",\"and\",\"soul\",\"of\",\"the\",\"party\",\"Unfortunately\",\"this\",\"earns\",\"him\",\"the\",\"scorn\",\"of\",\"his\",\"cousin\",\"Chisa\",\"Kotegawa\",\"who\",\"walks\",\"in\",\"at\",\"precisely\",\"the\",\"wrong\",\"time\",\"Undeterred\",\"Iori\",\"still\",\"vows\",\"to\",\"realize\",\"his\",\"ideal\",\"college\",\"life\",\"but\",\"will\",\"things\",\"go\",\"according\",\"to\",\"plan\",\"this\",\"time\",\"or\",\"will\",\"his\",\"situation\",\"take\",\"yet\",\"another\",\"dive\"],\"demographics\":[\"Seinen\"],\"authors\":[\"InoueKenji\",\"YoshiokaKimitake\"],\"genres\":[\"Comedy\"],\"themes\":[],\"type\":[\"manga\"]},{\"manga_id\":3031,\"title\":\"Pandora Hearts\",\"title_synonyms\":\"\",\"synopsis\":[\"Reminiscent\",\"of\",\"a\",\"broken\",\"toy\",\"box\",\"the\",\"mystical\",\"Abyss\",\"is\",\"a\",\"terrifying\",\"realm\",\"home\",\"to\",\"monstrous\",\"creatures\",\"called\",\"Chains\",\"Most\",\"believe\",\"it\",\"to\",\"be\",\"only\",\"a\",\"fairy\",\"tale\",\"used\",\"to\",\"scare\",\"children\",\"who\",\"misbehave\",\"Oz\",\"Vessalius\",\"the\",\"cheerful\",\"and\",\"mischievous\",\"heir\",\"of\",\"the\",\"noble\",\"Vessalius\",\"family\",\"is\",\"one\",\"such\",\"individual\\\\u2014until\",\"at\",\"his\",\"comingofage\",\"ceremony\",\"the\",\"mysterious\",\"Baskerville\",\"Clan\",\"arrives\",\"and\",\"condemns\",\"him\",\"to\",\"the\",\"Abyss\",\"for\",\"a\",\"sin\",\"he\",\"neither\",\"committed\",\"nor\",\"knows\",\"anything\",\"about\",\"Oz\",\"then\",\"forms\",\"a\",\"contract\",\"with\",\"Alice\",\"a\",\"unique\",\"Chain\",\"who\",\"can\",\"take\",\"on\",\"human\",\"form\",\"in\",\"an\",\"attempt\",\"to\",\"escape\",\"from\",\"the\",\"Abyss\",\"As\",\"Oz\",\"struggles\",\"to\",\"unravel\",\"the\",\"mysteries\",\"behind\",\"his\",\"sin\",\"the\",\"Abyss\",\"and\",\"a\",\"tragedy\",\"from\",\"one\",\"hundred\",\"years\",\"ago\",\"he\",\"and\",\"his\",\"companions\",\"find\",\"themselves\",\"confronted\",\"by\",\"the\",\"Baskervilles\",\"and\",\"ghosts\",\"from\",\"the\",\"past\",\"Meanwhile\",\"his\",\"journey\",\"back\",\"home\",\"is\",\"plagued\",\"by\",\"relentless\",\"despair\"],\"demographics\":[\"Shounen\"],\"authors\":[\"MochizukiJun\"],\"genres\":[\"Adventure\",\"Fantasy\",\"Mystery\",\"Supernatural\"],\"themes\":[],\"type\":[\"manga\"]},{\"manga_id\":104565,\"title\":\"Tokyo\\\\u534dRevengers\",\"title_synonyms\":\"Tokyo Manji Revengers\",\"synopsis\":[\"Takemichi\",\"Hanagakis\",\"life\",\"is\",\"at\",\"an\",\"alltime\",\"low\",\"Just\",\"when\",\"he\",\"thought\",\"it\",\"couldnt\",\"get\",\"worse\",\"he\",\"finds\",\"out\",\"that\",\"Hinata\",\"Tachibana\",\"his\",\"exgirlfriend\",\"was\",\"murdered\",\"by\",\"the\",\"Tokyo\",\"Manji\",\"Gang\",\"a\",\"group\",\"of\",\"vicious\",\"criminals\",\"that\",\"has\",\"been\",\"disturbing\",\"societys\",\"peace\",\"for\",\"quite\",\"some\",\"time\",\"Wondering\",\"where\",\"it\",\"all\",\"went\",\"wrong\",\"Takemichi\",\"suddenly\",\"finds\",\"himself\",\"traveling\",\"through\",\"time\",\"ending\",\"up\",\"12\",\"years\",\"in\",\"the\",\"past\\\\u2014when\",\"he\",\"was\",\"still\",\"in\",\"a\",\"relationship\",\"with\",\"Hinata\",\"Realizing\",\"he\",\"has\",\"a\",\"chance\",\"to\",\"save\",\"her\",\"Takemichi\",\"resolves\",\"to\",\"infiltrate\",\"the\",\"Tokyo\",\"Manji\",\"Gang\",\"and\",\"climb\",\"the\",\"ranks\",\"in\",\"order\",\"to\",\"rewrite\",\"the\",\"future\",\"and\",\"save\",\"Hinata\",\"from\",\"her\",\"tragic\",\"fate\"],\"demographics\":[\"Shounen\"],\"authors\":[\"WakuiKen\"],\"genres\":[\"Action\",\"Award Winning\"],\"themes\":[\"Delinquents\",\"Time Travel\"],\"type\":[\"manga\"]},{\"manga_id\":3866,\"title\":\"Kuroshitsuji\",\"title_synonyms\":\"Dark Butler Kuro Shitsuji\",\"synopsis\":[\"Tucked\",\"away\",\"in\",\"the\",\"English\",\"countryside\",\"lies\",\"the\",\"ominous\",\"manor\",\"of\",\"the\",\"Phantomhives\",\"a\",\"family\",\"which\",\"has\",\"established\",\"itself\",\"as\",\"the\",\"cold\",\"and\",\"ruthless\",\"Queens\",\"Watchdog\",\"as\",\"well\",\"as\",\"the\",\"head\",\"of\",\"Londons\",\"criminal\",\"underground\",\"After\",\"a\",\"tragedy\",\"leaves\",\"the\",\"Earl\",\"and\",\"his\",\"wife\",\"dead\",\"many\",\"are\",\"shocked\",\"when\",\"their\",\"son\",\"a\",\"young\",\"boy\",\"named\",\"Ciel\",\"claims\",\"his\",\"place\",\"as\",\"the\",\"new\",\"Earl\",\"of\",\"the\",\"Phantomhive\",\"house\",\"At\",\"first\",\"many\",\"perceive\",\"him\",\"only\",\"as\",\"a\",\"child\",\"surrounded\",\"by\",\"a\",\"few\",\"eccentric\",\"servants\",\"But\",\"they\",\"soon\",\"begin\",\"to\",\"realize\",\"that\",\"it\",\"is\",\"foolish\",\"to\",\"meddle\",\"with\",\"Ciel\",\"and\",\"his\",\"demonic\",\"butler\",\"Sebastian\",\"Taking\",\"place\",\"at\",\"the\",\"end\",\"of\",\"the\",\"19th\",\"century\",\"Kuroshitsuji\",\"follows\",\"these\",\"two\",\"as\",\"they\",\"face\",\"countless\",\"mysteries\",\"and\",\"dangers\",\"that\",\"plague\",\"England\",\"and\",\"threaten\",\"the\",\"Queen\",\"uncovering\",\"the\",\"truth\",\"about\",\"what\",\"really\",\"happened\",\"to\",\"Ciels\",\"parents\",\"in\",\"the\",\"process\"],\"demographics\":[\"Shounen\"],\"authors\":[\"TobosoYana\"],\"genres\":[\"Action\",\"Fantasy\",\"Mystery\",\"Supernatural\"],\"themes\":[\"Historical\",\"Mythology\"],\"type\":[\"manga\"]},{\"manga_id\":104,\"title\":\"Yotsuba to!\",\"title_synonyms\":\"Yotsuba and\",\"synopsis\":[\"While\",\"most\",\"people\",\"find\",\"the\",\"world\",\"mundane\",\"fiveyearold\",\"Yotsuba\",\"Koiwai\",\"sees\",\"it\",\"as\",\"a\",\"treasure\",\"trove\",\"of\",\"amazing\",\"bustle\",\"and\",\"wonderful\",\"places\",\"to\",\"explore\",\"When\",\"she\",\"and\",\"her\",\"adoptive\",\"father\",\"Yousuke\",\"move\",\"to\",\"a\",\"new\",\"city\",\"the\",\"energetic\",\"young\",\"girl\",\"naturally\",\"sets\",\"out\",\"to\",\"investigate\",\"the\",\"neighborhood\",\"on\",\"her\",\"own\",\"After\",\"a\",\"few\",\"incidents\",\"at\",\"the\",\"local\",\"park\",\"the\",\"Koiwais\",\"become\",\"acquainted\",\"with\",\"their\",\"neighbors\",\"the\",\"Ayase\",\"family\",\"Their\",\"three\",\"daughters\\\\u2014mischievous\",\"college\",\"student\",\"Asagi\",\"responsible\",\"high\",\"school\",\"student\",\"Fuuka\",\"and\",\"kindhearted\",\"grade\",\"school\",\"student\",\"Ena\\\\u2014eventually\",\"all\",\"take\",\"a\",\"liking\",\"to\",\"Yotsuba\",\"and\",\"join\",\"in\",\"on\",\"her\",\"antics\",\"despite\",\"their\",\"sheer\",\"ridicule\",\"From\",\"learning\",\"how\",\"to\",\"use\",\"a\",\"swing\",\"to\",\"figuring\",\"out\",\"how\",\"to\",\"stop\",\"global\",\"warming\",\"with\",\"air\",\"conditioners\",\"Yotsubas\",\"ability\",\"to\",\"infallibly\",\"find\",\"fun\",\"in\",\"everything\",\"both\",\"amazes\",\"and\",\"annoys\",\"the\",\"people\",\"around\",\"her\",\"Along\",\"with\",\"Yousuke\",\"the\",\"Ayases\",\"and\",\"friends\",\"she\",\"makes\",\"along\",\"the\",\"way\",\"Yotsuba\",\"embarks\",\"on\",\"daily\",\"adventures\",\"each\",\"one\",\"a\",\"step\",\"in\",\"her\",\"quest\",\"to\",\"enjoy\",\"the\",\"simple\",\"things\",\"in\",\"life\"],\"demographics\":[],\"authors\":[\"AzumaKiyohiko\"],\"genres\":[\"Award Winning\",\"Comedy\",\"Slice of Life\"],\"themes\":[\"Childcare\",\"Iyashikei\"],\"type\":[\"manga\"]},{\"manga_id\":51,\"title\":\"Slam Dunk\",\"title_synonyms\":\"\",\"synopsis\":[\"Hanamichi\",\"Sakuragi\",\"a\",\"tall\",\"boisterous\",\"teenager\",\"with\",\"flamered\",\"hair\",\"and\",\"physical\",\"strength\",\"beyond\",\"his\",\"years\",\"is\",\"eager\",\"to\",\"put\",\"an\",\"end\",\"to\",\"his\",\"rejection\",\"streak\",\"of\",\"50\",\"and\",\"finally\",\"score\",\"a\",\"girlfriend\",\"as\",\"he\",\"begins\",\"his\",\"first\",\"year\",\"of\",\"Shohoku\",\"High\",\"However\",\"his\",\"reputation\",\"for\",\"delinquency\",\"and\",\"destructiveness\",\"precedes\",\"him\",\"and\",\"most\",\"of\",\"his\",\"fellow\",\"students\",\"subsequently\",\"avoid\",\"him\",\"like\",\"the\",\"plague\",\"As\",\"his\",\"first\",\"day\",\"of\",\"school\",\"ends\",\"he\",\"is\",\"left\",\"with\",\"two\",\"strong\",\"thoughts\",\"I\",\"hate\",\"basketball\",\"and\",\"I\",\"need\",\"a\",\"girlfriend\",\"Haruko\",\"Akagi\",\"ignorant\",\"of\",\"Hanamichis\",\"history\",\"of\",\"misbehavior\",\"notices\",\"his\",\"immense\",\"height\",\"and\",\"unwittingly\",\"approaches\",\"him\",\"asking\",\"whether\",\"or\",\"not\",\"he\",\"likes\",\"basketball\",\"Overcome\",\"by\",\"the\",\"fact\",\"that\",\"a\",\"girl\",\"is\",\"speaking\",\"to\",\"him\",\"the\",\"redhaired\",\"giant\",\"blurts\",\"out\",\"a\",\"yes\",\"despite\",\"his\",\"true\",\"feelings\",\"At\",\"the\",\"gym\",\"Haruko\",\"asks\",\"if\",\"he\",\"can\",\"do\",\"a\",\"slam\",\"dunk\",\"Though\",\"a\",\"complete\",\"novice\",\"Hanamachi\",\"palms\",\"the\",\"ball\",\"and\",\"makes\",\"the\",\"leapbut\",\"overshoots\",\"slamming\",\"his\",\"head\",\"into\",\"the\",\"backboard\",\"Amazed\",\"by\",\"his\",\"nearinhuman\",\"physical\",\"abilities\",\"Haruko\",\"quickly\",\"notifies\",\"the\",\"schools\",\"basketball\",\"captain\",\"of\",\"his\",\"feat\",\"With\",\"this\",\"Hanamichi\",\"is\",\"unexpectedly\",\"thrust\",\"into\",\"a\",\"world\",\"of\",\"competition\",\"for\",\"a\",\"girl\",\"he\",\"barely\",\"knows\",\"but\",\"he\",\"soon\",\"discovers\",\"that\",\"there\",\"is\",\"perhaps\",\"more\",\"to\",\"basketball\",\"than\",\"he\",\"once\",\"thought\"],\"demographics\":[\"Shounen\"],\"authors\":[\"InoueTakehiko\"],\"genres\":[\"Award Winning\",\"Sports\"],\"themes\":[\"School\",\"Team Sports\"],\"type\":[\"manga\"]},{\"manga_id\":102,\"title\":\"Fruits Basket\",\"title_synonyms\":\"FuruBa\",\"synopsis\":[\"Tooru\",\"Honda\",\"is\",\"an\",\"orphan\",\"with\",\"nowhere\",\"to\",\"go\",\"but\",\"a\",\"tent\",\"in\",\"the\",\"woods\",\"until\",\"the\",\"Souma\",\"family\",\"takes\",\"her\",\"in\",\"However\",\"the\",\"Souma\",\"family\",\"is\",\"no\",\"ordinary\",\"family\",\"and\",\"they\",\"hide\",\"a\",\"grave\",\"secret\",\"when\",\"they\",\"are\",\"hugged\",\"by\",\"someone\",\"of\",\"the\",\"opposite\",\"gender\",\"they\",\"turn\",\"into\",\"animals\",\"from\",\"the\",\"Chinese\",\"zodiac\",\"Now\",\"Tooru\",\"must\",\"help\",\"Kyou\",\"and\",\"Yuki\",\"Souma\",\"hide\",\"their\",\"curse\",\"from\",\"their\",\"classmates\",\"as\",\"well\",\"as\",\"her\",\"friends\",\"Arisa\",\"Uotani\",\"and\",\"Saki\",\"Hanajima\",\"As\",\"she\",\"is\",\"drawn\",\"further\",\"into\",\"the\",\"mysterious\",\"world\",\"of\",\"the\",\"Soumas\",\"she\",\"meets\",\"more\",\"of\",\"the\",\"family\",\"forging\",\"friendships\",\"along\",\"the\",\"way\",\"But\",\"this\",\"curse\",\"has\",\"caused\",\"much\",\"suffering\",\"it\",\"has\",\"broken\",\"many\",\"Soumas\",\"Despite\",\"this\",\"Tooru\",\"may\",\"just\",\"be\",\"able\",\"to\",\"heal\",\"their\",\"hearts\",\"and\",\"soothe\",\"their\",\"souls\"],\"demographics\":[\"Shoujo\"],\"authors\":[\"TakayaNatsuki\"],\"genres\":[\"Award Winning\",\"Drama\",\"Romance\",\"Supernatural\"],\"themes\":[\"Love Polygon\",\"School\"],\"type\":[\"manga\"]},{\"manga_id\":16765,\"title\":\"Kingdom\",\"title_synonyms\":\"\",\"synopsis\":[\"During\",\"the\",\"Warring\",\"States\",\"period\",\"in\",\"China\",\"Xin\",\"and\",\"Piao\",\"are\",\"two\",\"brotherlike\",\"youngsters\",\"who\",\"dream\",\"of\",\"becoming\",\"Great\",\"Generals\",\"despite\",\"their\",\"low\",\"status\",\"as\",\"orphaned\",\"slaves\",\"One\",\"day\",\"they\",\"encounter\",\"a\",\"man\",\"of\",\"nobility\",\"who\",\"gives\",\"Piao\",\"an\",\"opportunity\",\"to\",\"undertake\",\"an\",\"important\",\"duty\",\"within\",\"the\",\"state\",\"of\",\"Qins\",\"royal\",\"palace\",\"Parting\",\"ways\",\"Xin\",\"and\",\"Piao\",\"promise\",\"each\",\"other\",\"to\",\"one\",\"day\",\"become\",\"the\",\"greatest\",\"generals\",\"in\",\"the\",\"world\",\"However\",\"after\",\"a\",\"fierce\",\"coup\",\"d\\\\u00e9tat\",\"occurs\",\"in\",\"the\",\"palace\",\"Xin\",\"meets\",\"with\",\"a\",\"dying\",\"Piao\",\"whose\",\"last\",\"words\",\"spur\",\"him\",\"into\",\"action\",\"and\",\"lead\",\"him\",\"to\",\"encounter\",\"the\",\"young\",\"and\",\"soontobe\",\"king\",\"of\",\"Qin\",\"Zheng\",\"Ying\",\"Although\",\"initially\",\"on\",\"bad\",\"terms\",\"Xin\",\"and\",\"Zheng\",\"become\",\"comrades\",\"and\",\"start\",\"on\",\"a\",\"path\",\"filled\",\"with\",\"trials\",\"and\",\"bloodshed\",\"Zhengs\",\"objective\",\"is\",\"to\",\"bring\",\"all\",\"the\",\"warring\",\"states\",\"under\",\"Qin\",\"and\",\"Xin\",\"seeks\",\"to\",\"climb\",\"to\",\"the\",\"very\",\"top\",\"of\",\"the\",\"army\",\"ranks\",\"Against\",\"a\",\"backdrop\",\"of\",\"constant\",\"tactical\",\"battle\",\"between\",\"states\",\"and\",\"great\",\"political\",\"unrest\",\"both\",\"outside\",\"and\",\"within\",\"the\",\"palace\",\"the\",\"two\",\"endeavor\",\"towards\",\"their\",\"monumental\",\"ambitions\",\"that\",\"will\",\"change\",\"history\",\"forever\"],\"demographics\":[\"Seinen\"],\"authors\":[\"HaraYasuhisa\"],\"genres\":[\"Action\",\"Award Winning\"],\"themes\":[\"Historical\",\"Military\"],\"type\":[\"manga\"]},{\"manga_id\":436,\"title\":\"Uzumaki\",\"title_synonyms\":\"The Spiral\",\"synopsis\":[\"In\",\"the\",\"town\",\"of\",\"Kurouzucho\",\"Kirie\",\"Goshima\",\"lives\",\"a\",\"fairly\",\"normal\",\"life\",\"with\",\"her\",\"family\",\"As\",\"she\",\"walks\",\"to\",\"the\",\"train\",\"station\",\"one\",\"day\",\"to\",\"meet\",\"her\",\"boyfriend\",\"Shuuichi\",\"Saito\",\"she\",\"sees\",\"his\",\"father\",\"staring\",\"at\",\"a\",\"snail\",\"shell\",\"in\",\"an\",\"alley\",\"Thinking\",\"nothing\",\"of\",\"it\",\"she\",\"mentions\",\"the\",\"incident\",\"to\",\"Shuuichi\",\"who\",\"says\",\"that\",\"his\",\"father\",\"has\",\"been\",\"acting\",\"weird\",\"lately\",\"Shuuichi\",\"reveals\",\"his\",\"rising\",\"desire\",\"to\",\"leave\",\"the\",\"town\",\"with\",\"Kirie\",\"saying\",\"that\",\"the\",\"town\",\"is\",\"infected\",\"with\",\"spirals\",\"But\",\"his\",\"fathers\",\"obsession\",\"with\",\"the\",\"shape\",\"soon\",\"proves\",\"deadly\",\"beginning\",\"a\",\"chain\",\"of\",\"horrific\",\"and\",\"unexplainable\",\"events\",\"that\",\"causes\",\"the\",\"residents\",\"of\",\"Kurouzucho\",\"to\",\"spiral\",\"into\",\"madness\"],\"demographics\":[\"Seinen\"],\"authors\":[\"ItouJunji\"],\"genres\":[\"Drama\",\"Horror\",\"Supernatural\"],\"themes\":[],\"type\":[\"manga\"]},{\"manga_id\":42,\"title\":\"Dragon Ball\",\"title_synonyms\":\"Dragonball Dragon Ball Z Dragonball Z\",\"synopsis\":[\"Bulma\",\"a\",\"headstrong\",\"16yearold\",\"girl\",\"is\",\"on\",\"a\",\"quest\",\"to\",\"find\",\"the\",\"mythical\",\"Dragon\",\"Balls\\\\u2014seven\",\"scattered\",\"magic\",\"orbs\",\"that\",\"grant\",\"the\",\"finder\",\"a\",\"single\",\"wish\",\"She\",\"has\",\"but\",\"one\",\"desire\",\"in\",\"mind\",\"a\",\"perfect\",\"boyfriend\",\"On\",\"her\",\"journey\",\"Bulma\",\"stumbles\",\"upon\",\"Gokuu\",\"Son\",\"a\",\"powerful\",\"orphan\",\"who\",\"has\",\"only\",\"ever\",\"known\",\"one\",\"human\",\"besides\",\"her\",\"Gokuu\",\"possesses\",\"one\",\"of\",\"the\",\"Dragon\",\"Balls\",\"it\",\"being\",\"a\",\"memento\",\"from\",\"his\",\"late\",\"grandfather\",\"In\",\"exchange\",\"for\",\"it\",\"Bulma\",\"invites\",\"Gokuu\",\"to\",\"be\",\"a\",\"companion\",\"in\",\"her\",\"travels\",\"By\",\"Bulmas\",\"side\",\"Gokuu\",\"discovers\",\"a\",\"world\",\"completely\",\"alien\",\"to\",\"him\",\"Powerful\",\"enemies\",\"embark\",\"on\",\"their\",\"own\",\"pursuits\",\"of\",\"the\",\"Dragon\",\"Balls\",\"pushing\",\"Gokuu\",\"beyond\",\"his\",\"limits\",\"in\",\"order\",\"to\",\"protect\",\"Bulma\",\"and\",\"their\",\"growing\",\"circle\",\"of\",\"allies\",\"However\",\"Gokuu\",\"has\",\"secrets\",\"unbeknownst\",\"to\",\"even\",\"himself\",\"the\",\"incredible\",\"strength\",\"within\",\"him\",\"stems\",\"from\",\"a\",\"mysterious\",\"source\",\"one\",\"that\",\"threatens\",\"the\",\"many\",\"people\",\"he\",\"grows\",\"to\",\"hold\",\"dear\",\"As\",\"his\",\"prowess\",\"in\",\"martial\",\"arts\",\"flourishes\",\"Gokuu\",\"attracts\",\"stronger\",\"opponents\",\"whose\",\"villainous\",\"plans\",\"could\",\"collapse\",\"beneath\",\"his\",\"might\",\"He\",\"undertakes\",\"the\",\"endless\",\"venture\",\"of\",\"combat\",\"training\",\"to\",\"defend\",\"his\",\"loved\",\"ones\",\"and\",\"the\",\"fate\",\"of\",\"the\",\"planet\",\"itself\"],\"demographics\":[\"Shounen\"],\"authors\":[\"ToriyamaAkira\"],\"genres\":[\"Action\",\"Adventure\",\"Comedy\",\"Sci-Fi\"],\"themes\":[\"Martial Arts\",\"Super Power\"],\"type\":[\"manga\"]},{\"manga_id\":21525,\"title\":\"Akatsuki no Yona\",\"title_synonyms\":\"Yona The Girl Standing in the Blush of Dawn\",\"synopsis\":[\"Once\",\"upon\",\"a\",\"time\",\"the\",\"kingdom\",\"of\",\"Kouka\",\"was\",\"ruled\",\"by\",\"a\",\"red\",\"dragon\",\"in\",\"human\",\"form\",\"By\",\"his\",\"side\",\"four\",\"warriors\",\"imbued\",\"with\",\"dragon\",\"blood\",\"helped\",\"him\",\"lead\",\"the\",\"kingdom\",\"to\",\"prosperity\",\"Time\",\"passed\",\"and\",\"this\",\"tale\",\"became\",\"a\",\"legend\",\"to\",\"tell\",\"children\",\"As\",\"the\",\"sole\",\"princess\",\"of\",\"Kouka\",\"Yona\",\"lives\",\"a\",\"life\",\"of\",\"lavish\",\"ease\",\"In\",\"love\",\"with\",\"her\",\"cousin\",\"Suwon\",\"and\",\"protected\",\"by\",\"her\",\"bodyguard\",\"Son\",\"Hak\",\"she\",\"wants\",\"for\",\"nothing\",\"and\",\"remains\",\"sheltered\",\"from\",\"the\",\"harrowing\",\"reality\",\"outside\",\"the\",\"castle\",\"walls\",\"Contrary\",\"to\",\"this\",\"peaceful\",\"illusion\",\"Kouka\",\"is\",\"about\",\"to\",\"undergo\",\"a\",\"political\",\"upheaval\",\"After\",\"her\",\"beloved\",\"Suwon\",\"stages\",\"a\",\"bloody\",\"coup\",\"and\",\"murders\",\"her\",\"father\",\"Yona\",\"is\",\"forced\",\"to\",\"flee\",\"with\",\"only\",\"Hak\",\"by\",\"her\",\"side\",\"Though\",\"surrounded\",\"by\",\"enemies\",\"on\",\"all\",\"sides\",\"the\",\"banished\",\"princess\",\"still\",\"yearns\",\"to\",\"save\",\"her\",\"kingdom\",\"Her\",\"solution\",\"comes\",\"from\",\"an\",\"exiled\",\"priest\",\"who\",\"tells\",\"her\",\"that\",\"her\",\"only\",\"hope\",\"is\",\"to\",\"find\",\"the\",\"four\",\"legendary\",\"dragon\",\"warriors\",\"Guided\",\"by\",\"this\",\"seemingly\",\"fictitious\",\"myth\",\"Yona\",\"sets\",\"out\",\"to\",\"find\",\"these\",\"warriors\",\"determined\",\"to\",\"restore\",\"her\",\"kingdom\"],\"demographics\":[\"Shoujo\"],\"authors\":[\"KusanagiMizuho\"],\"genres\":[\"Action\",\"Adventure\",\"Fantasy\",\"Romance\"],\"themes\":[],\"type\":[\"manga\"]},{\"manga_id\":31499,\"title\":\"Nisekoi\",\"title_synonyms\":\"\",\"synopsis\":[\"When\",\"Raku\",\"Ichijou\",\"was\",\"young\",\"he\",\"made\",\"a\",\"heartfelt\",\"promise\",\"to\",\"his\",\"childhood\",\"friend\",\"that\",\"if\",\"they\",\"were\",\"to\",\"meet\",\"again\",\"they\",\"would\",\"marry\",\"each\",\"other\",\"Ten\",\"years\",\"have\",\"passed\",\"since\",\"that\",\"fateful\",\"day\",\"leaving\",\"Rakus\",\"memory\",\"of\",\"her\",\"faded\",\"But\",\"he\",\"still\",\"holds\",\"a\",\"relic\",\"of\",\"their\",\"relationship\",\"together\\\\u2014a\",\"locked\",\"pendant\",\"which\",\"his\",\"childhood\",\"friend\",\"holds\",\"the\",\"key\",\"to\",\"He\",\"hopes\",\"to\",\"reunite\",\"with\",\"her\",\"one\",\"day\",\"despite\",\"not\",\"remembering\",\"what\",\"she\",\"looks\",\"like\",\"Now\",\"a\",\"firstyear\",\"student\",\"at\",\"Bonyari\",\"High\",\"School\",\"Raku\",\"attempts\",\"to\",\"live\",\"a\",\"normal\",\"life\",\"dreaming\",\"of\",\"becoming\",\"a\",\"public\",\"servant\",\"and\",\"marrying\",\"his\",\"crush\",\"Kosaki\",\"Onodera\",\"However\",\"this\",\"isnt\",\"as\",\"easy\",\"as\",\"it\",\"seems\",\"as\",\"he\",\"is\",\"the\",\"unwilling\",\"heir\",\"to\",\"a\",\"large\",\"yakuza\",\"family\",\"and\",\"Raku\",\"cant\",\"escape\",\"from\",\"his\",\"duties\",\"when\",\"the\",\"American\",\"Bee\",\"Hive\",\"gang\",\"wages\",\"war\",\"on\",\"his\",\"familys\",\"turf\",\"In\",\"order\",\"to\",\"forge\",\"peace\",\"between\",\"the\",\"two\",\"feuding\",\"families\",\"Raku\",\"is\",\"forced\",\"into\",\"a\",\"fake\",\"romantic\",\"relationship\",\"with\",\"Chitoge\",\"Kirisaki\",\"the\",\"beautiful\",\"daughter\",\"of\",\"the\",\"Bee\",\"Hives\",\"leader\",\"The\",\"two\",\"quickly\",\"come\",\"to\",\"hate\",\"each\",\"other\",\"but\",\"have\",\"to\",\"learn\",\"to\",\"live\",\"together\",\"and\",\"pretend\",\"to\",\"be\",\"deeply\",\"in\",\"love\",\"in\",\"order\",\"to\",\"keep\",\"their\",\"families\",\"at\",\"bay\",\"However\",\"Rakus\",\"quest\",\"for\",\"the\",\"key\",\"to\",\"his\",\"pendant\",\"isnt\",\"becoming\",\"easier\",\"as\",\"more\",\"girls\\\\u2014who\",\"were\",\"all\",\"involved\",\"with\",\"his\",\"pendant\",\"in\",\"some\",\"way\\\\u2014enter\",\"his\",\"life\",\"Join\",\"Raku\",\"as\",\"he\",\"juggles\",\"his\",\"false\",\"relationship\",\"maintains\",\"the\",\"balance\",\"between\",\"warring\",\"families\",\"and\",\"unravels\",\"the\",\"identity\",\"of\",\"the\",\"girl\",\"who\",\"will\",\"unlock\",\"his\",\"heart\"],\"demographics\":[\"Shounen\"],\"authors\":[\"KomiNaoshi\"],\"genres\":[\"Comedy\",\"Romance\"],\"themes\":[\"Harem\",\"School\"],\"type\":[\"manga\"]},{\"manga_id\":44489,\"title\":\"Houseki no Kuni\",\"title_synonyms\":\"\",\"synopsis\":[\"Long\",\"ago\",\"Earth\",\"was\",\"struck\",\"by\",\"six\",\"meteorites\",\"creating\",\"six\",\"moons\",\"and\",\"leaving\",\"a\",\"lone\",\"island\",\"in\",\"their\",\"wake\",\"Those\",\"who\",\"could\",\"not\",\"make\",\"it\",\"to\",\"the\",\"island\",\"sank\",\"to\",\"the\",\"bottom\",\"of\",\"the\",\"ocean\",\"where\",\"over\",\"time\",\"they\",\"slowly\",\"turned\",\"to\",\"crystal\",\"As\",\"countless\",\"millennia\",\"passed\",\"28\",\"of\",\"these\",\"crystallized\",\"lifeforms\",\"known\",\"as\",\"the\",\"Lustrous\",\"rose\",\"from\",\"the\",\"depths\",\"and\",\"resided\",\"on\",\"the\",\"island\",\"Led\",\"by\",\"the\",\"wise\",\"Kongousensei\",\"they\",\"must\",\"defend\",\"themselves\",\"against\",\"the\",\"seemingly\",\"infinite\",\"number\",\"of\",\"Lunarians\",\"inhabitants\",\"of\",\"the\",\"moons\",\"who\",\"seek\",\"to\",\"harvest\",\"their\",\"valuable\",\"bodies\",\"for\",\"crafting\",\"weapons\",\"and\",\"jewelry\",\"Houseki\",\"no\",\"Kuni\",\"centers\",\"around\",\"Phosphophyllite\",\"a\",\"young\",\"gem\",\"about\",\"to\",\"turn\",\"three\",\"hundred\",\"years\",\"old\",\"Clumsy\",\"extremely\",\"fragile\",\"and\",\"having\",\"no\",\"visible\",\"talent\",\"they\",\"are\",\"one\",\"of\",\"the\",\"weakest\",\"gems\",\"around\",\"unable\",\"to\",\"help\",\"in\",\"the\",\"fight\",\"against\",\"the\",\"Lunarians\",\"in\",\"any\",\"meaningful\",\"way\",\"But\",\"as\",\"the\",\"battle\",\"with\",\"the\",\"otherworldly\",\"invaders\",\"rages\",\"on\",\"they\",\"soon\",\"learn\",\"that\",\"power\",\"comes\",\"at\",\"a\",\"cost\",\"that\",\"no\",\"one\",\"should\",\"have\",\"to\",\"pay\"],\"demographics\":[\"Seinen\"],\"authors\":[\"IchikawaHaruko\"],\"genres\":[\"Action\",\"Drama\",\"Fantasy\"],\"themes\":[\"Anthropomorphic\"],\"type\":[\"manga\"]},{\"manga_id\":100448,\"title\":\"Jumyou wo Kaitotte Moratta. Ichinen ni Tsuki, Ichimanen de.\",\"title_synonyms\":\"Mikkakan no Koufuku Three Days of Happiness\",\"synopsis\":[\"Helpless\",\"and\",\"struggling\",\"for\",\"cash\",\"20yearold\",\"Kusunoki\",\"sells\",\"the\",\"last\",\"of\",\"his\",\"possessions\",\"to\",\"buy\",\"food\",\"Noticing\",\"his\",\"poverty\",\"an\",\"old\",\"shop\",\"owner\",\"directs\",\"him\",\"to\",\"a\",\"store\",\"that\",\"supposedly\",\"purchases\",\"lifespan\",\"time\",\"and\",\"health\",\"While\",\"not\",\"completely\",\"believing\",\"the\",\"mans\",\"words\",\"Kusunoki\",\"nevertheless\",\"finds\",\"himself\",\"at\",\"the\",\"address\",\"out\",\"of\",\"desperation\",\"and\",\"curiosity\",\"Kusunoki\",\"is\",\"crushed\",\"when\",\"he\",\"finds\",\"out\",\"the\",\"true\",\"monetary\",\"value\",\"of\",\"his\",\"lifespan\\\\u2014totaling\",\"a\",\"meager\",\"three\",\"hundred\",\"thousand\",\"yen\",\"Deciding\",\"to\",\"sell\",\"the\",\"next\",\"30\",\"years\",\"of\",\"his\",\"life\",\"for\",\"ten\",\"thousand\",\"yen\",\"per\",\"year\",\"Kusunoki\",\"is\",\"left\",\"with\",\"only\",\"three\",\"months\",\"to\",\"live\",\"After\",\"heading\",\"home\",\"with\",\"the\",\"money\",\"he\",\"is\",\"greeted\",\"by\",\"an\",\"unexpected\",\"visitor\",\"the\",\"same\",\"store\",\"clerk\",\"he\",\"sold\",\"his\",\"lifespan\",\"to\",\"She\",\"introduces\",\"herself\",\"as\",\"Miyagi\",\"the\",\"one\",\"tasked\",\"with\",\"the\",\"job\",\"of\",\"observing\",\"him\",\"until\",\"the\",\"last\",\"three\",\"days\",\"of\",\"his\",\"life\",\"Jumyou\",\"wo\",\"Kaitotte\",\"Moratta\",\"Ichinen\",\"ni\",\"Tsuki\",\"Ichimanen\",\"de\",\"follows\",\"the\",\"remaining\",\"three\",\"months\",\"of\",\"Kusunokis\",\"life\",\"as\",\"he\",\"confronts\",\"lingering\",\"regrets\",\"from\",\"the\",\"past\",\"and\",\"discovers\",\"what\",\"truly\",\"gives\",\"life\",\"value\"],\"demographics\":[\"Shounen\"],\"authors\":[\"TaguchiShouichi\",\"MiakiSugaru\"],\"genres\":[\"Drama\"],\"themes\":[],\"type\":[\"manga\"]},{\"manga_id\":583,\"title\":\"Claymore\",\"title_synonyms\":\"\",\"synopsis\":[\"It\",\"is\",\"the\",\"Middle\",\"Ages\",\"and\",\"the\",\"remnants\",\"of\",\"mankind\",\"are\",\"plagued\",\"by\",\"paranoia\",\"and\",\"death\",\"Spoken\",\"in\",\"fearful\",\"whispers\",\"the\",\"word\",\"Yoma\",\"cuts\",\"a\",\"clear\",\"image\",\"into\",\"the\",\"minds\",\"of\",\"all\",\"monstrous\",\"beings\",\"with\",\"an\",\"insatiable\",\"hunger\",\"for\",\"human\",\"flesh\",\"But\",\"fear\",\"of\",\"their\",\"gruesome\",\"appetite\",\"is\",\"dwarfed\",\"by\",\"that\",\"of\",\"their\",\"ability\",\"to\",\"shapeshift\",\"and\",\"steal\",\"the\",\"memories\",\"of\",\"their\",\"last\",\"meal\",\"Forever\",\"vulnerable\",\"to\",\"attack\",\"humans\",\"live\",\"in\",\"unease\",\"even\",\"among\",\"family\",\"There\",\"are\",\"few\",\"means\",\"to\",\"kill\",\"a\",\"Yoma\",\"The\",\"Organization\",\"informally\",\"known\",\"as\",\"Claymore\",\"is\",\"humanitys\",\"only\",\"line\",\"of\",\"defense\",\"dispatching\",\"halfhuman\",\"halfYoma\",\"female\",\"warriors\",\"to\",\"purify\",\"villages\",\"of\",\"Yoma\",\"A\",\"lonely\",\"and\",\"dangerous\",\"existence\",\"death\",\"for\",\"these\",\"warriors\",\"comes\",\"with\",\"each\",\"new\",\"assignment\",\"What\",\"time\",\"is\",\"found\",\"between\",\"trying\",\"battles\",\"and\",\"long\",\"arduous\",\"travels\",\"is\",\"spent\",\"in\",\"everintensifying\",\"struggle\",\"to\",\"resist\",\"their\",\"Yoma\",\"blood\",\"and\",\"maintain\",\"their\",\"humanity\",\"Villagers\",\"knowing\",\"of\",\"this\",\"pay\",\"for\",\"their\",\"security\",\"reluctantly\",\"and\",\"have\",\"only\",\"loathsome\",\"regard\",\"for\",\"their\",\"protectors\",\"Claymore\",\"follows\",\"the\",\"stoic\",\"and\",\"lowranking\",\"member\",\"Clare\",\"in\",\"her\",\"daunting\",\"trek\",\"as\",\"she\",\"searches\",\"for\",\"personal\",\"vengeance\",\"Along\",\"the\",\"way\",\"she\",\"encounters\",\"many\",\"unexpected\",\"things\",\"about\",\"the\",\"world\",\"from\",\"the\",\"camaraderie\",\"and\",\"hope\",\"held\",\"fast\",\"by\",\"her\",\"sistersinarms\",\"to\",\"the\",\"sinister\",\"truth\",\"behind\",\"the\",\"Claymore\",\"Organization\"],\"demographics\":[\"Shounen\"],\"authors\":[\"YagiNorihiro\"],\"genres\":[\"Action\",\"Adventure\",\"Fantasy\",\"Horror\"],\"themes\":[\"Gore\"],\"type\":[\"manga\"]},{\"manga_id\":99007,\"title\":\"Komi-san wa, Comyushou desu.\",\"title_synonyms\":\"Komisan wa Communication Shougai desu\",\"synopsis\":[\"Its\",\"Shouko\",\"Komis\",\"first\",\"day\",\"at\",\"the\",\"prestigious\",\"Itan\",\"Private\",\"High\",\"School\",\"and\",\"she\",\"has\",\"already\",\"risen\",\"to\",\"the\",\"status\",\"of\",\"the\",\"schools\",\"Madonna\",\"With\",\"long\",\"black\",\"hair\",\"and\",\"a\",\"tall\",\"graceful\",\"appearance\",\"she\",\"captures\",\"the\",\"attention\",\"of\",\"anyone\",\"who\",\"comes\",\"across\",\"her\",\"Theres\",\"just\",\"one\",\"problem\",\"though\\\\u2014despite\",\"her\",\"popularity\",\"Shouko\",\"is\",\"terrible\",\"at\",\"communicating\",\"with\",\"others\",\"Hitohito\",\"Tadano\",\"is\",\"your\",\"average\",\"high\",\"school\",\"boy\",\"With\",\"his\",\"life\",\"motto\",\"of\",\"read\",\"the\",\"situation\",\"and\",\"make\",\"sure\",\"to\",\"stay\",\"away\",\"from\",\"trouble\",\"he\",\"quickly\",\"finds\",\"that\",\"sitting\",\"next\",\"to\",\"Shouko\",\"has\",\"made\",\"him\",\"the\",\"enemy\",\"of\",\"everyone\",\"in\",\"his\",\"class\",\"One\",\"day\",\"knocked\",\"out\",\"by\",\"accident\",\"Hitohito\",\"later\",\"wakes\",\"up\",\"to\",\"the\",\"sound\",\"of\",\"Shoukos\",\"meow\",\"He\",\"lies\",\"that\",\"he\",\"heard\",\"nothing\",\"causing\",\"Shouko\",\"to\",\"run\",\"away\",\"But\",\"before\",\"she\",\"can\",\"escape\",\"Hitohito\",\"surmises\",\"that\",\"Shouko\",\"is\",\"not\",\"able\",\"to\",\"talk\",\"to\",\"others\",\"easily\\\\u2014in\",\"fact\",\"she\",\"has\",\"never\",\"been\",\"able\",\"to\",\"make\",\"a\",\"single\",\"friend\",\"Hitohito\",\"resolves\",\"to\",\"help\",\"Shouko\",\"with\",\"her\",\"goal\",\"of\",\"making\",\"one\",\"hundred\",\"friends\",\"so\",\"that\",\"she\",\"can\",\"overcome\",\"her\",\"communication\",\"disorder\"],\"demographics\":[\"Shounen\"],\"authors\":[\"OdaTomohito\"],\"genres\":[\"Award Winning\",\"Comedy\"],\"themes\":[\"Romantic Subtext\",\"School\"],\"type\":[\"manga\"]},{\"manga_id\":1133,\"title\":\"Dorohedoro\",\"title_synonyms\":\"\",\"synopsis\":[\"Hole\\\\u2014a\",\"dark\",\"decrepit\",\"and\",\"disorderly\",\"district\",\"where\",\"the\",\"strong\",\"prey\",\"on\",\"the\",\"weak\",\"and\",\"death\",\"is\",\"an\",\"ordinary\",\"occurrence\\\\u2014is\",\"all\",\"but\",\"befitting\",\"of\",\"the\",\"name\",\"given\",\"to\",\"it\",\"A\",\"realm\",\"separated\",\"from\",\"law\",\"and\",\"ethics\",\"it\",\"is\",\"a\",\"testing\",\"ground\",\"to\",\"the\",\"magic\",\"users\",\"who\",\"dominate\",\"it\",\"As\",\"a\",\"race\",\"occupying\",\"the\",\"highest\",\"rungs\",\"of\",\"their\",\"society\",\"the\",\"magic\",\"users\",\"think\",\"of\",\"the\",\"denizens\",\"of\",\"Hole\",\"as\",\"no\",\"more\",\"than\",\"insects\",\"Murdered\",\"mutilated\",\"and\",\"made\",\"experiments\",\"without\",\"a\",\"second\",\"thought\",\"the\",\"powerless\",\"Hole\",\"dwellers\",\"litter\",\"the\",\"halls\",\"of\",\"Holes\",\"hospital\",\"on\",\"a\",\"daily\",\"basis\",\"Possessing\",\"free\",\"access\",\"to\",\"and\",\"from\",\"the\",\"cesspool\",\"and\",\"with\",\"little\",\"challenge\",\"to\",\"their\",\"authority\",\"the\",\"magic\",\"users\",\"appear\",\"indomitable\",\"to\",\"most\\\\u2014aside\",\"for\",\"a\",\"few\",\"Caiman\",\"more\",\"reptile\",\"than\",\"man\",\"is\",\"one\",\"such\",\"individual\",\"He\",\"hunts\",\"them\",\"on\",\"a\",\"heedless\",\"quest\",\"for\",\"answers\",\"with\",\"only\",\"a\",\"trusted\",\"pair\",\"of\",\"bayonets\",\"and\",\"his\",\"immunity\",\"to\",\"magic\",\"Cursed\",\"by\",\"his\",\"appearance\",\"and\",\"tormented\",\"by\",\"nightmares\",\"magic\",\"users\",\"are\",\"his\",\"only\",\"clue\",\"to\",\"restoring\",\"his\",\"life\",\"to\",\"normal\",\"With\",\"his\",\"biggest\",\"obstacle\",\"being\",\"his\",\"stomach\",\"his\",\"female\",\"companion\",\"Nikaidou\",\"who\",\"runs\",\"the\",\"restaurant\",\"Hungry\",\"Bug\",\"is\",\"his\",\"greatest\",\"ally\",\"Set\",\"in\",\"a\",\"gritty\",\"world\",\"of\",\"hellish\",\"design\",\"Dorohedoro\",\"manages\",\"a\",\"healthy\",\"blend\",\"of\",\"comedy\",\"and\",\"lightheartedness\",\"with\",\"death\",\"and\",\"carnage\",\"Taking\",\"plenty\",\"of\",\"twists\",\"and\",\"turns\",\"while\",\"following\",\"the\",\"lives\",\"of\",\"Holes\",\"residents\",\"it\",\"weaves\",\"a\",\"unique\",\"world\",\"of\",\"unearthly\",\"origin\",\"and\",\"dreary\",\"appearance\",\"not\",\"for\",\"the\",\"squeamish\",\"or\",\"easily\",\"disturbed\"],\"demographics\":[\"Seinen\"],\"authors\":[\"HayashidaQ\"],\"genres\":[\"Action\",\"Comedy\",\"Fantasy\",\"Horror\"],\"themes\":[\"Gore\"],\"type\":[\"manga\"]},{\"manga_id\":24,\"title\":\"D.Gray-man\",\"title_synonyms\":\"DGreyman D Grayman D Grayman\",\"synopsis\":[\"Thousands\",\"of\",\"years\",\"ago\",\"there\",\"existed\",\"those\",\"gifted\",\"with\",\"the\",\"power\",\"of\",\"God\",\"Their\",\"mission\",\"to\",\"destroy\",\"the\",\"ominous\",\"evils\",\"that\",\"lurk\",\"in\",\"the\",\"darkness\",\"known\",\"as\",\"Akuma\",\"Led\",\"by\",\"the\",\"Milenium\",\"Earl\",\"Akuma\",\"seek\",\"to\",\"destroy\",\"fragments\",\"of\",\"Innocence\",\"the\",\"only\",\"weapons\",\"capable\",\"of\",\"harming\",\"the\",\"Earl\",\"and\",\"his\",\"army\",\"and\",\"bring\",\"about\",\"the\",\"Great\",\"Flood\",\"from\",\"a\",\"hundred\",\"years\",\"ago\",\"To\",\"prevent\",\"this\",\"tragedy\",\"from\",\"happening\",\"the\",\"Black\",\"Order\",\"was\",\"formed\",\"as\",\"an\",\"organization\",\"dedicated\",\"to\",\"fighting\",\"the\",\"Earl\",\"They\",\"recruit\",\"Exorcists\",\"those\",\"with\",\"the\",\"inherent\",\"ability\",\"to\",\"accomodate\",\"Innocence\",\"to\",\"fight\",\"against\",\"the\",\"Akuma\",\"In\",\"the\",\"late\",\"19th\",\"century\",\"Allen\",\"Walker\\\\u2014a\",\"whitehaired\",\"boy\",\"armed\",\"with\",\"Innocence\",\"that\",\"takes\",\"the\",\"form\",\"of\",\"his\",\"entire\",\"left\",\"arm\",\"and\",\"a\",\"cursed\",\"eye\",\"that\",\"can\",\"see\",\"Akuma\\\\u2014is\",\"sent\",\"to\",\"the\",\"Black\",\"Order\",\"There\",\"Allen\",\"meets\",\"various\",\"comrades\",\"from\",\"the\",\"Order\\\\u2014the\",\"mercurial\",\"Yuu\",\"Kanda\",\"the\",\"kindhearted\",\"Lenalee\",\"Lee\",\"and\",\"the\",\"cheerful\",\"yet\",\"mysterious\",\"Lavi\",\"Despite\",\"their\",\"different\",\"personalities\",\"they\",\"have\",\"one\",\"goal\",\"in\",\"mind\",\"to\",\"bring\",\"salvation\",\"to\",\"the\",\"souls\",\"of\",\"Akuma\",\"and\",\"prevent\",\"the\",\"Earl\",\"from\",\"destroying\",\"the\",\"world\"],\"demographics\":[\"Shounen\"],\"authors\":[\"HoshinoKatsura\"],\"genres\":[\"Action\",\"Adventure\"],\"themes\":[\"Mythology\",\"Super Power\"],\"type\":[\"manga\"]},{\"manga_id\":126146,\"title\":\"\\\\\"Oshi no Ko\\\\\"\",\"title_synonyms\":\"My Star \\\\u3010Oshi no Ko\\\\u3011\",\"synopsis\":[\"Sixteenyearold\",\"Ai\",\"Hoshino\",\"is\",\"a\",\"talented\",\"and\",\"beautiful\",\"idol\",\"who\",\"is\",\"adored\",\"by\",\"her\",\"fans\",\"She\",\"is\",\"the\",\"personification\",\"of\",\"a\",\"pure\",\"young\",\"maiden\",\"But\",\"all\",\"that\",\"glitters\",\"is\",\"not\",\"gold\",\"Gorou\",\"Amemiya\",\"is\",\"a\",\"countryside\",\"gynecologist\",\"and\",\"a\",\"big\",\"fan\",\"of\",\"Ai\",\"So\",\"when\",\"the\",\"pregnant\",\"idol\",\"shows\",\"up\",\"at\",\"his\",\"hospital\",\"he\",\"is\",\"beyond\",\"bewildered\",\"Gorou\",\"promises\",\"her\",\"a\",\"safe\",\"delivery\",\"Little\",\"does\",\"he\",\"know\",\"an\",\"encounter\",\"with\",\"a\",\"mysterious\",\"figure\",\"would\",\"result\",\"in\",\"his\",\"untimely\",\"death\\\\u2014or\",\"so\",\"he\",\"thought\",\"Opening\",\"his\",\"eyes\",\"in\",\"the\",\"lap\",\"of\",\"his\",\"beloved\",\"idol\",\"Gorou\",\"finds\",\"that\",\"he\",\"has\",\"been\",\"reborn\",\"as\",\"Aquamarine\",\"Hoshino\\\\u2014Ais\",\"newborn\",\"son\",\"With\",\"his\",\"world\",\"turned\",\"upside\",\"down\",\"Gorou\",\"soon\",\"learns\",\"that\",\"the\",\"world\",\"of\",\"showbiz\",\"is\",\"paved\",\"with\",\"thorns\",\"where\",\"talent\",\"does\",\"not\",\"always\",\"beget\",\"success\",\"Will\",\"he\",\"manage\",\"to\",\"protect\",\"Ais\",\"smile\",\"that\",\"he\",\"loves\",\"so\",\"much\",\"with\",\"the\",\"help\",\"of\",\"an\",\"eccentric\",\"and\",\"unexpected\",\"ally\"],\"demographics\":[\"Seinen\"],\"authors\":[\"AkasakaAka\",\"YokoyariMengo\"],\"genres\":[\"Drama\",\"Supernatural\"],\"themes\":[\"Reincarnation\",\"Showbiz\"],\"type\":[\"manga\"]},{\"manga_id\":122663,\"title\":\"Tower of God\",\"title_synonyms\":\"Sinui Tap\",\"synopsis\":[\"TwentyFifth\",\"Bam\",\"had\",\"been\",\"alone\",\"his\",\"whole\",\"life\",\"until\",\"he\",\"met\",\"Rachel\",\"Now\",\"however\",\"Rachel\",\"is\",\"set\",\"on\",\"climbing\",\"the\",\"Tower\",\"and\",\"she\",\"is\",\"willing\",\"to\",\"leave\",\"Bam\",\"behind\",\"to\",\"do\",\"so\",\"After\",\"Rachel\",\"disappears\",\"in\",\"a\",\"veil\",\"of\",\"light\",\"Bam\",\"follows\",\"her\",\"vowing\",\"to\",\"ascend\",\"the\",\"Tower\",\"in\",\"hopes\",\"of\",\"meeting\",\"her\",\"again\",\"But\",\"the\",\"Tower\",\"is\",\"a\",\"dangerous\",\"place\",\"full\",\"of\",\"ancient\",\"secrets\",\"fearsome\",\"monsters\",\"and\",\"nefarious\",\"humans\",\"Each\",\"floor\",\"is\",\"protected\",\"by\",\"an\",\"Administrator\",\"who\",\"puts\",\"the\",\"daring\",\"challengers\",\"through\",\"grueling\",\"tests\",\"that\",\"will\",\"push\",\"them\",\"to\",\"their\",\"limits\",\"As\",\"he\",\"confronts\",\"Headon\",\"the\",\"Administrator\",\"of\",\"the\",\"first\",\"floor\",\"Bam\",\"learns\",\"that\",\"he\",\"is\",\"an\",\"Irregular\",\"someone\",\"who\",\"was\",\"not\",\"chosen\",\"by\",\"the\",\"Tower\",\"but\",\"was\",\"able\",\"to\",\"enter\",\"it\",\"on\",\"his\",\"own\",\"an\",\"extremely\",\"rare\",\"event\",\"inside\",\"the\",\"Tower\",\"Regardless\",\"of\",\"this\",\"revelation\",\"however\",\"his\",\"path\",\"forward\",\"is\",\"clear\",\"Be\",\"it\",\"wealth\",\"power\",\"glory\",\"or\",\"even\",\"reuniting\",\"with\",\"Rachel\",\"all\",\"desires\",\"will\",\"be\",\"realized\",\"at\",\"the\",\"top\",\"of\",\"the\",\"Tower\"],\"demographics\":[],\"authors\":[\"SIU\"],\"genres\":[\"Action\",\"Adventure\",\"Drama\",\"Fantasy\",\"Mystery\"],\"themes\":[],\"type\":[\"manhwa\"]}]'"
      ]
     },
     "execution_count": 23,
     "metadata": {},
     "output_type": "execute_result"
    }
   ],
   "source": [
    "all_manga.head(50).to_json(orient=\"records\")"
   ]
  },
  {
   "cell_type": "code",
   "execution_count": 24,
   "metadata": {},
   "outputs": [],
   "source": [
    "all_manga.loc[:, \"title_synonyms\"] = all_manga[\"title_synonyms\"].apply(\n",
    "    lambda x: x.split()\n",
    ")"
   ]
  },
  {
   "cell_type": "code",
   "execution_count": 25,
   "metadata": {},
   "outputs": [
    {
     "data": {
      "text/html": [
       "<div>\n",
       "<style scoped>\n",
       "    .dataframe tbody tr th:only-of-type {\n",
       "        vertical-align: middle;\n",
       "    }\n",
       "\n",
       "    .dataframe tbody tr th {\n",
       "        vertical-align: top;\n",
       "    }\n",
       "\n",
       "    .dataframe thead th {\n",
       "        text-align: right;\n",
       "    }\n",
       "</style>\n",
       "<table border=\"1\" class=\"dataframe\">\n",
       "  <thead>\n",
       "    <tr style=\"text-align: right;\">\n",
       "      <th></th>\n",
       "      <th>manga_id</th>\n",
       "      <th>title</th>\n",
       "      <th>title_synonyms</th>\n",
       "      <th>synopsis</th>\n",
       "      <th>demographics</th>\n",
       "      <th>authors</th>\n",
       "      <th>genres</th>\n",
       "      <th>themes</th>\n",
       "      <th>type</th>\n",
       "    </tr>\n",
       "  </thead>\n",
       "  <tbody>\n",
       "    <tr>\n",
       "      <th>0</th>\n",
       "      <td>2</td>\n",
       "      <td>Berserk</td>\n",
       "      <td>[Berserk, The, Prototype]</td>\n",
       "      <td>[Guts, a, former, mercenary, now, known, as, t...</td>\n",
       "      <td>[Seinen]</td>\n",
       "      <td>[MiuraKentarou, StudioGaga]</td>\n",
       "      <td>[Action, Adventure, Award Winning, Drama, Fant...</td>\n",
       "      <td>[Gore, Military, Mythology, Psychological]</td>\n",
       "      <td>[manga]</td>\n",
       "    </tr>\n",
       "    <tr>\n",
       "      <th>1</th>\n",
       "      <td>13</td>\n",
       "      <td>One Piece</td>\n",
       "      <td>[]</td>\n",
       "      <td>[Gol, D, Roger, a, man, referred, to, as, the,...</td>\n",
       "      <td>[Shounen]</td>\n",
       "      <td>[OdaEiichiro]</td>\n",
       "      <td>[Action, Adventure, Fantasy]</td>\n",
       "      <td>[]</td>\n",
       "      <td>[manga]</td>\n",
       "    </tr>\n",
       "  </tbody>\n",
       "</table>\n",
       "</div>"
      ],
      "text/plain": [
       "   manga_id      title             title_synonyms  \\\n",
       "0         2    Berserk  [Berserk, The, Prototype]   \n",
       "1        13  One Piece                         []   \n",
       "\n",
       "                                            synopsis demographics  \\\n",
       "0  [Guts, a, former, mercenary, now, known, as, t...     [Seinen]   \n",
       "1  [Gol, D, Roger, a, man, referred, to, as, the,...    [Shounen]   \n",
       "\n",
       "                       authors  \\\n",
       "0  [MiuraKentarou, StudioGaga]   \n",
       "1                [OdaEiichiro]   \n",
       "\n",
       "                                              genres  \\\n",
       "0  [Action, Adventure, Award Winning, Drama, Fant...   \n",
       "1                       [Action, Adventure, Fantasy]   \n",
       "\n",
       "                                       themes     type  \n",
       "0  [Gore, Military, Mythology, Psychological]  [manga]  \n",
       "1                                          []  [manga]  "
      ]
     },
     "execution_count": 25,
     "metadata": {},
     "output_type": "execute_result"
    }
   ],
   "source": [
    "all_manga.head(2)"
   ]
  },
  {
   "cell_type": "code",
   "execution_count": 26,
   "metadata": {},
   "outputs": [],
   "source": [
    "def concatenate_row(row):\n",
    "    concatenated_row = \"\"\n",
    "    for values in row[2:]:\n",
    "        if not values:\n",
    "            continue\n",
    "        concatenated_row += \" \".join(values) + \"\"\n",
    "    return concatenated_row.strip()"
   ]
  },
  {
   "cell_type": "code",
   "execution_count": 27,
   "metadata": {},
   "outputs": [],
   "source": [
    "all_manga[\"tags\"] = all_manga.apply(concatenate_row, axis=1)"
   ]
  },
  {
   "cell_type": "code",
   "execution_count": 28,
   "metadata": {},
   "outputs": [],
   "source": [
    "json = all_manga.iloc[:, [0, 1]].to_json(orient=\"records\")\n",
    "with open(\"title.json\", \"w\") as f:\n",
    "    f.write(json)"
   ]
  },
  {
   "cell_type": "code",
   "execution_count": 29,
   "metadata": {},
   "outputs": [],
   "source": [
    "manga = all_manga[[\"manga_id\", \"title\", \"tags\"]]"
   ]
  },
  {
   "cell_type": "code",
   "execution_count": 30,
   "metadata": {},
   "outputs": [
    {
     "data": {
      "text/html": [
       "<div>\n",
       "<style scoped>\n",
       "    .dataframe tbody tr th:only-of-type {\n",
       "        vertical-align: middle;\n",
       "    }\n",
       "\n",
       "    .dataframe tbody tr th {\n",
       "        vertical-align: top;\n",
       "    }\n",
       "\n",
       "    .dataframe thead th {\n",
       "        text-align: right;\n",
       "    }\n",
       "</style>\n",
       "<table border=\"1\" class=\"dataframe\">\n",
       "  <thead>\n",
       "    <tr style=\"text-align: right;\">\n",
       "      <th></th>\n",
       "      <th>manga_id</th>\n",
       "      <th>title</th>\n",
       "      <th>tags</th>\n",
       "    </tr>\n",
       "  </thead>\n",
       "  <tbody>\n",
       "    <tr>\n",
       "      <th>0</th>\n",
       "      <td>2</td>\n",
       "      <td>Berserk</td>\n",
       "      <td>Berserk The PrototypeGuts a former mercenary n...</td>\n",
       "    </tr>\n",
       "    <tr>\n",
       "      <th>1</th>\n",
       "      <td>13</td>\n",
       "      <td>One Piece</td>\n",
       "      <td>Gol D Roger a man referred to as the King of t...</td>\n",
       "    </tr>\n",
       "    <tr>\n",
       "      <th>2</th>\n",
       "      <td>116778</td>\n",
       "      <td>Chainsaw Man</td>\n",
       "      <td>Denji has a simple dream—to live a happy and p...</td>\n",
       "    </tr>\n",
       "    <tr>\n",
       "      <th>3</th>\n",
       "      <td>23390</td>\n",
       "      <td>Shingeki no Kyojin</td>\n",
       "      <td>Hundreds of years ago horrifying creatures whi...</td>\n",
       "    </tr>\n",
       "    <tr>\n",
       "      <th>4</th>\n",
       "      <td>4632</td>\n",
       "      <td>Oyasumi Punpun</td>\n",
       "      <td>Punpun Onodera is a normal 11yearold boy livin...</td>\n",
       "    </tr>\n",
       "  </tbody>\n",
       "</table>\n",
       "</div>"
      ],
      "text/plain": [
       "   manga_id               title  \\\n",
       "0         2             Berserk   \n",
       "1        13           One Piece   \n",
       "2    116778        Chainsaw Man   \n",
       "3     23390  Shingeki no Kyojin   \n",
       "4      4632      Oyasumi Punpun   \n",
       "\n",
       "                                                tags  \n",
       "0  Berserk The PrototypeGuts a former mercenary n...  \n",
       "1  Gol D Roger a man referred to as the King of t...  \n",
       "2  Denji has a simple dream—to live a happy and p...  \n",
       "3  Hundreds of years ago horrifying creatures whi...  \n",
       "4  Punpun Onodera is a normal 11yearold boy livin...  "
      ]
     },
     "execution_count": 30,
     "metadata": {},
     "output_type": "execute_result"
    }
   ],
   "source": [
    "manga.head()"
   ]
  },
  {
   "cell_type": "code",
   "execution_count": 31,
   "metadata": {},
   "outputs": [],
   "source": [
    "manga.loc[:, \"tags\"] = manga[\"tags\"].apply(lambda x: x.replace(\"—\", \" \"))"
   ]
  },
  {
   "cell_type": "code",
   "execution_count": 32,
   "metadata": {},
   "outputs": [],
   "source": [
    "stop_words = set(stopwords.words(\"english\"))\n",
    "lemmatizer = WordNetLemmatizer()\n",
    "\n",
    "\n",
    "def cleanup(text):\n",
    "    # Convert text to lowercase\n",
    "    text = text.lower()\n",
    "    # Tokenize the text\n",
    "    tokens = word_tokenize(text)\n",
    "    # Remove stop words\n",
    "    tokens = [word for word in tokens if word not in stop_words]\n",
    "    # Lemmatize the tokens\n",
    "    tokens = [lemmatizer.lemmatize(word) for word in tokens]\n",
    "    # Join tokens back to string\n",
    "    cleaned_text = \" \".join(tokens)\n",
    "    return cleaned_text"
   ]
  },
  {
   "cell_type": "code",
   "execution_count": 33,
   "metadata": {},
   "outputs": [
    {
     "data": {
      "text/html": [
       "<div>\n",
       "<style scoped>\n",
       "    .dataframe tbody tr th:only-of-type {\n",
       "        vertical-align: middle;\n",
       "    }\n",
       "\n",
       "    .dataframe tbody tr th {\n",
       "        vertical-align: top;\n",
       "    }\n",
       "\n",
       "    .dataframe thead th {\n",
       "        text-align: right;\n",
       "    }\n",
       "</style>\n",
       "<table border=\"1\" class=\"dataframe\">\n",
       "  <thead>\n",
       "    <tr style=\"text-align: right;\">\n",
       "      <th></th>\n",
       "      <th>manga_id</th>\n",
       "      <th>title</th>\n",
       "      <th>tags</th>\n",
       "    </tr>\n",
       "  </thead>\n",
       "  <tbody>\n",
       "    <tr>\n",
       "      <th>0</th>\n",
       "      <td>2</td>\n",
       "      <td>Berserk</td>\n",
       "      <td>Berserk The PrototypeGuts a former mercenary n...</td>\n",
       "    </tr>\n",
       "    <tr>\n",
       "      <th>1</th>\n",
       "      <td>13</td>\n",
       "      <td>One Piece</td>\n",
       "      <td>Gol D Roger a man referred to as the King of t...</td>\n",
       "    </tr>\n",
       "    <tr>\n",
       "      <th>2</th>\n",
       "      <td>116778</td>\n",
       "      <td>Chainsaw Man</td>\n",
       "      <td>Denji has a simple dream to live a happy and p...</td>\n",
       "    </tr>\n",
       "    <tr>\n",
       "      <th>3</th>\n",
       "      <td>23390</td>\n",
       "      <td>Shingeki no Kyojin</td>\n",
       "      <td>Hundreds of years ago horrifying creatures whi...</td>\n",
       "    </tr>\n",
       "    <tr>\n",
       "      <th>4</th>\n",
       "      <td>4632</td>\n",
       "      <td>Oyasumi Punpun</td>\n",
       "      <td>Punpun Onodera is a normal 11yearold boy livin...</td>\n",
       "    </tr>\n",
       "  </tbody>\n",
       "</table>\n",
       "</div>"
      ],
      "text/plain": [
       "   manga_id               title  \\\n",
       "0         2             Berserk   \n",
       "1        13           One Piece   \n",
       "2    116778        Chainsaw Man   \n",
       "3     23390  Shingeki no Kyojin   \n",
       "4      4632      Oyasumi Punpun   \n",
       "\n",
       "                                                tags  \n",
       "0  Berserk The PrototypeGuts a former mercenary n...  \n",
       "1  Gol D Roger a man referred to as the King of t...  \n",
       "2  Denji has a simple dream to live a happy and p...  \n",
       "3  Hundreds of years ago horrifying creatures whi...  \n",
       "4  Punpun Onodera is a normal 11yearold boy livin...  "
      ]
     },
     "execution_count": 33,
     "metadata": {},
     "output_type": "execute_result"
    }
   ],
   "source": [
    "manga.head()"
   ]
  },
  {
   "cell_type": "code",
   "execution_count": 34,
   "metadata": {},
   "outputs": [],
   "source": [
    "manga.loc[:, \"tags\"] = manga[\"tags\"].apply(cleanup)"
   ]
  },
  {
   "cell_type": "code",
   "execution_count": 35,
   "metadata": {
    "notebookRunGroups": {
     "groupValue": "2"
    }
   },
   "outputs": [],
   "source": [
    "# Function to get memory usage\n",
    "def get_memory_usage():\n",
    "    process = psutil.Process(os.getpid())\n",
    "    mem_info = process.memory_info()\n",
    "    return mem_info.rss / (1024**2)  # Convert bytes to MB"
   ]
  },
  {
   "cell_type": "code",
   "execution_count": 36,
   "metadata": {},
   "outputs": [],
   "source": [
    "manga = manga.reset_index(drop=True)"
   ]
  },
  {
   "cell_type": "code",
   "execution_count": 37,
   "metadata": {},
   "outputs": [],
   "source": [
    "# compute similarity matrix in smaller batches due to memory limitations\n",
    "cv = CountVectorizer(max_features=20000)"
   ]
  },
  {
   "cell_type": "code",
   "execution_count": 38,
   "metadata": {},
   "outputs": [],
   "source": [
    "vectors = cv.fit_transform(manga['tags'])"
   ]
  },
  {
   "cell_type": "code",
   "execution_count": 39,
   "metadata": {},
   "outputs": [],
   "source": [
    "similarity = cosine_similarity(vectors)"
   ]
  },
  {
   "cell_type": "code",
   "execution_count": 40,
   "metadata": {},
   "outputs": [
    {
     "data": {
      "text/plain": [
       "(14483, 14483)"
      ]
     },
     "execution_count": 40,
     "metadata": {},
     "output_type": "execute_result"
    }
   ],
   "source": [
    "similarity.shape"
   ]
  },
  {
   "cell_type": "code",
   "execution_count": 41,
   "metadata": {},
   "outputs": [],
   "source": [
    "# save similarity matrix as a pickle file\n",
    "pickle.dump(similarity, open(\"artifacts/mat-20000.pkl\", \"wb\"))"
   ]
  },
  {
   "cell_type": "code",
   "execution_count": 42,
   "metadata": {},
   "outputs": [],
   "source": [
    "pickle.dump(manga, open(\"artifacts/data.pkl\", \"wb\"))"
   ]
  },
  {
   "cell_type": "code",
   "execution_count": 304,
   "metadata": {},
   "outputs": [
    {
     "data": {
      "text/html": [
       "<div>\n",
       "<style scoped>\n",
       "    .dataframe tbody tr th:only-of-type {\n",
       "        vertical-align: middle;\n",
       "    }\n",
       "\n",
       "    .dataframe tbody tr th {\n",
       "        vertical-align: top;\n",
       "    }\n",
       "\n",
       "    .dataframe thead th {\n",
       "        text-align: right;\n",
       "    }\n",
       "</style>\n",
       "<table border=\"1\" class=\"dataframe\">\n",
       "  <thead>\n",
       "    <tr style=\"text-align: right;\">\n",
       "      <th></th>\n",
       "      <th>manga_id</th>\n",
       "      <th>title</th>\n",
       "      <th>tags</th>\n",
       "    </tr>\n",
       "  </thead>\n",
       "  <tbody>\n",
       "    <tr>\n",
       "      <th>0</th>\n",
       "      <td>2</td>\n",
       "      <td>Berserk</td>\n",
       "      <td>berserk prototypeguts former mercenary known b...</td>\n",
       "    </tr>\n",
       "    <tr>\n",
       "      <th>1</th>\n",
       "      <td>13</td>\n",
       "      <td>One Piece</td>\n",
       "      <td>gol roger man referred king pirate set execute...</td>\n",
       "    </tr>\n",
       "    <tr>\n",
       "      <th>2</th>\n",
       "      <td>116778</td>\n",
       "      <td>Chainsaw Man</td>\n",
       "      <td>denji simple dream live happy peaceful life sp...</td>\n",
       "    </tr>\n",
       "    <tr>\n",
       "      <th>3</th>\n",
       "      <td>23390</td>\n",
       "      <td>Shingeki no Kyojin</td>\n",
       "      <td>hundred year ago horrifying creature resembled...</td>\n",
       "    </tr>\n",
       "    <tr>\n",
       "      <th>4</th>\n",
       "      <td>4632</td>\n",
       "      <td>Oyasumi Punpun</td>\n",
       "      <td>punpun onodera normal 11yearold boy living jap...</td>\n",
       "    </tr>\n",
       "  </tbody>\n",
       "</table>\n",
       "</div>"
      ],
      "text/plain": [
       "   manga_id               title  \\\n",
       "0         2             Berserk   \n",
       "1        13           One Piece   \n",
       "2    116778        Chainsaw Man   \n",
       "3     23390  Shingeki no Kyojin   \n",
       "4      4632      Oyasumi Punpun   \n",
       "\n",
       "                                                tags  \n",
       "0  berserk prototypeguts former mercenary known b...  \n",
       "1  gol roger man referred king pirate set execute...  \n",
       "2  denji simple dream live happy peaceful life sp...  \n",
       "3  hundred year ago horrifying creature resembled...  \n",
       "4  punpun onodera normal 11yearold boy living jap...  "
      ]
     },
     "execution_count": 304,
     "metadata": {},
     "output_type": "execute_result"
    }
   ],
   "source": [
    "manga.head()"
   ]
  },
  {
   "cell_type": "code",
   "execution_count": 305,
   "metadata": {},
   "outputs": [
    {
     "data": {
      "text/plain": [
       "'Berserk'"
      ]
     },
     "execution_count": 305,
     "metadata": {},
     "output_type": "execute_result"
    }
   ],
   "source": [
    "manga.iloc[0][\"title\"]"
   ]
  },
  {
   "cell_type": "code",
   "execution_count": 306,
   "metadata": {},
   "outputs": [
    {
     "data": {
      "text/plain": [
       "924"
      ]
     },
     "execution_count": 306,
     "metadata": {},
     "output_type": "execute_result"
    }
   ],
   "source": [
    "gc.collect()"
   ]
  },
  {
   "cell_type": "code",
   "execution_count": 310,
   "metadata": {},
   "outputs": [
    {
     "data": {
      "text/plain": [
       "['Nanatsu no Taizai',\n",
       " 'Umi no Kishidan',\n",
       " 'The Legend of the Sun Knight',\n",
       " 'Shoujo Kishidan x Knight Tale',\n",
       " 'Henkyou no Roukishi Bard Loen',\n",
       " 'Eiyuuou, Bu wo Kiwameru Tame Tenseisu: Soshite, Sekai Saikyou no Minarai Kishi♀',\n",
       " 'A Fairytale for the Demon Lord',\n",
       " \"The Dark Lord's Confession\",\n",
       " 'Majo no Moribito',\n",
       " 'Engage Knight',\n",
       " 'The Red Knight Seeks No Reward',\n",
       " 'The Legend of Dragoon',\n",
       " 'Shin Shirayuki-hime Densetsu Pretear',\n",
       " 'Entaku no Himeshi!',\n",
       " 'Hagure Seireii no Shinsatsu Kiroku: Seijo Kishidan to Iyashi no Kamiwaza',\n",
       " 'Mayoe! Nanatsu no Taizai Gakuen!',\n",
       " 'The Legendary Spearman Returns',\n",
       " 'Hao Taikei Ryu Knight',\n",
       " 'The Knight and Her Emperor',\n",
       " 'Rakudai Kishi no Cavalry',\n",
       " 'Okobore Hime to Entaku no Kishi',\n",
       " 'Black Clover Gaiden: Quartet Knights',\n",
       " 'Tensei shita Daiseijo wa, Seijo de Aru Koto wo Hitakakusu',\n",
       " 'X & Ash',\n",
       " 'Nanatsu no Taizai: Hajimari wo Sasou Ame no Mori',\n",
       " 'Aqua Knight',\n",
       " 'Ryuukishi no Okiniiri',\n",
       " 'Douyara Boku no Hanayome wa Onna Kishidan na You de.',\n",
       " 'Stigmata: Sekiren no Seija',\n",
       " 'Luminous Arc 2: Will',\n",
       " 'Orc ga Okashite Kurenai!',\n",
       " 'Nanatsu no Taizai: Seven Days - Touzoku to Seishoujo',\n",
       " \"It's My Life\",\n",
       " 'Isekai no Sata wa Shachiku Shidai',\n",
       " 'Miracle! Hero-nim',\n",
       " 'Onna Kishi to Kemomimi no Ko',\n",
       " 'Tales of Symphonia: Ratatosk no Kishi - Onshuu no Richter',\n",
       " 'Surviving as the Illegitimate Princess',\n",
       " 'The King of Fantasy: Yagami Iori no Isekai Musou - Tsuki wo Miru Tabi Omoidase!',\n",
       " 'Nanatsu no Taizai: Bangai-henshuu \"Genzai\"',\n",
       " 'Digimon D-Cyber',\n",
       " 'Akuyaku Reijou? Iie, Gokuaku Reijou desu wa',\n",
       " 'Shenyin Wangzuo',\n",
       " 'Majo to Kishi wa Ikinokoru',\n",
       " 'Ryuurouden: Chuugen Ryouran-hen',\n",
       " 'Katainaka no Ossan, Kensei ni Naru: Tada no Inaka no Kenjutsu Shihan Datta noni, Taisei shita Deshi-tachi ga Ore wo Hottekurenai Ken',\n",
       " 'Grancrest Senki',\n",
       " 'Walkure Romanze: Shoujo Kishi Monogatari',\n",
       " 'Raise wo Chikatte Tensei shitara Taihen na Koto ni Natta',\n",
       " 'Rewriting the Villainess',\n",
       " 'Fate/Zero',\n",
       " 'Akatsuki no Yona',\n",
       " 'Rebirth Knight',\n",
       " 'Super Mario Adventures: Mario no Daibouken',\n",
       " 'Alicia-san no Diet Quest',\n",
       " 'Fate/stay night: Unlimited Blade Works',\n",
       " 'Qishi Huanxiang Ye',\n",
       " 'Majo no Kishi',\n",
       " 'Radiata Stories: The Song of Ridley',\n",
       " 'Bravely Default: Flying Fairy',\n",
       " 'Tsuihou sareta Tensei Juukishi wa Game Chishiki de Musou suru',\n",
       " 'Darenidemo Dekiru Kage kara Tasukeru Maou Toubatsu',\n",
       " 'From a Knight to a Lady',\n",
       " 'Dragon Quest Retsuden: Roto no Monshou',\n",
       " 'Abide in the Wind',\n",
       " 'Erementar Gerad: Aozora no Senki',\n",
       " 'Choseikenki Mikazuchiden',\n",
       " 'Kokuei no Junk',\n",
       " 'Nanatsu no Taizai: King no Manga Michi',\n",
       " 'Lost Seven',\n",
       " 'Shiro no Koukoku Monogatari',\n",
       " 'Amanoiwato Hime',\n",
       " 'Umarekawatta \"Kensei\" wa Raku wo Shitai',\n",
       " 'Soara to Mamono no Ie',\n",
       " 'Magic Knight Rayearth',\n",
       " 'Otogi Taisen Phantasma',\n",
       " 'Jijo nanoni... Seiken wo Nuite Shimatta!',\n",
       " 'The Return of Elena the Knight',\n",
       " 'Fate/hollow ataraxia',\n",
       " 'Hoshi no Samidare',\n",
       " 'Radiata Stories: The Epic of Jack',\n",
       " 'Fairy Tail x Nanatsu no Taizai Christmas Special',\n",
       " 'Madoushi wa Heibon wo Nozomu',\n",
       " 'Mismarca Koukoku Monogatari',\n",
       " 'Sareki Oukoku',\n",
       " 'Majo to Kiketsu no Kishi',\n",
       " 'Qwan',\n",
       " 'Dragon, Ie wo Kau.',\n",
       " \"Le Chevalier d'Eon\",\n",
       " 'Kingdom Hearts III',\n",
       " 'Isekai Mahou wa Okureteru!',\n",
       " 'Shin no Jitsuryoku wa Girigiri made Kakushiteiyou to Omou',\n",
       " 'Devil May Cry 3',\n",
       " 'Shinsetsu Ookami to Koushinryou: Ookami to Youhishi',\n",
       " 'Kaze no Tani no Nausicaä',\n",
       " 'Zelda no Densetsu: Fushigi no Kinomi - Daichi no Shou',\n",
       " 'Kyoumen no Silhouette',\n",
       " 'Acaria',\n",
       " 'At Laz Meridian',\n",
       " 'Dragon Kishidan']"
      ]
     },
     "execution_count": 310,
     "metadata": {},
     "output_type": "execute_result"
    }
   ],
   "source": [
    "def recommend(title):\n",
    "    filtered_manga = manga[manga['title'].str.lower() == title.lower()]\n",
    "    if len(filtered_manga) == 0:\n",
    "        print (f\"{title} not found in the database.\")\n",
    "        return\n",
    "    \n",
    "    index = filtered_manga.index[0]\n",
    "\n",
    "    sorted_Manga = sorted(list(enumerate(similarity[index])),reverse=True , key=lambda x: x[1])\n",
    "\n",
    "    recommended_titles = []\n",
    "    recommended_urls = []\n",
    "    similarities = []\n",
    "\n",
    "    for i in sorted_Manga[:100]:\n",
    "        recommended_titles.append(manga.iloc[i[0]][\"title\"])\n",
    "\n",
    "    return recommended_titles\n",
    "\n",
    "\n",
    "recommend(\"Nanatsu no Taizai\")\n"
   ]
  },
  {
   "cell_type": "code",
   "execution_count": null,
   "metadata": {},
   "outputs": [],
   "source": []
  }
 ],
 "metadata": {
  "kernelspec": {
   "display_name": "Python 3",
   "language": "python",
   "name": "python3"
  },
  "language_info": {
   "codemirror_mode": {
    "name": "ipython",
    "version": 3
   },
   "file_extension": ".py",
   "mimetype": "text/x-python",
   "name": "python",
   "nbconvert_exporter": "python",
   "pygments_lexer": "ipython3",
   "version": "3.12.4"
  }
 },
 "nbformat": 4,
 "nbformat_minor": 2
}
