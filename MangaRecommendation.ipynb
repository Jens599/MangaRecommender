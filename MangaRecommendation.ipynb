{
 "cells": [
  {
   "cell_type": "code",
   "execution_count": 48,
   "metadata": {},
   "outputs": [],
   "source": [
    "import numpy as np\n",
    "import pandas as pd\n",
    "import ast\n",
    "import re\n",
    "import string\n",
    "from sklearn.feature_extraction.text import CountVectorizer\n",
    "from sklearn.metrics.pairwise import cosine_similarity\n",
    "import nltk\n",
    "from nltk.corpus import stopwords\n",
    "from nltk.tokenize import word_tokenize\n",
    "from nltk.stem import WordNetLemmatizer\n",
    "import pickle\n",
    "import gc\n",
    "import psutil\n",
    "from tqdm import tqdm\n",
    "import os"
   ]
  },
  {
   "cell_type": "code",
   "execution_count": 49,
   "metadata": {},
   "outputs": [
    {
     "name": "stderr",
     "output_type": "stream",
     "text": [
      "[nltk_data] Downloading package stopwords to\n",
      "[nltk_data]     C:\\Users\\wwwsh\\AppData\\Roaming\\nltk_data...\n",
      "[nltk_data]   Package stopwords is already up-to-date!\n",
      "[nltk_data] Downloading package punkt to\n",
      "[nltk_data]     C:\\Users\\wwwsh\\AppData\\Roaming\\nltk_data...\n",
      "[nltk_data]   Package punkt is already up-to-date!\n",
      "[nltk_data] Downloading package wordnet to\n",
      "[nltk_data]     C:\\Users\\wwwsh\\AppData\\Roaming\\nltk_data...\n",
      "[nltk_data]   Package wordnet is already up-to-date!\n"
     ]
    },
    {
     "data": {
      "text/plain": [
       "True"
      ]
     },
     "execution_count": 49,
     "metadata": {},
     "output_type": "execute_result"
    }
   ],
   "source": [
    "nltk.download('stopwords')\n",
    "nltk.download('punkt')\n",
    "nltk.download('wordnet')"
   ]
  },
  {
   "cell_type": "code",
   "execution_count": 50,
   "metadata": {},
   "outputs": [],
   "source": [
    "pd.set_option(\"display.max_rows\", 200)\n",
    "pd.set_option(\"display.max_columns\", None)"
   ]
  },
  {
   "cell_type": "code",
   "execution_count": 51,
   "metadata": {},
   "outputs": [
    {
     "data": {
      "text/plain": [
       "(64833, 30)"
      ]
     },
     "execution_count": 51,
     "metadata": {},
     "output_type": "execute_result"
    }
   ],
   "source": [
    "raw_data = pd.read_csv(\"manga_new.csv\")\n",
    "raw_data.shape"
   ]
  },
  {
   "cell_type": "code",
   "execution_count": 52,
   "metadata": {},
   "outputs": [
    {
     "data": {
      "text/html": [
       "<div>\n",
       "<style scoped>\n",
       "    .dataframe tbody tr th:only-of-type {\n",
       "        vertical-align: middle;\n",
       "    }\n",
       "\n",
       "    .dataframe tbody tr th {\n",
       "        vertical-align: top;\n",
       "    }\n",
       "\n",
       "    .dataframe thead th {\n",
       "        text-align: right;\n",
       "    }\n",
       "</style>\n",
       "<table border=\"1\" class=\"dataframe\">\n",
       "  <thead>\n",
       "    <tr style=\"text-align: right;\">\n",
       "      <th></th>\n",
       "      <th>manga_id</th>\n",
       "      <th>title</th>\n",
       "      <th>type</th>\n",
       "      <th>score</th>\n",
       "      <th>scored_by</th>\n",
       "      <th>status</th>\n",
       "      <th>volumes</th>\n",
       "      <th>chapters</th>\n",
       "      <th>start_date</th>\n",
       "      <th>end_date</th>\n",
       "      <th>members</th>\n",
       "      <th>favorites</th>\n",
       "      <th>sfw</th>\n",
       "      <th>approved</th>\n",
       "      <th>created_at_before</th>\n",
       "      <th>updated_at</th>\n",
       "      <th>real_start_date</th>\n",
       "      <th>real_end_date</th>\n",
       "      <th>genres</th>\n",
       "      <th>themes</th>\n",
       "      <th>demographics</th>\n",
       "      <th>authors</th>\n",
       "      <th>serializations</th>\n",
       "      <th>synopsis</th>\n",
       "      <th>background</th>\n",
       "      <th>main_picture</th>\n",
       "      <th>url</th>\n",
       "      <th>title_english</th>\n",
       "      <th>title_japanese</th>\n",
       "      <th>title_synonyms</th>\n",
       "    </tr>\n",
       "  </thead>\n",
       "  <tbody>\n",
       "  </tbody>\n",
       "</table>\n",
       "</div>"
      ],
      "text/plain": [
       "Empty DataFrame\n",
       "Columns: [manga_id, title, type, score, scored_by, status, volumes, chapters, start_date, end_date, members, favorites, sfw, approved, created_at_before, updated_at, real_start_date, real_end_date, genres, themes, demographics, authors, serializations, synopsis, background, main_picture, url, title_english, title_japanese, title_synonyms]\n",
       "Index: []"
      ]
     },
     "execution_count": 52,
     "metadata": {},
     "output_type": "execute_result"
    }
   ],
   "source": [
    "raw_data[raw_data['title'].str.lower() == 'oshi no ko']"
   ]
  },
  {
   "cell_type": "code",
   "execution_count": 53,
   "metadata": {},
   "outputs": [
    {
     "data": {
      "text/plain": [
       "type\n",
       "manga       31580\n",
       "one_shot     2917\n",
       "manhwa       2652\n",
       "manhua        343\n",
       "Name: count, dtype: int64"
      ]
     },
     "execution_count": 53,
     "metadata": {},
     "output_type": "execute_result"
    }
   ],
   "source": [
    "raw_data = raw_data[~raw_data['type'].isin(['light_novel', 'novel', 'doujinshi'])]\n",
    "raw_data = raw_data[~raw_data[\"sfw\"].isin([False])]\n",
    "raw_data['type'].value_counts()"
   ]
  },
  {
   "cell_type": "code",
   "execution_count": 54,
   "metadata": {},
   "outputs": [
    {
     "data": {
      "text/plain": [
       "(37492, 30)"
      ]
     },
     "execution_count": 54,
     "metadata": {},
     "output_type": "execute_result"
    }
   ],
   "source": [
    "raw_data.shape"
   ]
  },
  {
   "cell_type": "markdown",
   "metadata": {},
   "source": [
    "raw_data = raw_data.sort_values(by=\"favorites\", ascending=False).head(15500)"
   ]
  },
  {
   "cell_type": "code",
   "execution_count": 55,
   "metadata": {},
   "outputs": [],
   "source": [
    "all_manga = raw_data[\n",
    "    [\n",
    "        \"manga_id\",\n",
    "        \"title\",\n",
    "        \"title_synonyms\",\n",
    "        \"synopsis\",\n",
    "        \"demographics\",\n",
    "        \"authors\",\n",
    "        \"genres\",\n",
    "        \"themes\",\n",
    "        \"type\",\n",
    "    ]\n",
    "]"
   ]
  },
  {
   "cell_type": "code",
   "execution_count": 56,
   "metadata": {},
   "outputs": [],
   "source": [
    "all_manga = all_manga.reset_index(drop=True)"
   ]
  },
  {
   "cell_type": "code",
   "execution_count": 57,
   "metadata": {},
   "outputs": [
    {
     "data": {
      "text/html": [
       "<div>\n",
       "<style scoped>\n",
       "    .dataframe tbody tr th:only-of-type {\n",
       "        vertical-align: middle;\n",
       "    }\n",
       "\n",
       "    .dataframe tbody tr th {\n",
       "        vertical-align: top;\n",
       "    }\n",
       "\n",
       "    .dataframe thead th {\n",
       "        text-align: right;\n",
       "    }\n",
       "</style>\n",
       "<table border=\"1\" class=\"dataframe\">\n",
       "  <thead>\n",
       "    <tr style=\"text-align: right;\">\n",
       "      <th></th>\n",
       "      <th>manga_id</th>\n",
       "      <th>title</th>\n",
       "      <th>title_synonyms</th>\n",
       "      <th>synopsis</th>\n",
       "      <th>demographics</th>\n",
       "      <th>authors</th>\n",
       "      <th>genres</th>\n",
       "      <th>themes</th>\n",
       "      <th>type</th>\n",
       "    </tr>\n",
       "  </thead>\n",
       "  <tbody>\n",
       "    <tr>\n",
       "      <th>0</th>\n",
       "      <td>2</td>\n",
       "      <td>Berserk</td>\n",
       "      <td>['Berserk: The Prototype']</td>\n",
       "      <td>Guts, a former mercenary now known as the \"Bla...</td>\n",
       "      <td>['Seinen']</td>\n",
       "      <td>[{'id': 1868, 'first_name': 'Kentarou', 'last_...</td>\n",
       "      <td>['Action', 'Adventure', 'Award Winning', 'Dram...</td>\n",
       "      <td>['Gore', 'Military', 'Mythology', 'Psychologic...</td>\n",
       "      <td>manga</td>\n",
       "    </tr>\n",
       "    <tr>\n",
       "      <th>1</th>\n",
       "      <td>13</td>\n",
       "      <td>One Piece</td>\n",
       "      <td>[]</td>\n",
       "      <td>Gol D. Roger, a man referred to as the \"King o...</td>\n",
       "      <td>['Shounen']</td>\n",
       "      <td>[{'id': 1881, 'first_name': 'Eiichiro', 'last_...</td>\n",
       "      <td>['Action', 'Adventure', 'Fantasy']</td>\n",
       "      <td>[]</td>\n",
       "      <td>manga</td>\n",
       "    </tr>\n",
       "  </tbody>\n",
       "</table>\n",
       "</div>"
      ],
      "text/plain": [
       "   manga_id      title              title_synonyms  \\\n",
       "0         2    Berserk  ['Berserk: The Prototype']   \n",
       "1        13  One Piece                          []   \n",
       "\n",
       "                                            synopsis demographics  \\\n",
       "0  Guts, a former mercenary now known as the \"Bla...   ['Seinen']   \n",
       "1  Gol D. Roger, a man referred to as the \"King o...  ['Shounen']   \n",
       "\n",
       "                                             authors  \\\n",
       "0  [{'id': 1868, 'first_name': 'Kentarou', 'last_...   \n",
       "1  [{'id': 1881, 'first_name': 'Eiichiro', 'last_...   \n",
       "\n",
       "                                              genres  \\\n",
       "0  ['Action', 'Adventure', 'Award Winning', 'Dram...   \n",
       "1                 ['Action', 'Adventure', 'Fantasy']   \n",
       "\n",
       "                                              themes   type  \n",
       "0  ['Gore', 'Military', 'Mythology', 'Psychologic...  manga  \n",
       "1                                                 []  manga  "
      ]
     },
     "execution_count": 57,
     "metadata": {},
     "output_type": "execute_result"
    }
   ],
   "source": [
    "all_manga.head(2)"
   ]
  },
  {
   "cell_type": "code",
   "execution_count": 58,
   "metadata": {},
   "outputs": [],
   "source": [
    "\n",
    "all_manga = all_manga.dropna()"
   ]
  },
  {
   "cell_type": "code",
   "execution_count": 59,
   "metadata": {},
   "outputs": [
    {
     "data": {
      "text/plain": [
       "(29520, 9)"
      ]
     },
     "execution_count": 59,
     "metadata": {},
     "output_type": "execute_result"
    }
   ],
   "source": [
    "all_manga.shape"
   ]
  },
  {
   "cell_type": "code",
   "execution_count": 60,
   "metadata": {},
   "outputs": [],
   "source": [
    "def clean_text(text):\n",
    "    # Remove anything after '[Written by MAL Rewrite]'\n",
    "    text = re.split(r\"\\[Written by MAL Rewrite\\]\", text)[0]\n",
    "\n",
    "    # Use a regular expression to find text between any type of brackets and remove it\n",
    "    cleaned_text = re.sub(r\"\\[.*?\\]|\\(.*?\\)|\\{.*?\\}|\\<.*?\\>\", \"\", text)\n",
    "    return cleaned_text\n",
    "\n"
   ]
  },
  {
   "cell_type": "code",
   "execution_count": 61,
   "metadata": {},
   "outputs": [],
   "source": [
    "all_manga.loc[:, \"synopsis\"] = all_manga['synopsis'].apply(clean_text)\n",
    "all_manga.loc[:,  \"synopsis\"] = all_manga['synopsis'].apply(lambda x : x.translate(str.maketrans(\"\", \"\", string.punctuation)))\n",
    "\n",
    "all_manga.loc[:,  \"title_synonyms\"] = all_manga['title_synonyms'].apply(lambda x : x.translate(str.maketrans(\"\", \"\", string.punctuation)))\n"
   ]
  },
  {
   "cell_type": "code",
   "execution_count": 62,
   "metadata": {},
   "outputs": [],
   "source": [
    "all_manga.loc[:, \"synopsis\"] = all_manga[\"synopsis\"].apply(lambda x: x.split())\n",
    "all_manga.loc[:, \"type\"] = all_manga[\"type\"].apply(lambda x: x.split())"
   ]
  },
  {
   "cell_type": "code",
   "execution_count": 63,
   "metadata": {},
   "outputs": [],
   "source": [
    "for cols in [\"demographics\", \"authors\", \"genres\", \"themes\"]:\n",
    "    all_manga.loc[:, cols] = all_manga[cols].apply(ast.literal_eval)"
   ]
  },
  {
   "cell_type": "code",
   "execution_count": 64,
   "metadata": {},
   "outputs": [],
   "source": [
    "def resolve_author(data):\n",
    "    res = []\n",
    "    for dic in data:\n",
    "            res.append(f\"{dic[\"last_name\"]} {dic['first_name']}\" if dic['first_name'] != '' else dic['last_name'])\n",
    "    return res\n",
    "\n",
    "def remove_spaces(data):\n",
    "      res = []\n",
    "      for i in data:\n",
    "            res.append(i.replace(\" \",''))\n",
    "      return res"
   ]
  },
  {
   "cell_type": "code",
   "execution_count": 65,
   "metadata": {},
   "outputs": [],
   "source": [
    "all_manga.loc[:, \"authors\"] = all_manga[\"authors\"].apply(resolve_author)\n",
    "all_manga.loc[:, \"authors\"] = all_manga[\"authors\"].apply(remove_spaces)"
   ]
  },
  {
   "cell_type": "code",
   "execution_count": 66,
   "metadata": {},
   "outputs": [],
   "source": [
    "all_manga.loc[:, \"title_synonyms\"] = all_manga['title_synonyms'].apply(lambda x:x.split() )"
   ]
  },
  {
   "cell_type": "code",
   "execution_count": 67,
   "metadata": {},
   "outputs": [],
   "source": [
    "def concatenate_row(row):\n",
    "    concatenated_row = \"\"\n",
    "    for values in row[2:]:\n",
    "        if not values:\n",
    "            continue\n",
    "        concatenated_row += \" \".join(values) + \" \"\n",
    "    return concatenated_row.strip()"
   ]
  },
  {
   "cell_type": "code",
   "execution_count": 68,
   "metadata": {},
   "outputs": [],
   "source": [
    "all_manga[\"tags\"] = all_manga.apply(concatenate_row, axis=1)"
   ]
  },
  {
   "cell_type": "code",
   "execution_count": 69,
   "metadata": {},
   "outputs": [
    {
     "data": {
      "text/html": [
       "<div>\n",
       "<style scoped>\n",
       "    .dataframe tbody tr th:only-of-type {\n",
       "        vertical-align: middle;\n",
       "    }\n",
       "\n",
       "    .dataframe tbody tr th {\n",
       "        vertical-align: top;\n",
       "    }\n",
       "\n",
       "    .dataframe thead th {\n",
       "        text-align: right;\n",
       "    }\n",
       "</style>\n",
       "<table border=\"1\" class=\"dataframe\">\n",
       "  <thead>\n",
       "    <tr style=\"text-align: right;\">\n",
       "      <th></th>\n",
       "      <th>manga_id</th>\n",
       "      <th>title</th>\n",
       "      <th>title_synonyms</th>\n",
       "      <th>synopsis</th>\n",
       "      <th>demographics</th>\n",
       "      <th>authors</th>\n",
       "      <th>genres</th>\n",
       "      <th>themes</th>\n",
       "      <th>type</th>\n",
       "      <th>tags</th>\n",
       "    </tr>\n",
       "  </thead>\n",
       "  <tbody>\n",
       "    <tr>\n",
       "      <th>0</th>\n",
       "      <td>2</td>\n",
       "      <td>Berserk</td>\n",
       "      <td>[Berserk, The, Prototype]</td>\n",
       "      <td>[Guts, a, former, mercenary, now, known, as, t...</td>\n",
       "      <td>[Seinen]</td>\n",
       "      <td>[MiuraKentarou, StudioGaga]</td>\n",
       "      <td>[Action, Adventure, Award Winning, Drama, Fant...</td>\n",
       "      <td>[Gore, Military, Mythology, Psychological]</td>\n",
       "      <td>[manga]</td>\n",
       "      <td>Berserk The Prototype Guts a former mercenary ...</td>\n",
       "    </tr>\n",
       "    <tr>\n",
       "      <th>1</th>\n",
       "      <td>13</td>\n",
       "      <td>One Piece</td>\n",
       "      <td>[]</td>\n",
       "      <td>[Gol, D, Roger, a, man, referred, to, as, the,...</td>\n",
       "      <td>[Shounen]</td>\n",
       "      <td>[OdaEiichiro]</td>\n",
       "      <td>[Action, Adventure, Fantasy]</td>\n",
       "      <td>[]</td>\n",
       "      <td>[manga]</td>\n",
       "      <td>Gol D Roger a man referred to as the King of t...</td>\n",
       "    </tr>\n",
       "    <tr>\n",
       "      <th>2</th>\n",
       "      <td>1706</td>\n",
       "      <td>JoJo no Kimyou na Bouken Part 7: Steel Ball Run</td>\n",
       "      <td>[JoJos, Bizarre, Adventure, Part, 7, Steel, Ba...</td>\n",
       "      <td>[In, the, American, Old, West, the, worlds, gr...</td>\n",
       "      <td>[Seinen, Shounen]</td>\n",
       "      <td>[ArakiHirohiko]</td>\n",
       "      <td>[Action, Adventure, Mystery, Supernatural]</td>\n",
       "      <td>[Historical]</td>\n",
       "      <td>[manga]</td>\n",
       "      <td>JoJos Bizarre Adventure Part 7 Steel Ball Run ...</td>\n",
       "    </tr>\n",
       "    <tr>\n",
       "      <th>3</th>\n",
       "      <td>4632</td>\n",
       "      <td>Oyasumi Punpun</td>\n",
       "      <td>[]</td>\n",
       "      <td>[Punpun, Onodera, is, a, normal, 11yearold, bo...</td>\n",
       "      <td>[Seinen]</td>\n",
       "      <td>[AsanoInio]</td>\n",
       "      <td>[Drama, Slice of Life]</td>\n",
       "      <td>[Psychological]</td>\n",
       "      <td>[manga]</td>\n",
       "      <td>Punpun Onodera is a normal 11yearold boy livin...</td>\n",
       "    </tr>\n",
       "    <tr>\n",
       "      <th>4</th>\n",
       "      <td>25</td>\n",
       "      <td>Fullmetal Alchemist</td>\n",
       "      <td>[Full, Metal, Alchemist, Hagane, no, Renkinjut...</td>\n",
       "      <td>[Alchemists, are, knowledgeable, and, naturall...</td>\n",
       "      <td>[Shounen]</td>\n",
       "      <td>[ArakawaHiromu]</td>\n",
       "      <td>[Action, Adventure, Award Winning, Drama, Fant...</td>\n",
       "      <td>[Military]</td>\n",
       "      <td>[manga]</td>\n",
       "      <td>Full Metal Alchemist Hagane no Renkinjutsushi ...</td>\n",
       "    </tr>\n",
       "  </tbody>\n",
       "</table>\n",
       "</div>"
      ],
      "text/plain": [
       "   manga_id                                            title  \\\n",
       "0         2                                          Berserk   \n",
       "1        13                                        One Piece   \n",
       "2      1706  JoJo no Kimyou na Bouken Part 7: Steel Ball Run   \n",
       "3      4632                                   Oyasumi Punpun   \n",
       "4        25                              Fullmetal Alchemist   \n",
       "\n",
       "                                      title_synonyms  \\\n",
       "0                          [Berserk, The, Prototype]   \n",
       "1                                                 []   \n",
       "2  [JoJos, Bizarre, Adventure, Part, 7, Steel, Ba...   \n",
       "3                                                 []   \n",
       "4  [Full, Metal, Alchemist, Hagane, no, Renkinjut...   \n",
       "\n",
       "                                            synopsis       demographics  \\\n",
       "0  [Guts, a, former, mercenary, now, known, as, t...           [Seinen]   \n",
       "1  [Gol, D, Roger, a, man, referred, to, as, the,...          [Shounen]   \n",
       "2  [In, the, American, Old, West, the, worlds, gr...  [Seinen, Shounen]   \n",
       "3  [Punpun, Onodera, is, a, normal, 11yearold, bo...           [Seinen]   \n",
       "4  [Alchemists, are, knowledgeable, and, naturall...          [Shounen]   \n",
       "\n",
       "                       authors  \\\n",
       "0  [MiuraKentarou, StudioGaga]   \n",
       "1                [OdaEiichiro]   \n",
       "2              [ArakiHirohiko]   \n",
       "3                  [AsanoInio]   \n",
       "4              [ArakawaHiromu]   \n",
       "\n",
       "                                              genres  \\\n",
       "0  [Action, Adventure, Award Winning, Drama, Fant...   \n",
       "1                       [Action, Adventure, Fantasy]   \n",
       "2         [Action, Adventure, Mystery, Supernatural]   \n",
       "3                             [Drama, Slice of Life]   \n",
       "4  [Action, Adventure, Award Winning, Drama, Fant...   \n",
       "\n",
       "                                       themes     type  \\\n",
       "0  [Gore, Military, Mythology, Psychological]  [manga]   \n",
       "1                                          []  [manga]   \n",
       "2                                [Historical]  [manga]   \n",
       "3                             [Psychological]  [manga]   \n",
       "4                                  [Military]  [manga]   \n",
       "\n",
       "                                                tags  \n",
       "0  Berserk The Prototype Guts a former mercenary ...  \n",
       "1  Gol D Roger a man referred to as the King of t...  \n",
       "2  JoJos Bizarre Adventure Part 7 Steel Ball Run ...  \n",
       "3  Punpun Onodera is a normal 11yearold boy livin...  \n",
       "4  Full Metal Alchemist Hagane no Renkinjutsushi ...  "
      ]
     },
     "execution_count": 69,
     "metadata": {},
     "output_type": "execute_result"
    }
   ],
   "source": [
    "all_manga.head()"
   ]
  },
  {
   "cell_type": "code",
   "execution_count": 70,
   "metadata": {},
   "outputs": [],
   "source": [
    "manga = all_manga[['manga_id','title','tags']]"
   ]
  },
  {
   "cell_type": "code",
   "execution_count": 71,
   "metadata": {},
   "outputs": [
    {
     "data": {
      "text/html": [
       "<div>\n",
       "<style scoped>\n",
       "    .dataframe tbody tr th:only-of-type {\n",
       "        vertical-align: middle;\n",
       "    }\n",
       "\n",
       "    .dataframe tbody tr th {\n",
       "        vertical-align: top;\n",
       "    }\n",
       "\n",
       "    .dataframe thead th {\n",
       "        text-align: right;\n",
       "    }\n",
       "</style>\n",
       "<table border=\"1\" class=\"dataframe\">\n",
       "  <thead>\n",
       "    <tr style=\"text-align: right;\">\n",
       "      <th></th>\n",
       "      <th>manga_id</th>\n",
       "      <th>title</th>\n",
       "      <th>tags</th>\n",
       "    </tr>\n",
       "  </thead>\n",
       "  <tbody>\n",
       "    <tr>\n",
       "      <th>0</th>\n",
       "      <td>2</td>\n",
       "      <td>Berserk</td>\n",
       "      <td>Berserk The Prototype Guts a former mercenary ...</td>\n",
       "    </tr>\n",
       "    <tr>\n",
       "      <th>1</th>\n",
       "      <td>13</td>\n",
       "      <td>One Piece</td>\n",
       "      <td>Gol D Roger a man referred to as the King of t...</td>\n",
       "    </tr>\n",
       "    <tr>\n",
       "      <th>2</th>\n",
       "      <td>1706</td>\n",
       "      <td>JoJo no Kimyou na Bouken Part 7: Steel Ball Run</td>\n",
       "      <td>JoJos Bizarre Adventure Part 7 Steel Ball Run ...</td>\n",
       "    </tr>\n",
       "    <tr>\n",
       "      <th>3</th>\n",
       "      <td>4632</td>\n",
       "      <td>Oyasumi Punpun</td>\n",
       "      <td>Punpun Onodera is a normal 11yearold boy livin...</td>\n",
       "    </tr>\n",
       "    <tr>\n",
       "      <th>4</th>\n",
       "      <td>25</td>\n",
       "      <td>Fullmetal Alchemist</td>\n",
       "      <td>Full Metal Alchemist Hagane no Renkinjutsushi ...</td>\n",
       "    </tr>\n",
       "  </tbody>\n",
       "</table>\n",
       "</div>"
      ],
      "text/plain": [
       "   manga_id                                            title  \\\n",
       "0         2                                          Berserk   \n",
       "1        13                                        One Piece   \n",
       "2      1706  JoJo no Kimyou na Bouken Part 7: Steel Ball Run   \n",
       "3      4632                                   Oyasumi Punpun   \n",
       "4        25                              Fullmetal Alchemist   \n",
       "\n",
       "                                                tags  \n",
       "0  Berserk The Prototype Guts a former mercenary ...  \n",
       "1  Gol D Roger a man referred to as the King of t...  \n",
       "2  JoJos Bizarre Adventure Part 7 Steel Ball Run ...  \n",
       "3  Punpun Onodera is a normal 11yearold boy livin...  \n",
       "4  Full Metal Alchemist Hagane no Renkinjutsushi ...  "
      ]
     },
     "execution_count": 71,
     "metadata": {},
     "output_type": "execute_result"
    }
   ],
   "source": [
    "manga.head()"
   ]
  },
  {
   "cell_type": "code",
   "execution_count": 72,
   "metadata": {},
   "outputs": [],
   "source": [
    "manga.loc[:,'tags']=manga['tags'].apply(lambda x: x.replace(\"—\",\" \"))"
   ]
  },
  {
   "cell_type": "code",
   "execution_count": 73,
   "metadata": {},
   "outputs": [],
   "source": [
    "stop_words = set(stopwords.words(\"english\"))\n",
    "lemmatizer = WordNetLemmatizer()\n",
    "\n",
    "def cleanup(text):\n",
    "    # Convert text to lowercase\n",
    "    text = text.lower()\n",
    "    # Tokenize the text\n",
    "    tokens = word_tokenize(text)\n",
    "    # Remove stop words\n",
    "    tokens = [word for word in tokens if word not in stop_words]\n",
    "    # Lemmatize the tokens\n",
    "    tokens = [lemmatizer.lemmatize(word) for word in tokens]\n",
    "    # Join tokens back to string\n",
    "    cleaned_text = \" \".join(tokens)\n",
    "    return cleaned_text\n"
   ]
  },
  {
   "cell_type": "code",
   "execution_count": 74,
   "metadata": {},
   "outputs": [],
   "source": [
    "manga.loc[:,'tags']=manga['tags'].apply(cleanup)"
   ]
  },
  {
   "cell_type": "code",
   "execution_count": 75,
   "metadata": {},
   "outputs": [],
   "source": [
    "# Function to get memory usage\n",
    "def get_memory_usage():\n",
    "    process = psutil.Process(os.getpid())\n",
    "    mem_info = process.memory_info()\n",
    "    return mem_info.rss / (1024**2)  # Convert bytes to MB"
   ]
  },
  {
   "cell_type": "code",
   "execution_count": 76,
   "metadata": {},
   "outputs": [
    {
     "name": "stderr",
     "output_type": "stream",
     "text": [
      "Processing Batches:   3%|▎         | 1/30 [00:47<23:08, 47.88s/it]"
     ]
    },
    {
     "name": "stdout",
     "output_type": "stream",
     "text": [
      "before GC: 464.34 MB -- after GC: 742.27 MB\n"
     ]
    },
    {
     "name": "stderr",
     "output_type": "stream",
     "text": [
      "Processing Batches:   7%|▋         | 2/30 [01:40<23:34, 50.53s/it]"
     ]
    },
    {
     "name": "stdout",
     "output_type": "stream",
     "text": [
      "before GC: 463.85 MB -- after GC: 742.10 MB\n"
     ]
    },
    {
     "name": "stderr",
     "output_type": "stream",
     "text": [
      "Processing Batches:  10%|█         | 3/30 [02:38<24:24, 54.22s/it]"
     ]
    },
    {
     "name": "stdout",
     "output_type": "stream",
     "text": [
      "before GC: 462.88 MB -- after GC: 741.62 MB\n"
     ]
    },
    {
     "name": "stderr",
     "output_type": "stream",
     "text": [
      "Processing Batches:  13%|█▎        | 4/30 [03:35<23:50, 55.01s/it]"
     ]
    },
    {
     "name": "stdout",
     "output_type": "stream",
     "text": [
      "before GC: 463.89 MB -- after GC: 742.10 MB\n"
     ]
    },
    {
     "name": "stderr",
     "output_type": "stream",
     "text": [
      "Processing Batches:  17%|█▋        | 5/30 [04:31<23:05, 55.43s/it]"
     ]
    },
    {
     "name": "stdout",
     "output_type": "stream",
     "text": [
      "before GC: 463.87 MB -- after GC: 742.14 MB\n"
     ]
    },
    {
     "name": "stderr",
     "output_type": "stream",
     "text": [
      "Processing Batches:  20%|██        | 6/30 [05:18<21:00, 52.53s/it]"
     ]
    },
    {
     "name": "stdout",
     "output_type": "stream",
     "text": [
      "before GC: 464.21 MB -- after GC: 742.21 MB\n"
     ]
    },
    {
     "name": "stderr",
     "output_type": "stream",
     "text": [
      "Processing Batches:  23%|██▎       | 7/30 [06:05<19:29, 50.85s/it]"
     ]
    },
    {
     "name": "stdout",
     "output_type": "stream",
     "text": [
      "before GC: 463.89 MB -- after GC: 742.15 MB\n"
     ]
    },
    {
     "name": "stderr",
     "output_type": "stream",
     "text": [
      "Processing Batches:  27%|██▋       | 8/30 [07:01<19:14, 52.47s/it]"
     ]
    },
    {
     "name": "stdout",
     "output_type": "stream",
     "text": [
      "before GC: 464.22 MB -- after GC: 742.21 MB\n"
     ]
    },
    {
     "name": "stderr",
     "output_type": "stream",
     "text": [
      "Processing Batches:  30%|███       | 9/30 [07:52<18:13, 52.07s/it]"
     ]
    },
    {
     "name": "stdout",
     "output_type": "stream",
     "text": [
      "before GC: 464.20 MB -- after GC: 742.20 MB\n"
     ]
    },
    {
     "name": "stderr",
     "output_type": "stream",
     "text": [
      "Processing Batches:  33%|███▎      | 10/30 [08:48<17:43, 53.17s/it]"
     ]
    },
    {
     "name": "stdout",
     "output_type": "stream",
     "text": [
      "before GC: 463.82 MB -- after GC: 742.09 MB\n"
     ]
    },
    {
     "name": "stderr",
     "output_type": "stream",
     "text": [
      "Processing Batches:  37%|███▋      | 11/30 [09:38<16:30, 52.14s/it]"
     ]
    },
    {
     "name": "stdout",
     "output_type": "stream",
     "text": [
      "before GC: 464.20 MB -- after GC: 742.24 MB\n"
     ]
    },
    {
     "name": "stderr",
     "output_type": "stream",
     "text": [
      "Processing Batches:  40%|████      | 12/30 [10:35<16:05, 53.67s/it]"
     ]
    },
    {
     "name": "stdout",
     "output_type": "stream",
     "text": [
      "before GC: 463.83 MB -- after GC: 742.09 MB\n"
     ]
    },
    {
     "name": "stderr",
     "output_type": "stream",
     "text": [
      "Processing Batches:  43%|████▎     | 13/30 [11:32<15:31, 54.82s/it]"
     ]
    },
    {
     "name": "stdout",
     "output_type": "stream",
     "text": [
      "before GC: 463.82 MB -- after GC: 742.11 MB\n"
     ]
    },
    {
     "name": "stderr",
     "output_type": "stream",
     "text": [
      "Processing Batches:  47%|████▋     | 14/30 [12:36<15:17, 57.37s/it]"
     ]
    },
    {
     "name": "stdout",
     "output_type": "stream",
     "text": [
      "before GC: 462.81 MB -- after GC: 741.59 MB\n"
     ]
    },
    {
     "name": "stderr",
     "output_type": "stream",
     "text": [
      "Processing Batches:  50%|█████     | 15/30 [13:42<15:01, 60.08s/it]"
     ]
    },
    {
     "name": "stdout",
     "output_type": "stream",
     "text": [
      "before GC: 464.15 MB -- after GC: 742.23 MB\n"
     ]
    },
    {
     "name": "stderr",
     "output_type": "stream",
     "text": [
      "Processing Batches:  53%|█████▎    | 16/30 [15:02<15:24, 66.00s/it]"
     ]
    },
    {
     "name": "stdout",
     "output_type": "stream",
     "text": [
      "before GC: 464.10 MB -- after GC: 742.20 MB\n"
     ]
    },
    {
     "name": "stderr",
     "output_type": "stream",
     "text": [
      "Processing Batches:  57%|█████▋    | 17/30 [16:17<14:56, 68.95s/it]"
     ]
    },
    {
     "name": "stdout",
     "output_type": "stream",
     "text": [
      "before GC: 464.12 MB -- after GC: 742.23 MB\n"
     ]
    },
    {
     "name": "stderr",
     "output_type": "stream",
     "text": [
      "Processing Batches:  60%|██████    | 18/30 [17:28<13:54, 69.57s/it]"
     ]
    },
    {
     "name": "stdout",
     "output_type": "stream",
     "text": [
      "before GC: 464.10 MB -- after GC: 742.19 MB\n"
     ]
    },
    {
     "name": "stderr",
     "output_type": "stream",
     "text": [
      "Processing Batches:  63%|██████▎   | 19/30 [18:41<12:54, 70.38s/it]"
     ]
    },
    {
     "name": "stdout",
     "output_type": "stream",
     "text": [
      "before GC: 463.79 MB -- after GC: 742.11 MB\n"
     ]
    },
    {
     "name": "stderr",
     "output_type": "stream",
     "text": [
      "Processing Batches:  67%|██████▋   | 20/30 [20:01<12:13, 73.35s/it]"
     ]
    },
    {
     "name": "stdout",
     "output_type": "stream",
     "text": [
      "before GC: 464.12 MB -- after GC: 742.21 MB\n"
     ]
    },
    {
     "name": "stderr",
     "output_type": "stream",
     "text": [
      "Processing Batches:  70%|███████   | 21/30 [21:14<10:58, 73.14s/it]"
     ]
    },
    {
     "name": "stdout",
     "output_type": "stream",
     "text": [
      "before GC: 464.15 MB -- after GC: 742.23 MB\n"
     ]
    },
    {
     "name": "stderr",
     "output_type": "stream",
     "text": [
      "Processing Batches:  73%|███████▎  | 22/30 [22:33<09:59, 74.89s/it]"
     ]
    },
    {
     "name": "stdout",
     "output_type": "stream",
     "text": [
      "before GC: 464.14 MB -- after GC: 737.29 MB\n"
     ]
    },
    {
     "name": "stderr",
     "output_type": "stream",
     "text": [
      "Processing Batches:  77%|███████▋  | 23/30 [23:52<08:52, 76.12s/it]"
     ]
    },
    {
     "name": "stdout",
     "output_type": "stream",
     "text": [
      "before GC: 464.14 MB -- after GC: 742.23 MB\n"
     ]
    },
    {
     "name": "stderr",
     "output_type": "stream",
     "text": [
      "Processing Batches:  80%|████████  | 24/30 [25:19<07:56, 79.42s/it]"
     ]
    },
    {
     "name": "stdout",
     "output_type": "stream",
     "text": [
      "before GC: 464.09 MB -- after GC: 742.19 MB\n"
     ]
    },
    {
     "name": "stderr",
     "output_type": "stream",
     "text": [
      "Processing Batches:  83%|████████▎ | 25/30 [26:53<06:59, 83.88s/it]"
     ]
    },
    {
     "name": "stdout",
     "output_type": "stream",
     "text": [
      "before GC: 464.13 MB -- after GC: 742.22 MB\n"
     ]
    },
    {
     "name": "stderr",
     "output_type": "stream",
     "text": [
      "Processing Batches:  87%|████████▋ | 26/30 [28:09<05:26, 81.52s/it]"
     ]
    },
    {
     "name": "stdout",
     "output_type": "stream",
     "text": [
      "before GC: 464.10 MB -- after GC: 742.19 MB\n"
     ]
    },
    {
     "name": "stderr",
     "output_type": "stream",
     "text": [
      "Processing Batches:  90%|█████████ | 27/30 [29:31<04:04, 81.58s/it]"
     ]
    },
    {
     "name": "stdout",
     "output_type": "stream",
     "text": [
      "before GC: 464.12 MB -- after GC: 742.23 MB\n"
     ]
    },
    {
     "name": "stderr",
     "output_type": "stream",
     "text": [
      "Processing Batches:  93%|█████████▎| 28/30 [30:52<02:42, 81.42s/it]"
     ]
    },
    {
     "name": "stdout",
     "output_type": "stream",
     "text": [
      "before GC: 464.21 MB -- after GC: 742.27 MB\n"
     ]
    },
    {
     "name": "stderr",
     "output_type": "stream",
     "text": [
      "Processing Batches:  97%|█████████▋| 29/30 [32:23<01:24, 84.36s/it]"
     ]
    },
    {
     "name": "stdout",
     "output_type": "stream",
     "text": [
      "before GC: 464.13 MB -- after GC: 742.22 MB\n"
     ]
    },
    {
     "name": "stderr",
     "output_type": "stream",
     "text": [
      "Processing Batches: 100%|██████████| 30/30 [33:49<00:00, 67.66s/it]"
     ]
    },
    {
     "name": "stdout",
     "output_type": "stream",
     "text": [
      "before GC: 247.41 MB -- after GC: 633.61 MB\n"
     ]
    },
    {
     "name": "stderr",
     "output_type": "stream",
     "text": [
      "\n"
     ]
    }
   ],
   "source": [
    "# compute similarity matrix in smaller batches due to memory limitations\n",
    "cv = CountVectorizer(max_features=20000)\n",
    "vectors = cv.fit_transform(manga[\"tags\"]).toarray()\n",
    "\n",
    "gc.collect()\n",
    "\n",
    "batch_size = 1000  # Adjust this value based on your available memory\n",
    "\n",
    "# Assuming 'vectors' is your count vectorized data\n",
    "n_samples = vectors.shape[0]\n",
    "similarity_matrix = np.zeros((n_samples, n_samples))\n",
    "\n",
    "# tqdm = tqdm(range(0, n_samples,batch_size), desc=\"Processing Batches\")\n",
    "\n",
    "for start in tqdm(range(0, n_samples, batch_size), desc=\"Processing Batches\"):\n",
    "    end = min(start + batch_size, n_samples)\n",
    "    batch_vectors = vectors[start:end]\n",
    "\n",
    "    # Compute similarity for the current\n",
    "    batch_similarity = cosine_similarity(batch_vectors, vectors)\n",
    "\n",
    "    # Update the similarity matrix\n",
    "    similarity_matrix[start:end, :] = batch_similarity\n",
    "\n",
    "    # Memory usage before garbage collection\n",
    "    mem_before_gc = get_memory_usage()\n",
    "\n",
    "    # Clean up memory after processing the batch\n",
    "    del batch_vectors, batch_similarity\n",
    "    gc.collect()\n",
    "\n",
    "    # Memory usage after garbage collection\n",
    "    mem_after_gc = get_memory_usage()\n",
    "\n",
    "    # Print memory usage information\n",
    "    print(f\"before GC: {mem_before_gc:.2f} MB -- after GC: {mem_after_gc:.2f} MB\")\n",
    "    \n",
    "# save similarity matrix as a pickle file\n",
    "pickle.dump(similarity_matrix, open(\"artifacts/mat-20000.pkl\", \"wb\"))"
   ]
  },
  {
   "cell_type": "markdown",
   "metadata": {},
   "source": [
    "# load similarity matrix from a pickle file\n",
    "similarity_matrix = pd.read_pickle('artifacts/mat-10000.pkl')"
   ]
  },
  {
   "cell_type": "code",
   "execution_count": 77,
   "metadata": {},
   "outputs": [
    {
     "data": {
      "text/plain": [
       "0"
      ]
     },
     "execution_count": 77,
     "metadata": {},
     "output_type": "execute_result"
    }
   ],
   "source": [
    "gc.collect()"
   ]
  },
  {
   "cell_type": "code",
   "execution_count": 91,
   "metadata": {},
   "outputs": [],
   "source": [
    "def recommend(title):\n",
    "    title = title.lower()\n",
    "    filtered_manga = manga[manga[\"title\"].str.lower() == title]\n",
    "    if filtered_manga.empty:\n",
    "        print(f\"{title.title()} not found in the database.\")\n",
    "        return\n",
    "\n",
    "    index = filtered_manga.index[0]\n",
    "\n",
    "    sorted_manga_by_similarity = sorted(\n",
    "        list(enumerate(similarity_matrix[index])), reverse=True, key=lambda x: x[1]\n",
    "    )\n",
    "\n",
    "    recommended_titles = []\n",
    "    recommended_urls = []\n",
    "    similarities = []\n",
    "    for i in sorted_manga_by_similarity[:100]:\n",
    "        recommended_titles.append(manga.iloc[i[0]]['title'])\n",
    "        recommended_urls.append(f\"https://myanimelist.net/manga/{manga.iloc[i[0]]['manga_id']}\")\n",
    "        similarities.append(f\"{round(i[1] * 100,1)}%\")\n",
    "\n",
    "    recommendations_df = pd.DataFrame({\n",
    "        'Title': recommended_titles,\n",
    "        'URL': recommended_urls,\n",
    "        'Similarity': similarities\n",
    "    })\n",
    "    # return recommendations_df\n",
    "\n",
    "    filtered_df = recommendations_df[~recommendations_df['Title'].str.lower().str.contains(title)][:5]\n",
    "    return filtered_df\n"
   ]
  },
  {
   "cell_type": "code",
   "execution_count": 92,
   "metadata": {},
   "outputs": [
    {
     "data": {
      "text/html": [
       "<div>\n",
       "<style scoped>\n",
       "    .dataframe tbody tr th:only-of-type {\n",
       "        vertical-align: middle;\n",
       "    }\n",
       "\n",
       "    .dataframe tbody tr th {\n",
       "        vertical-align: top;\n",
       "    }\n",
       "\n",
       "    .dataframe thead th {\n",
       "        text-align: right;\n",
       "    }\n",
       "</style>\n",
       "<table border=\"1\" class=\"dataframe\">\n",
       "  <thead>\n",
       "    <tr style=\"text-align: right;\">\n",
       "      <th></th>\n",
       "      <th>Title</th>\n",
       "      <th>URL</th>\n",
       "      <th>Similarity</th>\n",
       "    </tr>\n",
       "  </thead>\n",
       "  <tbody>\n",
       "    <tr>\n",
       "      <th>0</th>\n",
       "      <td>One Piece</td>\n",
       "      <td>https://myanimelist.net/manga/13</td>\n",
       "      <td>100.0%</td>\n",
       "    </tr>\n",
       "    <tr>\n",
       "      <th>1</th>\n",
       "      <td>One Piece: Strong World</td>\n",
       "      <td>https://myanimelist.net/manga/17152</td>\n",
       "      <td>41.1%</td>\n",
       "    </tr>\n",
       "    <tr>\n",
       "      <th>2</th>\n",
       "      <td>Koisuru One Piece</td>\n",
       "      <td>https://myanimelist.net/manga/120401</td>\n",
       "      <td>37.9%</td>\n",
       "    </tr>\n",
       "    <tr>\n",
       "      <th>3</th>\n",
       "      <td>King of Viking</td>\n",
       "      <td>https://myanimelist.net/manga/25681</td>\n",
       "      <td>31.6%</td>\n",
       "    </tr>\n",
       "    <tr>\n",
       "      <th>4</th>\n",
       "      <td>Romance Dawn</td>\n",
       "      <td>https://myanimelist.net/manga/5114</td>\n",
       "      <td>31.1%</td>\n",
       "    </tr>\n",
       "    <tr>\n",
       "      <th>5</th>\n",
       "      <td>Sunset Rose</td>\n",
       "      <td>https://myanimelist.net/manga/79237</td>\n",
       "      <td>30.8%</td>\n",
       "    </tr>\n",
       "    <tr>\n",
       "      <th>6</th>\n",
       "      <td>Jisshoku! Akuma no Mi!!</td>\n",
       "      <td>https://myanimelist.net/manga/25146</td>\n",
       "      <td>29.2%</td>\n",
       "    </tr>\n",
       "    <tr>\n",
       "      <th>7</th>\n",
       "      <td>Tramp.</td>\n",
       "      <td>https://myanimelist.net/manga/24123</td>\n",
       "      <td>28.8%</td>\n",
       "    </tr>\n",
       "    <tr>\n",
       "      <th>8</th>\n",
       "      <td>Kaizoku Hime: Captain Rose no Bouken</td>\n",
       "      <td>https://myanimelist.net/manga/34267</td>\n",
       "      <td>28.5%</td>\n",
       "    </tr>\n",
       "    <tr>\n",
       "      <th>9</th>\n",
       "      <td>Maou Taiji, Shitenai Hou.</td>\n",
       "      <td>https://myanimelist.net/manga/152181</td>\n",
       "      <td>28.2%</td>\n",
       "    </tr>\n",
       "    <tr>\n",
       "      <th>10</th>\n",
       "      <td>Fischer's x One Piece: Nanatsunagi no Daihihou</td>\n",
       "      <td>https://myanimelist.net/manga/142772</td>\n",
       "      <td>28.0%</td>\n",
       "    </tr>\n",
       "    <tr>\n",
       "      <th>11</th>\n",
       "      <td>One Piece: Mugiwara Daigekijou</td>\n",
       "      <td>https://myanimelist.net/manga/14414</td>\n",
       "      <td>28.0%</td>\n",
       "    </tr>\n",
       "    <tr>\n",
       "      <th>12</th>\n",
       "      <td>Salaryman ga Isekai ni Ittara Shitennou ni Nat...</td>\n",
       "      <td>https://myanimelist.net/manga/124995</td>\n",
       "      <td>27.9%</td>\n",
       "    </tr>\n",
       "    <tr>\n",
       "      <th>13</th>\n",
       "      <td>Mouretsu Pirates: Abyss of Hyperspace</td>\n",
       "      <td>https://myanimelist.net/manga/68781</td>\n",
       "      <td>27.8%</td>\n",
       "    </tr>\n",
       "    <tr>\n",
       "      <th>14</th>\n",
       "      <td>One Piece: Vivi no Bouken</td>\n",
       "      <td>https://myanimelist.net/manga/139972</td>\n",
       "      <td>27.3%</td>\n",
       "    </tr>\n",
       "    <tr>\n",
       "      <th>15</th>\n",
       "      <td>Kouchuu Ouja Mushiking: Zach no Bouken-hen</td>\n",
       "      <td>https://myanimelist.net/manga/119507</td>\n",
       "      <td>26.9%</td>\n",
       "    </tr>\n",
       "    <tr>\n",
       "      <th>16</th>\n",
       "      <td>One Piece: Roronoa Zoro, Umi ni Chiru</td>\n",
       "      <td>https://myanimelist.net/manga/120865</td>\n",
       "      <td>26.8%</td>\n",
       "    </tr>\n",
       "    <tr>\n",
       "      <th>17</th>\n",
       "      <td>One Piece: Episode A</td>\n",
       "      <td>https://myanimelist.net/manga/128594</td>\n",
       "      <td>26.5%</td>\n",
       "    </tr>\n",
       "    <tr>\n",
       "      <th>18</th>\n",
       "      <td>D-kyuu Boukensha no Ore, Nazeka Yuusha Party n...</td>\n",
       "      <td>https://myanimelist.net/manga/146897</td>\n",
       "      <td>26.1%</td>\n",
       "    </tr>\n",
       "    <tr>\n",
       "      <th>19</th>\n",
       "      <td>One Piece: Nami vs. Kalifa</td>\n",
       "      <td>https://myanimelist.net/manga/145980</td>\n",
       "      <td>25.9%</td>\n",
       "    </tr>\n",
       "    <tr>\n",
       "      <th>20</th>\n",
       "      <td>One Piece Party</td>\n",
       "      <td>https://myanimelist.net/manga/86972</td>\n",
       "      <td>25.7%</td>\n",
       "    </tr>\n",
       "    <tr>\n",
       "      <th>21</th>\n",
       "      <td>Full Ahead! Coco</td>\n",
       "      <td>https://myanimelist.net/manga/9044</td>\n",
       "      <td>25.3%</td>\n",
       "    </tr>\n",
       "    <tr>\n",
       "      <th>22</th>\n",
       "      <td>Historie</td>\n",
       "      <td>https://myanimelist.net/manga/2924</td>\n",
       "      <td>25.2%</td>\n",
       "    </tr>\n",
       "    <tr>\n",
       "      <th>23</th>\n",
       "      <td>Chopperman: Yuke Yuke! Minna no Chopper-sensei</td>\n",
       "      <td>https://myanimelist.net/manga/23251</td>\n",
       "      <td>25.1%</td>\n",
       "    </tr>\n",
       "    <tr>\n",
       "      <th>24</th>\n",
       "      <td>Kenja no Nagaki Fuzai</td>\n",
       "      <td>https://myanimelist.net/manga/3271</td>\n",
       "      <td>24.8%</td>\n",
       "    </tr>\n",
       "    <tr>\n",
       "      <th>25</th>\n",
       "      <td>Garudia</td>\n",
       "      <td>https://myanimelist.net/manga/30897</td>\n",
       "      <td>24.4%</td>\n",
       "    </tr>\n",
       "    <tr>\n",
       "      <th>26</th>\n",
       "      <td>Chopperman</td>\n",
       "      <td>https://myanimelist.net/manga/52353</td>\n",
       "      <td>23.9%</td>\n",
       "    </tr>\n",
       "    <tr>\n",
       "      <th>27</th>\n",
       "      <td>Naraku no Adu</td>\n",
       "      <td>https://myanimelist.net/manga/94701</td>\n",
       "      <td>23.7%</td>\n",
       "    </tr>\n",
       "    <tr>\n",
       "      <th>28</th>\n",
       "      <td>Jolly Roger☆Fantasy</td>\n",
       "      <td>https://myanimelist.net/manga/11237</td>\n",
       "      <td>23.7%</td>\n",
       "    </tr>\n",
       "    <tr>\n",
       "      <th>29</th>\n",
       "      <td>Coyote Ragtime Show</td>\n",
       "      <td>https://myanimelist.net/manga/4420</td>\n",
       "      <td>23.6%</td>\n",
       "    </tr>\n",
       "    <tr>\n",
       "      <th>30</th>\n",
       "      <td>Aire</td>\n",
       "      <td>https://myanimelist.net/manga/151006</td>\n",
       "      <td>23.5%</td>\n",
       "    </tr>\n",
       "    <tr>\n",
       "      <th>31</th>\n",
       "      <td>Xi You Ji</td>\n",
       "      <td>https://myanimelist.net/manga/50219</td>\n",
       "      <td>23.3%</td>\n",
       "    </tr>\n",
       "    <tr>\n",
       "      <th>32</th>\n",
       "      <td>Spray King</td>\n",
       "      <td>https://myanimelist.net/manga/12112</td>\n",
       "      <td>23.3%</td>\n",
       "    </tr>\n",
       "    <tr>\n",
       "      <th>33</th>\n",
       "      <td>Miraijin Chaos</td>\n",
       "      <td>https://myanimelist.net/manga/22259</td>\n",
       "      <td>23.3%</td>\n",
       "    </tr>\n",
       "    <tr>\n",
       "      <th>34</th>\n",
       "      <td>Yi Nian Yong Heng</td>\n",
       "      <td>https://myanimelist.net/manga/142102</td>\n",
       "      <td>23.1%</td>\n",
       "    </tr>\n",
       "    <tr>\n",
       "      <th>35</th>\n",
       "      <td>Sky Blade</td>\n",
       "      <td>https://myanimelist.net/manga/23546</td>\n",
       "      <td>23.1%</td>\n",
       "    </tr>\n",
       "    <tr>\n",
       "      <th>36</th>\n",
       "      <td>Monster x Monster</td>\n",
       "      <td>https://myanimelist.net/manga/71709</td>\n",
       "      <td>23.1%</td>\n",
       "    </tr>\n",
       "    <tr>\n",
       "      <th>37</th>\n",
       "      <td>Souryuuden</td>\n",
       "      <td>https://myanimelist.net/manga/11792</td>\n",
       "      <td>23.0%</td>\n",
       "    </tr>\n",
       "    <tr>\n",
       "      <th>38</th>\n",
       "      <td>Assassin's Creed: Forgotten Temple</td>\n",
       "      <td>https://myanimelist.net/manga/158583</td>\n",
       "      <td>22.9%</td>\n",
       "    </tr>\n",
       "    <tr>\n",
       "      <th>39</th>\n",
       "      <td>Princess Ledalia: Bara no Kaizoku</td>\n",
       "      <td>https://myanimelist.net/manga/115179</td>\n",
       "      <td>22.8%</td>\n",
       "    </tr>\n",
       "    <tr>\n",
       "      <th>40</th>\n",
       "      <td>Shirogane no Ou: Fenrir Craft</td>\n",
       "      <td>https://myanimelist.net/manga/23903</td>\n",
       "      <td>22.8%</td>\n",
       "    </tr>\n",
       "    <tr>\n",
       "      <th>41</th>\n",
       "      <td>Kuroki Hane Mau Sakyuu de</td>\n",
       "      <td>https://myanimelist.net/manga/41447</td>\n",
       "      <td>22.6%</td>\n",
       "    </tr>\n",
       "    <tr>\n",
       "      <th>42</th>\n",
       "      <td>Oikaze no Jin</td>\n",
       "      <td>https://myanimelist.net/manga/139156</td>\n",
       "      <td>22.4%</td>\n",
       "    </tr>\n",
       "    <tr>\n",
       "      <th>43</th>\n",
       "      <td>Fukafuka Dungeon Kouryakuki: Ore no Isekai Ten...</td>\n",
       "      <td>https://myanimelist.net/manga/137039</td>\n",
       "      <td>22.4%</td>\n",
       "    </tr>\n",
       "    <tr>\n",
       "      <th>44</th>\n",
       "      <td>Shirogane no Ou</td>\n",
       "      <td>https://myanimelist.net/manga/14858</td>\n",
       "      <td>22.2%</td>\n",
       "    </tr>\n",
       "    <tr>\n",
       "      <th>45</th>\n",
       "      <td>Yuusha no Mago to Maou no Musume</td>\n",
       "      <td>https://myanimelist.net/manga/106956</td>\n",
       "      <td>22.1%</td>\n",
       "    </tr>\n",
       "    <tr>\n",
       "      <th>46</th>\n",
       "      <td>Chin Piece</td>\n",
       "      <td>https://myanimelist.net/manga/142771</td>\n",
       "      <td>22.0%</td>\n",
       "    </tr>\n",
       "    <tr>\n",
       "      <th>47</th>\n",
       "      <td>Acaria</td>\n",
       "      <td>https://myanimelist.net/manga/119895</td>\n",
       "      <td>22.0%</td>\n",
       "    </tr>\n",
       "    <tr>\n",
       "      <th>48</th>\n",
       "      <td>Saiyuukiden Daienou</td>\n",
       "      <td>https://myanimelist.net/manga/5012</td>\n",
       "      <td>21.8%</td>\n",
       "    </tr>\n",
       "    <tr>\n",
       "      <th>49</th>\n",
       "      <td>MAPS</td>\n",
       "      <td>https://myanimelist.net/manga/3818</td>\n",
       "      <td>21.6%</td>\n",
       "    </tr>\n",
       "    <tr>\n",
       "      <th>50</th>\n",
       "      <td>Doumo, Yuusha no Chichi desu.: Kono Tabi wa Gu...</td>\n",
       "      <td>https://myanimelist.net/manga/156024</td>\n",
       "      <td>21.6%</td>\n",
       "    </tr>\n",
       "    <tr>\n",
       "      <th>51</th>\n",
       "      <td>Magi: Sinbad no Bouken</td>\n",
       "      <td>https://myanimelist.net/manga/48025</td>\n",
       "      <td>21.5%</td>\n",
       "    </tr>\n",
       "    <tr>\n",
       "      <th>52</th>\n",
       "      <td>Kaiou Dante</td>\n",
       "      <td>https://myanimelist.net/manga/94347</td>\n",
       "      <td>21.4%</td>\n",
       "    </tr>\n",
       "    <tr>\n",
       "      <th>53</th>\n",
       "      <td>Aron's Absurd Armada</td>\n",
       "      <td>https://myanimelist.net/manga/21060</td>\n",
       "      <td>21.4%</td>\n",
       "    </tr>\n",
       "    <tr>\n",
       "      <th>54</th>\n",
       "      <td>Tsuki no Hebi: Suikoden Ibun</td>\n",
       "      <td>https://myanimelist.net/manga/71337</td>\n",
       "      <td>21.4%</td>\n",
       "    </tr>\n",
       "    <tr>\n",
       "      <th>55</th>\n",
       "      <td>Aoki Umi no Toraware Hime</td>\n",
       "      <td>https://myanimelist.net/manga/39163</td>\n",
       "      <td>21.3%</td>\n",
       "    </tr>\n",
       "    <tr>\n",
       "      <th>56</th>\n",
       "      <td>Yakimon Royal</td>\n",
       "      <td>https://myanimelist.net/manga/138011</td>\n",
       "      <td>21.3%</td>\n",
       "    </tr>\n",
       "    <tr>\n",
       "      <th>57</th>\n",
       "      <td>Dampier no Oishii Bouken</td>\n",
       "      <td>https://myanimelist.net/manga/142589</td>\n",
       "      <td>21.3%</td>\n",
       "    </tr>\n",
       "    <tr>\n",
       "      <th>58</th>\n",
       "      <td>Good Luck, Demon King!</td>\n",
       "      <td>https://myanimelist.net/manga/26955</td>\n",
       "      <td>21.2%</td>\n",
       "    </tr>\n",
       "    <tr>\n",
       "      <th>59</th>\n",
       "      <td>Soubiwaku Zero no Saikyou Kenshi: demo, Noroi ...</td>\n",
       "      <td>https://myanimelist.net/manga/136757</td>\n",
       "      <td>21.2%</td>\n",
       "    </tr>\n",
       "    <tr>\n",
       "      <th>60</th>\n",
       "      <td>Sakugan</td>\n",
       "      <td>https://myanimelist.net/manga/152284</td>\n",
       "      <td>21.2%</td>\n",
       "    </tr>\n",
       "    <tr>\n",
       "      <th>61</th>\n",
       "      <td>Senyuu.</td>\n",
       "      <td>https://myanimelist.net/manga/42531</td>\n",
       "      <td>21.2%</td>\n",
       "    </tr>\n",
       "    <tr>\n",
       "      <th>62</th>\n",
       "      <td>Bakuen</td>\n",
       "      <td>https://myanimelist.net/manga/140715</td>\n",
       "      <td>21.1%</td>\n",
       "    </tr>\n",
       "    <tr>\n",
       "      <th>63</th>\n",
       "      <td>Zelda no Densetsu</td>\n",
       "      <td>https://myanimelist.net/manga/20865</td>\n",
       "      <td>21.1%</td>\n",
       "    </tr>\n",
       "    <tr>\n",
       "      <th>64</th>\n",
       "      <td>Densetsu no Yuusha no Konkatsu</td>\n",
       "      <td>https://myanimelist.net/manga/98577</td>\n",
       "      <td>20.9%</td>\n",
       "    </tr>\n",
       "    <tr>\n",
       "      <th>65</th>\n",
       "      <td>Zelda no Densetsu</td>\n",
       "      <td>https://myanimelist.net/manga/101360</td>\n",
       "      <td>20.8%</td>\n",
       "    </tr>\n",
       "    <tr>\n",
       "      <th>66</th>\n",
       "      <td>Ribbon no Kishi</td>\n",
       "      <td>https://myanimelist.net/manga/1676</td>\n",
       "      <td>20.7%</td>\n",
       "    </tr>\n",
       "    <tr>\n",
       "      <th>67</th>\n",
       "      <td>Vinland Saga</td>\n",
       "      <td>https://myanimelist.net/manga/642</td>\n",
       "      <td>20.7%</td>\n",
       "    </tr>\n",
       "    <tr>\n",
       "      <th>68</th>\n",
       "      <td>Cross Epoch</td>\n",
       "      <td>https://myanimelist.net/manga/881</td>\n",
       "      <td>20.7%</td>\n",
       "    </tr>\n",
       "    <tr>\n",
       "      <th>69</th>\n",
       "      <td>Angel Arm</td>\n",
       "      <td>https://myanimelist.net/manga/26344</td>\n",
       "      <td>20.6%</td>\n",
       "    </tr>\n",
       "    <tr>\n",
       "      <th>70</th>\n",
       "      <td>Wizards Nation</td>\n",
       "      <td>https://myanimelist.net/manga/18384</td>\n",
       "      <td>20.6%</td>\n",
       "    </tr>\n",
       "    <tr>\n",
       "      <th>71</th>\n",
       "      <td>Yo no Na wa Zushio</td>\n",
       "      <td>https://myanimelist.net/manga/758</td>\n",
       "      <td>20.6%</td>\n",
       "    </tr>\n",
       "    <tr>\n",
       "      <th>72</th>\n",
       "      <td>Captain Kid</td>\n",
       "      <td>https://myanimelist.net/manga/19453</td>\n",
       "      <td>20.5%</td>\n",
       "    </tr>\n",
       "    <tr>\n",
       "      <th>73</th>\n",
       "      <td>Kenja no Deshi wo Nanoru Kenja the Comic</td>\n",
       "      <td>https://myanimelist.net/manga/100377</td>\n",
       "      <td>20.5%</td>\n",
       "    </tr>\n",
       "    <tr>\n",
       "      <th>74</th>\n",
       "      <td>Doctor's Rebirth</td>\n",
       "      <td>https://myanimelist.net/manga/151060</td>\n",
       "      <td>20.5%</td>\n",
       "    </tr>\n",
       "    <tr>\n",
       "      <th>75</th>\n",
       "      <td>Scrapped Princess</td>\n",
       "      <td>https://myanimelist.net/manga/516</td>\n",
       "      <td>20.4%</td>\n",
       "    </tr>\n",
       "    <tr>\n",
       "      <th>76</th>\n",
       "      <td>Ou to Neko no Hihou</td>\n",
       "      <td>https://myanimelist.net/manga/136677</td>\n",
       "      <td>20.4%</td>\n",
       "    </tr>\n",
       "    <tr>\n",
       "      <th>77</th>\n",
       "      <td>Liling-Po</td>\n",
       "      <td>https://myanimelist.net/manga/434</td>\n",
       "      <td>20.4%</td>\n",
       "    </tr>\n",
       "    <tr>\n",
       "      <th>78</th>\n",
       "      <td>The King of Fighters: Kyo</td>\n",
       "      <td>https://myanimelist.net/manga/3001</td>\n",
       "      <td>20.4%</td>\n",
       "    </tr>\n",
       "    <tr>\n",
       "      <th>79</th>\n",
       "      <td>Ginga Tetsudou 999 (1996)</td>\n",
       "      <td>https://myanimelist.net/manga/9705</td>\n",
       "      <td>20.3%</td>\n",
       "    </tr>\n",
       "    <tr>\n",
       "      <th>80</th>\n",
       "      <td>Hunter x Hunter</td>\n",
       "      <td>https://myanimelist.net/manga/26</td>\n",
       "      <td>20.3%</td>\n",
       "    </tr>\n",
       "    <tr>\n",
       "      <th>81</th>\n",
       "      <td>Maiwai</td>\n",
       "      <td>https://myanimelist.net/manga/8401</td>\n",
       "      <td>20.2%</td>\n",
       "    </tr>\n",
       "    <tr>\n",
       "      <th>82</th>\n",
       "      <td>Majutsu Gakuin wo Shuseki de Sotsugyoushita Or...</td>\n",
       "      <td>https://myanimelist.net/manga/121002</td>\n",
       "      <td>20.2%</td>\n",
       "    </tr>\n",
       "    <tr>\n",
       "      <th>83</th>\n",
       "      <td>Kiomaru</td>\n",
       "      <td>https://myanimelist.net/manga/13957</td>\n",
       "      <td>20.2%</td>\n",
       "    </tr>\n",
       "    <tr>\n",
       "      <th>84</th>\n",
       "      <td>Ice-Head Gill</td>\n",
       "      <td>https://myanimelist.net/manga/159919</td>\n",
       "      <td>20.1%</td>\n",
       "    </tr>\n",
       "    <tr>\n",
       "      <th>85</th>\n",
       "      <td>Godzilla vs. Space Godzilla</td>\n",
       "      <td>https://myanimelist.net/manga/49053</td>\n",
       "      <td>20.1%</td>\n",
       "    </tr>\n",
       "    <tr>\n",
       "      <th>86</th>\n",
       "      <td>Love Song for Illusion</td>\n",
       "      <td>https://myanimelist.net/manga/158899</td>\n",
       "      <td>20.1%</td>\n",
       "    </tr>\n",
       "    <tr>\n",
       "      <th>87</th>\n",
       "      <td>Magi</td>\n",
       "      <td>https://myanimelist.net/manga/14790</td>\n",
       "      <td>20.1%</td>\n",
       "    </tr>\n",
       "    <tr>\n",
       "      <th>88</th>\n",
       "      <td>Level 0 no Maou-sama, Isekai de Boukensha wo H...</td>\n",
       "      <td>https://myanimelist.net/manga/131015</td>\n",
       "      <td>20.1%</td>\n",
       "    </tr>\n",
       "    <tr>\n",
       "      <th>89</th>\n",
       "      <td>Miniskirt Pirates</td>\n",
       "      <td>https://myanimelist.net/manga/39651</td>\n",
       "      <td>20.1%</td>\n",
       "    </tr>\n",
       "    <tr>\n",
       "      <th>90</th>\n",
       "      <td>Vampire Game</td>\n",
       "      <td>https://myanimelist.net/manga/562</td>\n",
       "      <td>20.0%</td>\n",
       "    </tr>\n",
       "    <tr>\n",
       "      <th>91</th>\n",
       "      <td>Shikkoku no Ten</td>\n",
       "      <td>https://myanimelist.net/manga/97052</td>\n",
       "      <td>20.0%</td>\n",
       "    </tr>\n",
       "    <tr>\n",
       "      <th>92</th>\n",
       "      <td>Zoku Hameln no Violin-hiki</td>\n",
       "      <td>https://myanimelist.net/manga/116662</td>\n",
       "      <td>20.0%</td>\n",
       "    </tr>\n",
       "    <tr>\n",
       "      <th>93</th>\n",
       "      <td>Odunu</td>\n",
       "      <td>https://myanimelist.net/manga/75007</td>\n",
       "      <td>20.0%</td>\n",
       "    </tr>\n",
       "    <tr>\n",
       "      <th>94</th>\n",
       "      <td>Strange and Beautiful</td>\n",
       "      <td>https://myanimelist.net/manga/112481</td>\n",
       "      <td>19.9%</td>\n",
       "    </tr>\n",
       "    <tr>\n",
       "      <th>95</th>\n",
       "      <td>Lyra to Mayonaka 3-ji no Daibouken</td>\n",
       "      <td>https://myanimelist.net/manga/126429</td>\n",
       "      <td>19.9%</td>\n",
       "    </tr>\n",
       "    <tr>\n",
       "      <th>96</th>\n",
       "      <td>Tokyo Bardo</td>\n",
       "      <td>https://myanimelist.net/manga/17097</td>\n",
       "      <td>19.9%</td>\n",
       "    </tr>\n",
       "    <tr>\n",
       "      <th>97</th>\n",
       "      <td>Kokuou Heika no Daimeiwaku na Kyuukon</td>\n",
       "      <td>https://myanimelist.net/manga/120892</td>\n",
       "      <td>19.9%</td>\n",
       "    </tr>\n",
       "    <tr>\n",
       "      <th>98</th>\n",
       "      <td>Ninkyou Tensei: Isekai no Yakuza Hime</td>\n",
       "      <td>https://myanimelist.net/manga/123065</td>\n",
       "      <td>19.9%</td>\n",
       "    </tr>\n",
       "    <tr>\n",
       "      <th>99</th>\n",
       "      <td>Cloth Weaver</td>\n",
       "      <td>https://myanimelist.net/manga/15656</td>\n",
       "      <td>19.8%</td>\n",
       "    </tr>\n",
       "  </tbody>\n",
       "</table>\n",
       "</div>"
      ],
      "text/plain": [
       "                                                Title  \\\n",
       "0                                           One Piece   \n",
       "1                             One Piece: Strong World   \n",
       "2                                   Koisuru One Piece   \n",
       "3                                      King of Viking   \n",
       "4                                        Romance Dawn   \n",
       "5                                         Sunset Rose   \n",
       "6                             Jisshoku! Akuma no Mi!!   \n",
       "7                                              Tramp.   \n",
       "8                Kaizoku Hime: Captain Rose no Bouken   \n",
       "9                           Maou Taiji, Shitenai Hou.   \n",
       "10     Fischer's x One Piece: Nanatsunagi no Daihihou   \n",
       "11                     One Piece: Mugiwara Daigekijou   \n",
       "12  Salaryman ga Isekai ni Ittara Shitennou ni Nat...   \n",
       "13              Mouretsu Pirates: Abyss of Hyperspace   \n",
       "14                          One Piece: Vivi no Bouken   \n",
       "15         Kouchuu Ouja Mushiking: Zach no Bouken-hen   \n",
       "16              One Piece: Roronoa Zoro, Umi ni Chiru   \n",
       "17                               One Piece: Episode A   \n",
       "18  D-kyuu Boukensha no Ore, Nazeka Yuusha Party n...   \n",
       "19                         One Piece: Nami vs. Kalifa   \n",
       "20                                    One Piece Party   \n",
       "21                                   Full Ahead! Coco   \n",
       "22                                           Historie   \n",
       "23     Chopperman: Yuke Yuke! Minna no Chopper-sensei   \n",
       "24                              Kenja no Nagaki Fuzai   \n",
       "25                                            Garudia   \n",
       "26                                         Chopperman   \n",
       "27                                      Naraku no Adu   \n",
       "28                                Jolly Roger☆Fantasy   \n",
       "29                                Coyote Ragtime Show   \n",
       "30                                               Aire   \n",
       "31                                          Xi You Ji   \n",
       "32                                         Spray King   \n",
       "33                                     Miraijin Chaos   \n",
       "34                                  Yi Nian Yong Heng   \n",
       "35                                          Sky Blade   \n",
       "36                                  Monster x Monster   \n",
       "37                                         Souryuuden   \n",
       "38                 Assassin's Creed: Forgotten Temple   \n",
       "39                  Princess Ledalia: Bara no Kaizoku   \n",
       "40                      Shirogane no Ou: Fenrir Craft   \n",
       "41                          Kuroki Hane Mau Sakyuu de   \n",
       "42                                      Oikaze no Jin   \n",
       "43  Fukafuka Dungeon Kouryakuki: Ore no Isekai Ten...   \n",
       "44                                    Shirogane no Ou   \n",
       "45                   Yuusha no Mago to Maou no Musume   \n",
       "46                                         Chin Piece   \n",
       "47                                             Acaria   \n",
       "48                                Saiyuukiden Daienou   \n",
       "49                                               MAPS   \n",
       "50  Doumo, Yuusha no Chichi desu.: Kono Tabi wa Gu...   \n",
       "51                             Magi: Sinbad no Bouken   \n",
       "52                                        Kaiou Dante   \n",
       "53                               Aron's Absurd Armada   \n",
       "54                       Tsuki no Hebi: Suikoden Ibun   \n",
       "55                          Aoki Umi no Toraware Hime   \n",
       "56                                      Yakimon Royal   \n",
       "57                           Dampier no Oishii Bouken   \n",
       "58                             Good Luck, Demon King!   \n",
       "59  Soubiwaku Zero no Saikyou Kenshi: demo, Noroi ...   \n",
       "60                                            Sakugan   \n",
       "61                                            Senyuu.   \n",
       "62                                             Bakuen   \n",
       "63                                  Zelda no Densetsu   \n",
       "64                     Densetsu no Yuusha no Konkatsu   \n",
       "65                                  Zelda no Densetsu   \n",
       "66                                    Ribbon no Kishi   \n",
       "67                                       Vinland Saga   \n",
       "68                                        Cross Epoch   \n",
       "69                                          Angel Arm   \n",
       "70                                     Wizards Nation   \n",
       "71                                 Yo no Na wa Zushio   \n",
       "72                                        Captain Kid   \n",
       "73           Kenja no Deshi wo Nanoru Kenja the Comic   \n",
       "74                                   Doctor's Rebirth   \n",
       "75                                  Scrapped Princess   \n",
       "76                                Ou to Neko no Hihou   \n",
       "77                                          Liling-Po   \n",
       "78                          The King of Fighters: Kyo   \n",
       "79                          Ginga Tetsudou 999 (1996)   \n",
       "80                                    Hunter x Hunter   \n",
       "81                                             Maiwai   \n",
       "82  Majutsu Gakuin wo Shuseki de Sotsugyoushita Or...   \n",
       "83                                            Kiomaru   \n",
       "84                                      Ice-Head Gill   \n",
       "85                        Godzilla vs. Space Godzilla   \n",
       "86                             Love Song for Illusion   \n",
       "87                                               Magi   \n",
       "88  Level 0 no Maou-sama, Isekai de Boukensha wo H...   \n",
       "89                                  Miniskirt Pirates   \n",
       "90                                       Vampire Game   \n",
       "91                                    Shikkoku no Ten   \n",
       "92                         Zoku Hameln no Violin-hiki   \n",
       "93                                              Odunu   \n",
       "94                              Strange and Beautiful   \n",
       "95                 Lyra to Mayonaka 3-ji no Daibouken   \n",
       "96                                        Tokyo Bardo   \n",
       "97              Kokuou Heika no Daimeiwaku na Kyuukon   \n",
       "98              Ninkyou Tensei: Isekai no Yakuza Hime   \n",
       "99                                       Cloth Weaver   \n",
       "\n",
       "                                     URL Similarity  \n",
       "0       https://myanimelist.net/manga/13     100.0%  \n",
       "1    https://myanimelist.net/manga/17152      41.1%  \n",
       "2   https://myanimelist.net/manga/120401      37.9%  \n",
       "3    https://myanimelist.net/manga/25681      31.6%  \n",
       "4     https://myanimelist.net/manga/5114      31.1%  \n",
       "5    https://myanimelist.net/manga/79237      30.8%  \n",
       "6    https://myanimelist.net/manga/25146      29.2%  \n",
       "7    https://myanimelist.net/manga/24123      28.8%  \n",
       "8    https://myanimelist.net/manga/34267      28.5%  \n",
       "9   https://myanimelist.net/manga/152181      28.2%  \n",
       "10  https://myanimelist.net/manga/142772      28.0%  \n",
       "11   https://myanimelist.net/manga/14414      28.0%  \n",
       "12  https://myanimelist.net/manga/124995      27.9%  \n",
       "13   https://myanimelist.net/manga/68781      27.8%  \n",
       "14  https://myanimelist.net/manga/139972      27.3%  \n",
       "15  https://myanimelist.net/manga/119507      26.9%  \n",
       "16  https://myanimelist.net/manga/120865      26.8%  \n",
       "17  https://myanimelist.net/manga/128594      26.5%  \n",
       "18  https://myanimelist.net/manga/146897      26.1%  \n",
       "19  https://myanimelist.net/manga/145980      25.9%  \n",
       "20   https://myanimelist.net/manga/86972      25.7%  \n",
       "21    https://myanimelist.net/manga/9044      25.3%  \n",
       "22    https://myanimelist.net/manga/2924      25.2%  \n",
       "23   https://myanimelist.net/manga/23251      25.1%  \n",
       "24    https://myanimelist.net/manga/3271      24.8%  \n",
       "25   https://myanimelist.net/manga/30897      24.4%  \n",
       "26   https://myanimelist.net/manga/52353      23.9%  \n",
       "27   https://myanimelist.net/manga/94701      23.7%  \n",
       "28   https://myanimelist.net/manga/11237      23.7%  \n",
       "29    https://myanimelist.net/manga/4420      23.6%  \n",
       "30  https://myanimelist.net/manga/151006      23.5%  \n",
       "31   https://myanimelist.net/manga/50219      23.3%  \n",
       "32   https://myanimelist.net/manga/12112      23.3%  \n",
       "33   https://myanimelist.net/manga/22259      23.3%  \n",
       "34  https://myanimelist.net/manga/142102      23.1%  \n",
       "35   https://myanimelist.net/manga/23546      23.1%  \n",
       "36   https://myanimelist.net/manga/71709      23.1%  \n",
       "37   https://myanimelist.net/manga/11792      23.0%  \n",
       "38  https://myanimelist.net/manga/158583      22.9%  \n",
       "39  https://myanimelist.net/manga/115179      22.8%  \n",
       "40   https://myanimelist.net/manga/23903      22.8%  \n",
       "41   https://myanimelist.net/manga/41447      22.6%  \n",
       "42  https://myanimelist.net/manga/139156      22.4%  \n",
       "43  https://myanimelist.net/manga/137039      22.4%  \n",
       "44   https://myanimelist.net/manga/14858      22.2%  \n",
       "45  https://myanimelist.net/manga/106956      22.1%  \n",
       "46  https://myanimelist.net/manga/142771      22.0%  \n",
       "47  https://myanimelist.net/manga/119895      22.0%  \n",
       "48    https://myanimelist.net/manga/5012      21.8%  \n",
       "49    https://myanimelist.net/manga/3818      21.6%  \n",
       "50  https://myanimelist.net/manga/156024      21.6%  \n",
       "51   https://myanimelist.net/manga/48025      21.5%  \n",
       "52   https://myanimelist.net/manga/94347      21.4%  \n",
       "53   https://myanimelist.net/manga/21060      21.4%  \n",
       "54   https://myanimelist.net/manga/71337      21.4%  \n",
       "55   https://myanimelist.net/manga/39163      21.3%  \n",
       "56  https://myanimelist.net/manga/138011      21.3%  \n",
       "57  https://myanimelist.net/manga/142589      21.3%  \n",
       "58   https://myanimelist.net/manga/26955      21.2%  \n",
       "59  https://myanimelist.net/manga/136757      21.2%  \n",
       "60  https://myanimelist.net/manga/152284      21.2%  \n",
       "61   https://myanimelist.net/manga/42531      21.2%  \n",
       "62  https://myanimelist.net/manga/140715      21.1%  \n",
       "63   https://myanimelist.net/manga/20865      21.1%  \n",
       "64   https://myanimelist.net/manga/98577      20.9%  \n",
       "65  https://myanimelist.net/manga/101360      20.8%  \n",
       "66    https://myanimelist.net/manga/1676      20.7%  \n",
       "67     https://myanimelist.net/manga/642      20.7%  \n",
       "68     https://myanimelist.net/manga/881      20.7%  \n",
       "69   https://myanimelist.net/manga/26344      20.6%  \n",
       "70   https://myanimelist.net/manga/18384      20.6%  \n",
       "71     https://myanimelist.net/manga/758      20.6%  \n",
       "72   https://myanimelist.net/manga/19453      20.5%  \n",
       "73  https://myanimelist.net/manga/100377      20.5%  \n",
       "74  https://myanimelist.net/manga/151060      20.5%  \n",
       "75     https://myanimelist.net/manga/516      20.4%  \n",
       "76  https://myanimelist.net/manga/136677      20.4%  \n",
       "77     https://myanimelist.net/manga/434      20.4%  \n",
       "78    https://myanimelist.net/manga/3001      20.4%  \n",
       "79    https://myanimelist.net/manga/9705      20.3%  \n",
       "80      https://myanimelist.net/manga/26      20.3%  \n",
       "81    https://myanimelist.net/manga/8401      20.2%  \n",
       "82  https://myanimelist.net/manga/121002      20.2%  \n",
       "83   https://myanimelist.net/manga/13957      20.2%  \n",
       "84  https://myanimelist.net/manga/159919      20.1%  \n",
       "85   https://myanimelist.net/manga/49053      20.1%  \n",
       "86  https://myanimelist.net/manga/158899      20.1%  \n",
       "87   https://myanimelist.net/manga/14790      20.1%  \n",
       "88  https://myanimelist.net/manga/131015      20.1%  \n",
       "89   https://myanimelist.net/manga/39651      20.1%  \n",
       "90     https://myanimelist.net/manga/562      20.0%  \n",
       "91   https://myanimelist.net/manga/97052      20.0%  \n",
       "92  https://myanimelist.net/manga/116662      20.0%  \n",
       "93   https://myanimelist.net/manga/75007      20.0%  \n",
       "94  https://myanimelist.net/manga/112481      19.9%  \n",
       "95  https://myanimelist.net/manga/126429      19.9%  \n",
       "96   https://myanimelist.net/manga/17097      19.9%  \n",
       "97  https://myanimelist.net/manga/120892      19.9%  \n",
       "98  https://myanimelist.net/manga/123065      19.9%  \n",
       "99   https://myanimelist.net/manga/15656      19.8%  "
      ]
     },
     "execution_count": 92,
     "metadata": {},
     "output_type": "execute_result"
    }
   ],
   "source": [
    "recommend(\"one piece\")"
   ]
  },
  {
   "cell_type": "code",
   "execution_count": null,
   "metadata": {},
   "outputs": [],
   "source": []
  }
 ],
 "metadata": {
  "kernelspec": {
   "display_name": "Python 3",
   "language": "python",
   "name": "python3"
  },
  "language_info": {
   "codemirror_mode": {
    "name": "ipython",
    "version": 3
   },
   "file_extension": ".py",
   "mimetype": "text/x-python",
   "name": "python",
   "nbconvert_exporter": "python",
   "pygments_lexer": "ipython3",
   "version": "3.12.4"
  }
 },
 "nbformat": 4,
 "nbformat_minor": 2
}
